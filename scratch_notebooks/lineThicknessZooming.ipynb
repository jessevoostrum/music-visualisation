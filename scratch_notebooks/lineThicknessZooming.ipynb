{
 "cells": [
  {
   "cell_type": "code",
   "execution_count": null,
   "id": "93c0c6e3",
   "metadata": {},
   "outputs": [],
   "source": [
    "import matplotlib.pyplot as plt\n",
    "\n",
    "from matplotlib.patches import Ellipse, Rectangle\n"
   ]
  },
  {
   "cell_type": "code",
   "execution_count": null,
   "id": "b4f5e681",
   "metadata": {},
   "outputs": [],
   "source": [
    "fig, ax = plt.subplots()\n",
    "\n",
    "ax.vlines(0.5, 0.2, 1, linewidth = 0.2)\n",
    "\n",
    "patch = Rectangle((0.45, 0.2), width=.003, height=.5, color='grey', fill=True, zorder=.5, )\n",
    "ax.add_patch(patch)\n",
    "\n",
    "ax.set_xlim(0,1)\n",
    "\n",
    "ax.hlines(.2, 0, 1, linewidth = 0.1, color='red')\n",
    "\n",
    "fig.savefig('output/lineThickness.pdf')"
   ]
  }
 ],
 "metadata": {
  "kernelspec": {
   "display_name": "Python 3 (ipykernel)",
   "language": "python",
   "name": "python3"
  },
  "language_info": {
   "codemirror_mode": {
    "name": "ipython",
    "version": 3
   },
   "file_extension": ".py",
   "mimetype": "text/x-python",
   "name": "python",
   "nbconvert_exporter": "python",
   "pygments_lexer": "ipython3",
   "version": "3.9.15"
  }
 },
 "nbformat": 4,
 "nbformat_minor": 5
}
