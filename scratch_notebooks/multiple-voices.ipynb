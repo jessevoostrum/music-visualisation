{
 "cells": [
  {
   "cell_type": "markdown",
   "id": "d1986609",
   "metadata": {},
   "source": [
    "the voice of a note can be accessed through:\n",
    "\n",
    "```firstNote = s[note.Note][0]\n",
    "v = firstNote.containerHierarchy()[0]\n",
    "v.id \n",
    "```\n"
   ]
  },
  {
   "cell_type": "code",
   "execution_count": null,
   "id": "7af3f495",
   "metadata": {},
   "outputs": [],
   "source": [
    "from music21 import *"
   ]
  },
  {
   "cell_type": "code",
   "execution_count": null,
   "id": "521a3f8b",
   "metadata": {},
   "outputs": [],
   "source": [
    "s = converter.parse(\"/Users/jvo/Documents/music-visualisation/output/output-standards-ultime/Baby It's Cold Outside.mxl\")\n"
   ]
  },
  {
   "cell_type": "code",
   "execution_count": null,
   "id": "167045c5",
   "metadata": {},
   "outputs": [],
   "source": [
    "s.show('text')"
   ]
  },
  {
   "cell_type": "code",
   "execution_count": null,
   "id": "784a94fb",
   "metadata": {},
   "outputs": [],
   "source": [
    "firstNote = s[note.Note][1]\n",
    "v = firstNote.containerHierarchy()\n",
    "v[0].id == '1'"
   ]
  },
  {
   "cell_type": "code",
   "execution_count": null,
   "id": "79cf171b",
   "metadata": {},
   "outputs": [],
   "source": [
    "type(v[0]) == stream.Voice"
   ]
  },
  {
   "cell_type": "code",
   "execution_count": null,
   "id": "3bbe1d62",
   "metadata": {},
   "outputs": [],
   "source": [
    "dir(v)"
   ]
  },
  {
   "cell_type": "code",
   "execution_count": null,
   "id": "b94f7b29",
   "metadata": {},
   "outputs": [],
   "source": [
    "for el in s[note.Note]:\n",
    "    print(el)"
   ]
  }
 ],
 "metadata": {
  "kernelspec": {
   "display_name": "Python 3 (ipykernel)",
   "language": "python",
   "name": "python3"
  },
  "language_info": {
   "codemirror_mode": {
    "name": "ipython",
    "version": 3
   },
   "file_extension": ".py",
   "mimetype": "text/x-python",
   "name": "python",
   "nbconvert_exporter": "python",
   "pygments_lexer": "ipython3",
   "version": "3.9.15"
  }
 },
 "nbformat": 4,
 "nbformat_minor": 5
}
