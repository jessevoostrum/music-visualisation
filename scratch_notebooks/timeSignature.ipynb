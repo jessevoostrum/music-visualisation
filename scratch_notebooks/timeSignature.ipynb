{
 "cells": [
  {
   "cell_type": "code",
   "execution_count": null,
   "id": "3fda146b",
   "metadata": {},
   "outputs": [],
   "source": [
    "from music21 import *"
   ]
  },
  {
   "cell_type": "code",
   "execution_count": null,
   "id": "e6eb9982",
   "metadata": {},
   "outputs": [],
   "source": [
    "song = \"/Users/jvo/Library/Mobile Documents/com~apple~CloudDocs/bladmuziek/test-files/repeat-barline.mxl\"\n",
    "song2 = \"/Users/jvo/Library/Mobile Documents/com~apple~CloudDocs/bladmuziek/standards_musescore/Alone_Together.mxl\"\n",
    "\n",
    "s = converter.parse(song2)"
   ]
  },
  {
   "cell_type": "code",
   "execution_count": null,
   "id": "cf7bc3c6",
   "metadata": {},
   "outputs": [],
   "source": [
    "s.show(\"text\")"
   ]
  },
  {
   "cell_type": "code",
   "execution_count": null,
   "id": "5d4caefb",
   "metadata": {},
   "outputs": [],
   "source": [
    "s.recurse().getElementsByClass(stream.Measure)[1]"
   ]
  },
  {
   "cell_type": "code",
   "execution_count": null,
   "id": "9c6cf22d",
   "metadata": {},
   "outputs": [],
   "source": [
    "ts = s[meter.TimeSignature][0]"
   ]
  },
  {
   "cell_type": "code",
   "execution_count": null,
   "id": "58aed7b8",
   "metadata": {},
   "outputs": [],
   "source": [
    "ts.offset"
   ]
  },
  {
   "cell_type": "code",
   "execution_count": null,
   "id": "d7671c14",
   "metadata": {},
   "outputs": [],
   "source": [
    "ts.numerator\n",
    "ts.denominator"
   ]
  },
  {
   "cell_type": "code",
   "execution_count": null,
   "id": "dc17898f",
   "metadata": {},
   "outputs": [],
   "source": [
    "dir(ts)"
   ]
  },
  {
   "cell_type": "code",
   "execution_count": null,
   "id": "80eb5607",
   "metadata": {},
   "outputs": [],
   "source": [
    "# s.show(\"text\")\n",
    "for measure in s.recurse().getElementsByClass(stream.Measure):\n",
    "    if measure[meter.TimeSignature]:\n",
    "        print(measure[meter.TimeSignature][0])\n",
    "    else:\n",
    "        print('no')\n",
    "\n"
   ]
  },
  {
   "cell_type": "code",
   "execution_count": null,
   "id": "2c2c8902",
   "metadata": {},
   "outputs": [],
   "source": [
    "s.measure(3).show(\"text\")"
   ]
  },
  {
   "cell_type": "code",
   "execution_count": null,
   "id": "8d4b9292",
   "metadata": {},
   "outputs": [],
   "source": [
    "p = analysis.discrete.Ambitus()\n",
    "ps = p.getPitchSpan(s)\n",
    "# pitchSpan = [int(thisPitch.ps) for thisPitch in p.getPitchSpan(s)]"
   ]
  },
  {
   "cell_type": "code",
   "execution_count": null,
   "id": "04845a54",
   "metadata": {},
   "outputs": [],
   "source": [
    "type(ps)"
   ]
  },
  {
   "cell_type": "code",
   "execution_count": null,
   "id": "7c64212e",
   "metadata": {},
   "outputs": [],
   "source": []
  }
 ],
 "metadata": {
  "kernelspec": {
   "display_name": "Python 3 (ipykernel)",
   "language": "python",
   "name": "python3"
  },
  "language_info": {
   "codemirror_mode": {
    "name": "ipython",
    "version": 3
   },
   "file_extension": ".py",
   "mimetype": "text/x-python",
   "name": "python",
   "nbconvert_exporter": "python",
   "pygments_lexer": "ipython3",
   "version": "3.8.12"
  }
 },
 "nbformat": 4,
 "nbformat_minor": 5
}
