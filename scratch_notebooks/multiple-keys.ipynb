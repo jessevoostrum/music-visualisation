{
 "cells": [
  {
   "cell_type": "code",
   "execution_count": null,
   "id": "c2450a72",
   "metadata": {},
   "outputs": [],
   "source": [
    "from music21 import *"
   ]
  },
  {
   "cell_type": "code",
   "execution_count": null,
   "id": "17bbd699",
   "metadata": {},
   "outputs": [],
   "source": [
    "song38 = \"/Users/jvo/Library/Mobile Documents/com~apple~CloudDocs/bladmuziek/bass_lines_SBL/King Kunta2.musicxml\"\n",
    "\n",
    "s = converter.parse(song38)"
   ]
  },
  {
   "cell_type": "code",
   "execution_count": null,
   "id": "3233abf0",
   "metadata": {},
   "outputs": [],
   "source": [
    "s.show(\"text\")"
   ]
  },
  {
   "cell_type": "code",
   "execution_count": null,
   "id": "f3dc1eae",
   "metadata": {},
   "outputs": [],
   "source": [
    "s = converter.parse(\"/Users/jvo/Library/Mobile Documents/com~apple~CloudDocs/bladmuziek/test-files/key-signature-multiple.musicxml\")\n",
    "\n",
    "s = converter.parse(\"/Users/jvo/Library/Mobile Documents/com~apple~CloudDocs/bladmuziek/test-files/key-signature-multiple-without-mode.musicxml\")"
   ]
  },
  {
   "cell_type": "code",
   "execution_count": null,
   "id": "9b527c95",
   "metadata": {},
   "outputs": [],
   "source": [
    "s.show(\"text\")"
   ]
  },
  {
   "cell_type": "code",
   "execution_count": null,
   "id": "544f9630",
   "metadata": {},
   "outputs": [],
   "source": [
    "for k in s[key.Key, key.KeySignature]:\n",
    "    print(k)\n",
    "    "
   ]
  },
  {
   "cell_type": "code",
   "execution_count": null,
   "id": "3c3206a9",
   "metadata": {},
   "outputs": [],
   "source": [
    "k = s[key.Key, key.KeySignature][1]\n",
    "k.relative.getOffsetInHierarchy(s)"
   ]
  },
  {
   "cell_type": "code",
   "execution_count": null,
   "id": "37932ee4",
   "metadata": {},
   "outputs": [],
   "source": [
    "for k in s[key.Key]:\n",
    "    print(k.getOffsetInHierarchy(s))"
   ]
  },
  {
   "cell_type": "code",
   "execution_count": null,
   "id": "bd65d141",
   "metadata": {},
   "outputs": [],
   "source": [
    "offset = 18\n",
    "\n",
    "for k in s[key.Key]:\n",
    "    offsetKey = k.getOffsetInHierarchy(s)\n",
    "    if offset >= offsetKey:\n",
    "        lastKey = k\n",
    "    else:\n",
    "        break\n",
    "\n",
    "print(lastKey)\n"
   ]
  },
  {
   "cell_type": "code",
   "execution_count": null,
   "id": "d1ba8916",
   "metadata": {},
   "outputs": [],
   "source": [
    "if not ggg:\n",
    "    print('yes')"
   ]
  }
 ],
 "metadata": {
  "kernelspec": {
   "display_name": "Python 3 (ipykernel)",
   "language": "python",
   "name": "python3"
  },
  "language_info": {
   "codemirror_mode": {
    "name": "ipython",
    "version": 3
   },
   "file_extension": ".py",
   "mimetype": "text/x-python",
   "name": "python",
   "nbconvert_exporter": "python",
   "pygments_lexer": "ipython3",
   "version": "3.9.15"
  }
 },
 "nbformat": 4,
 "nbformat_minor": 5
}
