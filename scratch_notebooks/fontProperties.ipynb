{
 "cells": [
  {
   "cell_type": "code",
   "execution_count": null,
   "id": "c479e907",
   "metadata": {},
   "outputs": [],
   "source": [
    "import matplotlib.font_manager as fm\n",
    "import matplotlib.pyplot as plt\n",
    "from matplotlib import rcParams\n"
   ]
  },
  {
   "cell_type": "code",
   "execution_count": null,
   "id": "7a6f64fe",
   "metadata": {},
   "outputs": [],
   "source": []
  },
  {
   "cell_type": "code",
   "execution_count": null,
   "id": "99d5a99e",
   "metadata": {},
   "outputs": [],
   "source": [
    "fontDir = \"/Users/jvo/Library/Mobile Documents/com~apple~CloudDocs/fonts/Merriweather\"\n",
    "\n",
    "for font in fm.findSystemFonts(fontDir):\n",
    "    fm.fontManager.addfont(font)"
   ]
  },
  {
   "cell_type": "code",
   "execution_count": null,
   "id": "98e3dd50",
   "metadata": {},
   "outputs": [],
   "source": [
    "rcParams['font.family'] = 'Merriweather'\n"
   ]
  },
  {
   "cell_type": "code",
   "execution_count": null,
   "id": "e66b58b6",
   "metadata": {},
   "outputs": [],
   "source": [
    "fp2 = fm.FontProperties('DejaVu Sans')"
   ]
  },
  {
   "cell_type": "code",
   "execution_count": null,
   "id": "ec843149",
   "metadata": {},
   "outputs": [],
   "source": [
    "fig, ax = plt.subplots()\n",
    "\n",
    "fontDirectory = \"/Users/jvo/Documents/music-visualisation/sample/fonts/\"\n",
    "\n",
    "fp1 = fm.FontProperties(fname=fontDirectory + \"symbola/Symbola.ttf\")\n",
    "\n",
    "ax.text(0.5,0.5, \"hallo\", fontproperties=None, fontsize=30)\n",
    "ax.text(0.5,0.2, \"hallo\", fontproperties=fp1, fontsize=30)\n",
    "ax.text(0.5,0, \"hallo\", fontproperties=fp2, fontsize=30)\n",
    "\n"
   ]
  },
  {
   "cell_type": "code",
   "execution_count": null,
   "id": "9b4375a4",
   "metadata": {},
   "outputs": [],
   "source": []
  }
 ],
 "metadata": {
  "kernelspec": {
   "display_name": "Python 3 (ipykernel)",
   "language": "python",
   "name": "python3"
  },
  "language_info": {
   "codemirror_mode": {
    "name": "ipython",
    "version": 3
   },
   "file_extension": ".py",
   "mimetype": "text/x-python",
   "name": "python",
   "nbconvert_exporter": "python",
   "pygments_lexer": "ipython3",
   "version": "3.9.15"
  }
 },
 "nbformat": 4,
 "nbformat_minor": 5
}
