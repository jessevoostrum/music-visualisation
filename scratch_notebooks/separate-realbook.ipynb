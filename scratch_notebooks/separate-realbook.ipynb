{
 "cells": [
  {
   "cell_type": "markdown",
   "id": "1e6f96c6",
   "metadata": {},
   "source": [
    "## Errors \n",
    "\n",
    "- not every songs starts with keysignature, time indication\n",
    "- keysignature should be added (not necessarily in C when it is missing)\n"
   ]
  },
  {
   "cell_type": "code",
   "execution_count": null,
   "id": "c6408298",
   "metadata": {},
   "outputs": [],
   "source": [
    "from music21 import *\n",
    "import copy"
   ]
  },
  {
   "cell_type": "code",
   "execution_count": null,
   "id": "ca9d3e88",
   "metadata": {},
   "outputs": [],
   "source": [
    "sa = converter.parse(\"/Users/jvo/Library/Mobile Documents/com~apple~CloudDocs/bladmuziek/realbooks/Ultime_Jazz_Real_Book_-_A.mxl\")\n",
    "sb = converter.parse(\"/Users/jvo/Library/Mobile Documents/com~apple~CloudDocs/bladmuziek/realbooks/Ultime_Jazz_Real_Book_-_B.mxl\")"
   ]
  },
  {
   "cell_type": "code",
   "execution_count": null,
   "id": "eadf559e",
   "metadata": {},
   "outputs": [],
   "source": [
    "s = sb"
   ]
  },
  {
   "cell_type": "code",
   "execution_count": null,
   "id": "7d3ba513",
   "metadata": {},
   "outputs": [],
   "source": [
    "# offsetStarts = [keyStart.getOffsetInHierarchy(s) for keyStart in s[key.KeySignature]]\n",
    "offsetsStartPage = [0] + [el.getOffsetInHierarchy(s) for el in s[layout.PageLayout]]"
   ]
  },
  {
   "cell_type": "code",
   "execution_count": null,
   "id": "dd84d96d",
   "metadata": {},
   "outputs": [],
   "source": [
    "len(offsetsStartPage)"
   ]
  },
  {
   "cell_type": "code",
   "execution_count": null,
   "id": "843c5f31",
   "metadata": {},
   "outputs": [],
   "source": [
    "metadataPerPage = [[page,None,None] for page in range(1,len(offsetsStartPage) + 1)]\n",
    "\n",
    "for tb in s[text.TextBox]:\n",
    "    if tb.page > len(offsetsStartPage):\n",
    "        continue\n",
    "    \n",
    "    if tb.style.justify == 'right':\n",
    "        metadataPerPage[tb.page-1][2] = tb.content\n",
    "        \n",
    "    if tb.style.justify == 'center' and not metadataPerPage[tb.page-1][1]:\n",
    "        metadataPerPage[tb.page-1][1] = tb.content\n",
    "\n",
    "metadataPerPage"
   ]
  },
  {
   "cell_type": "code",
   "execution_count": null,
   "id": "bebfdea6",
   "metadata": {},
   "outputs": [],
   "source": [
    "noStartIdx = []\n",
    "\n",
    "for i, datum in enumerate(metadataPerPage):\n",
    "    if not datum[2]:\n",
    "        noStartIdx.append(i)\n",
    "\n",
    "offsetsStartSong = [offset for i, offset in enumerate(offsetsStartPage) if i not in noStartIdx]\n",
    "metadataSongs = [datum for i, datum in enumerate(metadataPerPage) if i not in noStartIdx]\n",
    "offsetsStartSong\n"
   ]
  },
  {
   "cell_type": "code",
   "execution_count": null,
   "id": "3fefaad2",
   "metadata": {},
   "outputs": [],
   "source": [
    "measureNumbersStartSong = []\n",
    "measures = s[stream.Measure]\n",
    "j = 1\n",
    "for i in range(len(measures)):\n",
    "    if measures[i].offset in offsetsStartSong:\n",
    "        measureNumbersStartSong.append(measures[i].number)\n",
    "\n",
    "#         indexPrevMeasure = max(0,i-1)\n",
    "#         barlinePrevMeasure = measures[indexPrevMeasure][bar.Barline].last()\n",
    "#         if barlinePrevMeasure and barlinePrevMeasure.type=='final' or True:\n",
    "#             measureNumbersStart.append(measures[i].number)\n",
    "\n",
    "lastMeasureNumber = s[stream.Measure][-1].number\n",
    "measureNumbersStartEndSong = []\n",
    "\n",
    "for measureNumberStart, measureNumberStartNext in zip(measureNumbersStartSong, measureNumbersStartSong[1:]):\n",
    "    measureNumbersStartEndSong.append((measureNumberStart, measureNumberStartNext))\n",
    "\n",
    "measureNumbersStartEndSong.append((measureNumbersStartSong[-1], lastMeasureNumber))\n",
    "\n",
    "len(measureNumbersStartEndSong)"
   ]
  },
  {
   "cell_type": "code",
   "execution_count": null,
   "id": "fad82245",
   "metadata": {},
   "outputs": [],
   "source": [
    "songs = []\n",
    "for measureNumberStart, measureNumberEnd in measureNumbersStartEndSong:\n",
    "    songs.append(s.measures(measureNumberStart, measureNumberEnd - 1))\n",
    "\n",
    "    "
   ]
  },
  {
   "cell_type": "code",
   "execution_count": null,
   "id": "5c7d6d16",
   "metadata": {},
   "outputs": [],
   "source": [
    "for i, song in enumerate(songs):\n",
    "        \n",
    "    song.insert(0, metadata.Metadata())\n",
    "    song.metadata.title = metadataSongs[i][1]\n",
    "    song.metadata.composer = metadataSongs[i][2]\n",
    "    \n",
    "    song.write(\"musicxml\", f\"output-realbook/{song.metadata.title}.musicxml\")\n"
   ]
  },
  {
   "cell_type": "code",
   "execution_count": null,
   "id": "f4075d8c",
   "metadata": {},
   "outputs": [],
   "source": []
  }
 ],
 "metadata": {
  "kernelspec": {
   "display_name": "Python 3 (ipykernel)",
   "language": "python",
   "name": "python3"
  },
  "language_info": {
   "codemirror_mode": {
    "name": "ipython",
    "version": 3
   },
   "file_extension": ".py",
   "mimetype": "text/x-python",
   "name": "python",
   "nbconvert_exporter": "python",
   "pygments_lexer": "ipython3",
   "version": "3.9.15"
  }
 },
 "nbformat": 4,
 "nbformat_minor": 5
}
