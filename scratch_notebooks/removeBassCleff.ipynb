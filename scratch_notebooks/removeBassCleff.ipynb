{
 "cells": [
  {
   "cell_type": "code",
   "execution_count": null,
   "id": "86d852f8",
   "metadata": {},
   "outputs": [],
   "source": [
    "from music21 import *"
   ]
  },
  {
   "cell_type": "code",
   "execution_count": null,
   "id": "f4b7052d",
   "metadata": {},
   "outputs": [],
   "source": [
    "s = converter.parse(\"/Users/jvo/Documents/music-visualisation/testsuite/11b-TimeSignatures-NoTime.musicxml\")"
   ]
  },
  {
   "cell_type": "code",
   "execution_count": null,
   "id": "fddc4855",
   "metadata": {},
   "outputs": [],
   "source": [
    "staff2 = s[stream.PartStaff][0]"
   ]
  },
  {
   "cell_type": "code",
   "execution_count": null,
   "id": "4e9b4fc6",
   "metadata": {},
   "outputs": [],
   "source": [
    "s.measures(1,1).show(\"text\")"
   ]
  },
  {
   "cell_type": "code",
   "execution_count": null,
   "id": "0e3a41a5",
   "metadata": {},
   "outputs": [],
   "source": [
    "s.remove(staff2)"
   ]
  },
  {
   "cell_type": "code",
   "execution_count": null,
   "id": "b6554a9e",
   "metadata": {},
   "outputs": [],
   "source": [
    "s.show(\"text\")"
   ]
  }
 ],
 "metadata": {
  "kernelspec": {
   "display_name": "Python 3 (ipykernel)",
   "language": "python",
   "name": "python3"
  },
  "language_info": {
   "codemirror_mode": {
    "name": "ipython",
    "version": 3
   },
   "file_extension": ".py",
   "mimetype": "text/x-python",
   "name": "python",
   "nbconvert_exporter": "python",
   "pygments_lexer": "ipython3",
   "version": "3.9.15"
  }
 },
 "nbformat": 4,
 "nbformat_minor": 5
}
