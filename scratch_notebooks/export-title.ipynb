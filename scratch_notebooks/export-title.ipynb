{
 "cells": [
  {
   "cell_type": "code",
   "execution_count": null,
   "id": "121341c6",
   "metadata": {},
   "outputs": [],
   "source": [
    "from music21 import *"
   ]
  },
  {
   "cell_type": "code",
   "execution_count": null,
   "id": "ac4eb38a",
   "metadata": {},
   "outputs": [],
   "source": [
    "s = stream.Score()\n",
    "p = stream.Part()\n",
    "m = stream.Measure()\n",
    "m.append(note.Note())\n",
    "p.append(m)\n",
    "s.append(p)\n",
    "s.insert(0, metadata.Metadata())\n",
    "s.metadata.title = 'title'\n",
    "s.metadata.composer = 'composer'\n",
    "s.show()"
   ]
  },
  {
   "cell_type": "code",
   "execution_count": null,
   "id": "231ccaef",
   "metadata": {},
   "outputs": [],
   "source": [
    "s.write('musicxml', 'output/metadata-test.musicxml')"
   ]
  },
  {
   "cell_type": "code",
   "execution_count": null,
   "id": "ce91e025",
   "metadata": {},
   "outputs": [],
   "source": [
    "s2 = converter.parse('output/metadata-test.musicxml')"
   ]
  },
  {
   "cell_type": "code",
   "execution_count": null,
   "id": "71f74ebc",
   "metadata": {},
   "outputs": [],
   "source": [
    "s2.show()"
   ]
  },
  {
   "cell_type": "code",
   "execution_count": null,
   "id": "61a55c72",
   "metadata": {},
   "outputs": [],
   "source": [
    "s2.metadata.title"
   ]
  },
  {
   "cell_type": "code",
   "execution_count": null,
   "id": "1993a5f3",
   "metadata": {},
   "outputs": [],
   "source": [
    "s2.metadata.movementName"
   ]
  },
  {
   "cell_type": "code",
   "execution_count": null,
   "id": "48030ada",
   "metadata": {},
   "outputs": [],
   "source": [
    "s2.write('musicxml', 'output/metadata-test-2.musicxml')"
   ]
  },
  {
   "cell_type": "code",
   "execution_count": null,
   "id": "4225e4be",
   "metadata": {},
   "outputs": [],
   "source": [
    "s3 = converter.parse(\"/Users/jvo/Library/Mobile Documents/com~apple~CloudDocs/bladmuziek/test-files/metadata-input-musescore2.musicxml\")\n"
   ]
  },
  {
   "cell_type": "code",
   "execution_count": null,
   "id": "457f354c",
   "metadata": {},
   "outputs": [],
   "source": [
    "s3.metadata.title"
   ]
  },
  {
   "cell_type": "code",
   "execution_count": null,
   "id": "73ecbacb",
   "metadata": {},
   "outputs": [],
   "source": [
    "s3.metadata.movementName"
   ]
  },
  {
   "cell_type": "code",
   "execution_count": null,
   "id": "1e138603",
   "metadata": {},
   "outputs": [],
   "source": [
    "s3.write('musicxml', 'output/metadata-input-musescore-music21-saved')"
   ]
  },
  {
   "cell_type": "code",
   "execution_count": null,
   "id": "7317cb80",
   "metadata": {},
   "outputs": [],
   "source": [
    "s3b = converter.parse('output/metadata-input-musescore-music21-saved.musicxml')"
   ]
  },
  {
   "cell_type": "code",
   "execution_count": null,
   "id": "a83cc0ef",
   "metadata": {},
   "outputs": [],
   "source": [
    "s3b.metadata.title"
   ]
  },
  {
   "cell_type": "code",
   "execution_count": null,
   "id": "7a217f33",
   "metadata": {},
   "outputs": [],
   "source": [
    "s5 = converter.parse(\"/Users/jvo/Documents/music-visualisation/tutorial_notebooks/output/metadata-test-edit2.musicxml\")\n",
    "s5.metadata.title"
   ]
  },
  {
   "cell_type": "code",
   "execution_count": null,
   "id": "68de2453",
   "metadata": {},
   "outputs": [],
   "source": [
    "s4 = converter.parse(\"/Users/jvo/Documents/music-visualisation/tutorial_notebooks/output/metadata-test-edited.musicxml\")"
   ]
  },
  {
   "cell_type": "code",
   "execution_count": null,
   "id": "476fe7aa",
   "metadata": {},
   "outputs": [],
   "source": [
    "s4.metadata.title"
   ]
  },
  {
   "cell_type": "code",
   "execution_count": null,
   "id": "df5176bc",
   "metadata": {},
   "outputs": [],
   "source": [
    "s5 = converter.parse(\"/Users/jvo/Documents/music-visualisation/tutorial_notebooks/output/metadata2.musicxml\")"
   ]
  },
  {
   "cell_type": "code",
   "execution_count": null,
   "id": "a294a2c5",
   "metadata": {},
   "outputs": [],
   "source": [
    "s5.metadata.title"
   ]
  }
 ],
 "metadata": {
  "kernelspec": {
   "display_name": "Python 3 (ipykernel)",
   "language": "python",
   "name": "python3"
  },
  "language_info": {
   "codemirror_mode": {
    "name": "ipython",
    "version": 3
   },
   "file_extension": ".py",
   "mimetype": "text/x-python",
   "name": "python",
   "nbconvert_exporter": "python",
   "pygments_lexer": "ipython3",
   "version": "3.10.8"
  }
 },
 "nbformat": 4,
 "nbformat_minor": 5
}
