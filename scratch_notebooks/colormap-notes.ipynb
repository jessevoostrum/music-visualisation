{
 "cells": [
  {
   "cell_type": "markdown",
   "id": "7b216666",
   "metadata": {},
   "source": [
    "see https://colorcet.holoviz.org/user_guide/Continuous.html for more types of cyclic colormaps"
   ]
  },
  {
   "cell_type": "code",
   "execution_count": null,
   "id": "320ca640",
   "metadata": {},
   "outputs": [],
   "source": [
    "import numpy as np\n",
    "import colorcet as cc\n",
    "import matplotlib.pyplot as plt\n",
    "from matplotlib import cm"
   ]
  },
  {
   "cell_type": "code",
   "execution_count": null,
   "id": "9689f860",
   "metadata": {},
   "outputs": [],
   "source": [
    "def mixColors(firstColor, secondColor, fractionFirstColor):\n",
    "    fractionSecondColor = 1 - fractionFirstColor\n",
    "    color = (fractionFirstColor * firstColor[0] + fractionSecondColor * secondColor[0],\n",
    "            fractionFirstColor * firstColor[1] + fractionSecondColor * secondColor[1],\n",
    "            fractionFirstColor * firstColor[2] + fractionSecondColor * secondColor[2])\n",
    "    return color\n",
    "\n",
    "def getColor(x):\n",
    "    firstColor = (0,0,1)\n",
    "    secondColor = (1,0,0)\n",
    "    thirdColor = (0,1,0)\n",
    "    if x < (1/3):\n",
    "        fraction = (1/3 - x) * 3\n",
    "        color = mixColors(firstColor, secondColor, fraction)\n",
    "    elif x < (2/3):\n",
    "        fraction = (2/3 - x) * 3\n",
    "        color = mixColors(secondColor, thirdColor, fraction)\n",
    "    else:\n",
    "        fraction = (1 - x) * 3\n",
    "        color = mixColors(thirdColor, firstColor, fraction)\n",
    "    return color\n"
   ]
  },
  {
   "cell_type": "code",
   "execution_count": null,
   "id": "8cb955ba",
   "metadata": {},
   "outputs": [],
   "source": [
    "labels = [0, 7, 2, 9, 4, 11, 6, 1, 8, 3, 10, 5]\n",
    "labels = [1, 5, 2, 6, 3, 7, '#4/b5', '#1/b2', '#5/b6', '#2/b3', '#6/b7', '4']\n",
    "\n",
    "sizes = [1] * 12\n",
    "\n",
    "cmap = cc.cm.colorwheel\n",
    "# cmap = cm.twilight\n",
    "\n",
    "\n",
    "# compute alphas\n",
    "lowestAlpha = 0.2\n",
    "highestAlpha = 0.4\n",
    "firstAlphas = np.linspace(lowestAlpha,highestAlpha,6, endpoint=False)\n",
    "lastAlphas = np.linspace(highestAlpha,lowestAlpha,6, endpoint=False)\n",
    "alphas = np.concatenate((firstAlphas, lastAlphas))\n",
    "\n",
    "colors = [cmap(i/12, alpha = alphas[i]) for i in range(12)]\n",
    "# colors = [getColor(i/12) for i in range(12)]\n",
    "#colors[0] = (0,0,1,.2)\n",
    "#colors[1] = (0.45, 0.16, 0.97129, 0.275)\n",
    "\n",
    "fig1, ax1 = plt.subplots()\n",
    "ax1.pie(sizes, labels=labels, startangle=105, colors=colors, #wedgeprops = {\"alpha\": .2}, \n",
    "        counterclock=False,\n",
    "       labeldistance=0.75, textprops = dict(ha='center')) \n",
    "\n",
    "ax1.axis('equal')  # Equal aspect ratio ensures that pie is drawn as a circle.\n",
    "\n",
    "plt.show()"
   ]
  },
  {
   "cell_type": "code",
   "execution_count": null,
   "id": "9d4a7977",
   "metadata": {},
   "outputs": [],
   "source": []
  },
  {
   "cell_type": "code",
   "execution_count": null,
   "id": "361dd022",
   "metadata": {},
   "outputs": [],
   "source": []
  }
 ],
 "metadata": {
  "kernelspec": {
   "display_name": "Python 3 (ipykernel)",
   "language": "python",
   "name": "python3"
  },
  "language_info": {
   "codemirror_mode": {
    "name": "ipython",
    "version": 3
   },
   "file_extension": ".py",
   "mimetype": "text/x-python",
   "name": "python",
   "nbconvert_exporter": "python",
   "pygments_lexer": "ipython3",
   "version": "3.9.15"
  }
 },
 "nbformat": 4,
 "nbformat_minor": 5
}
