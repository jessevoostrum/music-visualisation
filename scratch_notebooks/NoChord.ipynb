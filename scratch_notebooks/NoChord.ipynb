{
 "cells": [
  {
   "cell_type": "code",
   "execution_count": null,
   "id": "1132951e",
   "metadata": {},
   "outputs": [],
   "source": [
    "from music21 import *"
   ]
  },
  {
   "cell_type": "code",
   "execution_count": null,
   "id": "4dc2d2e1",
   "metadata": {},
   "outputs": [],
   "source": [
    "s = converter.parse(\"/Users/jvo/Library/Mobile Documents/com~apple~CloudDocs/bladmuziek/DickSchmitt/2022 -- This Magic Moment RJS Mod.musicxml\"\n",
    ")"
   ]
  },
  {
   "cell_type": "code",
   "execution_count": null,
   "id": "16efc209",
   "metadata": {},
   "outputs": [],
   "source": [
    "chords = s.flat.getElementsByClass('ChordSymbol')\n"
   ]
  },
  {
   "cell_type": "code",
   "execution_count": null,
   "id": "3852e2a2",
   "metadata": {},
   "outputs": [],
   "source": [
    "c = chords[4]\n",
    "c.fullName"
   ]
  },
  {
   "cell_type": "code",
   "execution_count": null,
   "id": "ac48fe63",
   "metadata": {},
   "outputs": [],
   "source": [
    "c.chordKind"
   ]
  },
  {
   "cell_type": "code",
   "execution_count": null,
   "id": "e552d9a0",
   "metadata": {},
   "outputs": [],
   "source": [
    "c.offset"
   ]
  }
 ],
 "metadata": {
  "kernelspec": {
   "display_name": "Python 3 (ipykernel)",
   "language": "python",
   "name": "python3"
  },
  "language_info": {
   "codemirror_mode": {
    "name": "ipython",
    "version": 3
   },
   "file_extension": ".py",
   "mimetype": "text/x-python",
   "name": "python",
   "nbconvert_exporter": "python",
   "pygments_lexer": "ipython3",
   "version": "3.9.15"
  }
 },
 "nbformat": 4,
 "nbformat_minor": 5
}
