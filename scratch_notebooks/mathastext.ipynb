{
 "cells": [
  {
   "cell_type": "code",
   "execution_count": null,
   "id": "9332113b",
   "metadata": {},
   "outputs": [],
   "source": [
    "import matplotlib.font_manager as font_manager\n",
    "from matplotlib import rcParams, rc\n",
    "import matplotlib.pyplot as plt"
   ]
  },
  {
   "cell_type": "code",
   "execution_count": null,
   "id": "1ad69f88",
   "metadata": {},
   "outputs": [],
   "source": [
    "# Add every font at the specified location\n",
    "font_dir = ['/Users/jvo/Library/Mobile Documents/com~apple~CloudDocs/fonts/Vulf Mono/Vulf Mono/Desktop']\n",
    "for font in font_manager.findSystemFonts(font_dir):\n",
    "    font_manager.fontManager.addfont(font)"
   ]
  },
  {
   "cell_type": "code",
   "execution_count": null,
   "id": "0b688a65",
   "metadata": {},
   "outputs": [],
   "source": [
    "# Set font family globally\n",
    "rcParams['font.family'] = 'Vulf Mono'\n",
    "rcParams['font.style'] = 'italic'\n",
    "rcParams['font.weight'] = 'light'\n",
    "rcParams['mathtext.fontset'] = 'dejavusans'"
   ]
  },
  {
   "cell_type": "code",
   "execution_count": null,
   "id": "5c23a5b5",
   "metadata": {},
   "outputs": [],
   "source": [
    "# rc('text.latex', preamble=r'\\usepackage{amssymb, amsmath}')\n",
    "#ax.set_ylim(0,1)\n",
    "#ax.text(.4, .5, \"$\\mathdefault{5}$\", size=100, va='bottom')\n",
    "#ax.text(.6, .5, \"$\\mathdefault{{}^\\\\# \\! 5}$\", size=100, va='baseline')\n",
    "#ax.text(.2, .5, \"$\\mathdefault{{}^♯ \\! 5}$\", size=100, va='baseline')\n",
    "#ax.text(.6, .2, \"$\\Delta\\mathdefault{7}$\", size=100, va='baseline')\n",
    "#ax.text(.6, .5, \"$\\\\varnothing\\mathdefault{7}$\", size=100, va='baseline')\n",
    "#ax.text(.6, .5, \"$\\mathregular{ {}^{{}_{sus}} \\! 7}$\", size=100, va='baseline')\n",
    "#ax.text(.6, .5, \"$\\mathdefault{\\mathrm{\\Delta}7}$\", size=100, va='baseline')\n",
    "\n",
    "\n",
    "#ax.text(.5, .5, \"$\\mathdefault{5}$ $\\mathdefault{{}^\\\\# 5}$\", size=30, va='center')\n",
    "# ax.text(.5, .3, \"A $A \\\\text{A}$\", size=30)"
   ]
  },
  {
   "cell_type": "code",
   "execution_count": null,
   "id": "a68a477c",
   "metadata": {},
   "outputs": [],
   "source": [
    "fig, ax = plt.subplots(figsize=(10,20))\n",
    "\n",
    "texts = [\"$\\mathregular{ 3^{ {}^{{}_{sus}} \\! 7} } $\", \n",
    "         \"$\\mathregular{ 3^{ {}_{{}^{sus}} \\! 7} } $\",\n",
    "         \"$\\mathregular{ 3^{\\mathtt{o} \\! 7} } $\",\n",
    "        \"$\\mathregular{ 3^{o \\! 7} } $\",\n",
    "         \"$\\mathregular{ 3^{ \\mathbb{\\Delta} \\! 7} } $\"\n",
    "        ]\n",
    "\n",
    "for i, text in enumerate(texts):\n",
    "    ax.text(.1, i/8, text, size=100, va='baseline')\n",
    "    \n"
   ]
  },
  {
   "cell_type": "code",
   "execution_count": null,
   "id": "27b33ed4",
   "metadata": {},
   "outputs": [],
   "source": [
    "fig, ax = plt.subplots(figsize=(10,10))\n",
    "\n",
    "\n",
    "#ax.text(.1, .1, \"7\", size=100, va='baseline')\n",
    "# ax.text(.2, .1, \"-\", size=100, va='baseline')\n",
    "# ax.text(.3, .1, \"$\\mathbb{\\Delta}$\", size=100, va='baseline')\n",
    "# ax.text(.4, .1, \"7\", size=100, va='baseline')\n",
    "# ax.text(.5, .1, \"$\\mathregular{7}$\", size=100, va='baseline')\n",
    "\n",
    "ax.text(.4, .8, \"$\\\\varnothing$\", size=100, va='baseline')\n",
    "#ax.text(.42, .8, \"$\\mathregular{7}$\", size=10, va='baseline')\n",
    "\n",
    "\n",
    "    "
   ]
  }
 ],
 "metadata": {
  "kernelspec": {
   "display_name": "Python 3 (ipykernel)",
   "language": "python",
   "name": "python3"
  },
  "language_info": {
   "codemirror_mode": {
    "name": "ipython",
    "version": 3
   },
   "file_extension": ".py",
   "mimetype": "text/x-python",
   "name": "python",
   "nbconvert_exporter": "python",
   "pygments_lexer": "ipython3",
   "version": "3.9.15"
  }
 },
 "nbformat": 4,
 "nbformat_minor": 5
}
