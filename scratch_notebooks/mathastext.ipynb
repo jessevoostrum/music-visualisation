{
 "cells": [
  {
   "cell_type": "code",
   "execution_count": null,
   "id": "9332113b",
   "metadata": {},
   "outputs": [],
   "source": [
    "import matplotlib.font_manager as font_manager\n",
    "from matplotlib import rcParams, rc\n",
    "import matplotlib.pyplot as plt"
   ]
  },
  {
   "cell_type": "code",
   "execution_count": null,
   "id": "1ad69f88",
   "metadata": {},
   "outputs": [],
   "source": [
    "# Add every font at the specified location\n",
    "font_dir = ['/Users/jvo/Downloads/OH no Type Company Order #e6cd109/Vulf Mono/Desktop']\n",
    "for font in font_manager.findSystemFonts(font_dir):\n",
    "    font_manager.fontManager.addfont(font)"
   ]
  },
  {
   "cell_type": "code",
   "execution_count": null,
   "id": "0b688a65",
   "metadata": {},
   "outputs": [],
   "source": [
    "# Set font family globally\n",
    "# rcParams['text.usetex'] = True\n",
    "rcParams['font.family'] = 'Vulf Mono'\n",
    "rcParams['font.style'] = 'italic'\n",
    "rcParams['font.weight'] = 'light'"
   ]
  },
  {
   "cell_type": "code",
   "execution_count": null,
   "id": "a68a477c",
   "metadata": {},
   "outputs": [],
   "source": [
    "fig, ax = plt.subplots()\n",
    "\n",
    "#rcParams['font.family'] = 'Vulf Mono'\n",
    "rcParams['font.family'] = 'serif'\n",
    "\n",
    "rcParams['text.usetex'] = False\n",
    "\n",
    "\n",
    "rc('text.latex', preamble=r'\\usepackage{amssymb, amsmath}')\n",
    "ax.set_ylim(0,1)\n",
    "ax.plot([.6,.6])\n",
    "ax.text(.4, .5, \"$\\mathdefault{5}$\", size=100, va='bottom')\n",
    "ax.text(.6, .5, \"$\\mathdefault{{}^\\\\# 5}$\", size=100, va='bottom')\n",
    "#ax.text(.5, .5, \"$\\mathdefault{5}$ $\\mathdefault{{}^\\\\# 5}$\", size=30, va='center')\n",
    "# ax.text(.5, .3, \"A $A \\\\text{A}$\", size=30)"
   ]
  }
 ],
 "metadata": {
  "kernelspec": {
   "display_name": "Python 3 (ipykernel)",
   "language": "python",
   "name": "python3"
  },
  "language_info": {
   "codemirror_mode": {
    "name": "ipython",
    "version": 3
   },
   "file_extension": ".py",
   "mimetype": "text/x-python",
   "name": "python",
   "nbconvert_exporter": "python",
   "pygments_lexer": "ipython3",
   "version": "3.8.12"
  }
 },
 "nbformat": 4,
 "nbformat_minor": 5
}
