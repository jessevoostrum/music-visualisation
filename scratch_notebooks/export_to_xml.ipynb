{
 "cells": [
  {
   "cell_type": "markdown",
   "id": "513a8990",
   "metadata": {},
   "source": [
    "see https://web.mit.edu/music21/doc/moduleReference/moduleStreamBase.html for replacing a keysignature\n",
    "\n",
    "http://web.mit.edu/music21/doc/usersGuide/usersGuide_08_installingMusicXML.html#file-types-available-to-music21 for exporting to musicxml"
   ]
  },
  {
   "cell_type": "code",
   "execution_count": null,
   "id": "c5f53f55",
   "metadata": {},
   "outputs": [],
   "source": [
    "from music21 import *"
   ]
  },
  {
   "cell_type": "code",
   "execution_count": null,
   "id": "744c4414",
   "metadata": {},
   "outputs": [],
   "source": [
    "key_with_mode = converter.parse(\"input/All_Of_Me_key_with_mode.musicxml\")\n",
    "s = converter.parse(\"/Users/jvo/Library/Mobile Documents/com~apple~CloudDocs/bladmuziek/standards_musescore/All_Of_Me.mxl\")\n",
    "key_with_mode.show(\"text\")"
   ]
  },
  {
   "cell_type": "code",
   "execution_count": null,
   "id": "9c26106f",
   "metadata": {},
   "outputs": [],
   "source": [
    "ks = key.KeySignature(-1)\n",
    "k = key.Key('G')\n",
    "type(ks) == key.Key"
   ]
  },
  {
   "cell_type": "code",
   "execution_count": null,
   "id": "5e2bd779",
   "metadata": {},
   "outputs": [],
   "source": [
    "ks.mode"
   ]
  },
  {
   "cell_type": "code",
   "execution_count": null,
   "id": "20f5cb97",
   "metadata": {},
   "outputs": [],
   "source": [
    "s[stream.Measure].first().keySignature = key.Key('a')"
   ]
  },
  {
   "cell_type": "code",
   "execution_count": null,
   "id": "9611c231",
   "metadata": {},
   "outputs": [],
   "source": [
    "key.Key('a').asKey('major')"
   ]
  },
  {
   "cell_type": "code",
   "execution_count": null,
   "id": "ca9baa80",
   "metadata": {},
   "outputs": [],
   "source": [
    "s.show('text')"
   ]
  },
  {
   "cell_type": "code",
   "execution_count": null,
   "id": "27933790",
   "metadata": {},
   "outputs": [],
   "source": [
    "s.write(\"musicxml\", \"output/allOfMe.mxl\")"
   ]
  },
  {
   "cell_type": "code",
   "execution_count": null,
   "id": "5f9b9400",
   "metadata": {},
   "outputs": [],
   "source": [
    "allofme = converter.parse(\"output/allOfMe.mxl\")"
   ]
  },
  {
   "cell_type": "code",
   "execution_count": null,
   "id": "911fc4b3",
   "metadata": {},
   "outputs": [],
   "source": [
    "s.show('musicxml')"
   ]
  },
  {
   "cell_type": "code",
   "execution_count": null,
   "id": "74c29867",
   "metadata": {},
   "outputs": [],
   "source": [
    "def getKey(s):\n",
    "    return s[key.KeySignature].first().asKey('minor')\n"
   ]
  },
  {
   "cell_type": "code",
   "execution_count": null,
   "id": "6539d69b",
   "metadata": {},
   "outputs": [],
   "source": [
    "dir(s)"
   ]
  },
  {
   "cell_type": "code",
   "execution_count": null,
   "id": "ad42be0b",
   "metadata": {},
   "outputs": [],
   "source": [
    "getKey(key_with_mode)"
   ]
  },
  {
   "cell_type": "code",
   "execution_count": null,
   "id": "8c04d75c",
   "metadata": {},
   "outputs": [],
   "source": [
    "s[key.KeySignature].first()"
   ]
  },
  {
   "cell_type": "code",
   "execution_count": null,
   "id": "3cda847f",
   "metadata": {},
   "outputs": [],
   "source": [
    "dir(s[key.KeySignature].first())"
   ]
  },
  {
   "cell_type": "code",
   "execution_count": null,
   "id": "a1ba36f8",
   "metadata": {},
   "outputs": [],
   "source": [
    "d = {'test', 'major'}"
   ]
  },
  {
   "cell_type": "code",
   "execution_count": null,
   "id": "99eedf5a",
   "metadata": {},
   "outputs": [],
   "source": [
    "'test' in d"
   ]
  },
  {
   "cell_type": "code",
   "execution_count": null,
   "id": "66d06e26",
   "metadata": {},
   "outputs": [],
   "source": [
    "e = converter.parse(\"/Users/jvo/Documents/music-visualisation/sheetMusic/Autumn_Leaves.mxl\")\n",
    "e.show(\"text\")"
   ]
  }
 ],
 "metadata": {
  "kernelspec": {
   "display_name": "Python 3 (ipykernel)",
   "language": "python",
   "name": "python3"
  },
  "language_info": {
   "codemirror_mode": {
    "name": "ipython",
    "version": 3
   },
   "file_extension": ".py",
   "mimetype": "text/x-python",
   "name": "python",
   "nbconvert_exporter": "python",
   "pygments_lexer": "ipython3",
   "version": "3.8.12"
  }
 },
 "nbformat": 4,
 "nbformat_minor": 5
}
