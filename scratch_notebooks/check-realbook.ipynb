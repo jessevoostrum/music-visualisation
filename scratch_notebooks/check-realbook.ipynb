{
 "cells": [
  {
   "cell_type": "code",
   "execution_count": null,
   "id": "113dc608",
   "metadata": {},
   "outputs": [],
   "source": [
    "from music21 import *\n",
    "import glob\n",
    "import os\n"
   ]
  },
  {
   "cell_type": "code",
   "execution_count": null,
   "id": "21cd68af",
   "metadata": {},
   "outputs": [],
   "source": [
    "def incorrectKeySignature(song, allKeySignatures=False):\n",
    "    k = song[key.KeySignature][0]\n",
    "    numSharps = k.sharps\n",
    "    numSharpsAnalyzed = song.analyze('key').sharps\n",
    "    \n",
    "    if allKeySignatures or numSharps == 0:\n",
    "        if numSharps != numSharpsAnalyzed:\n",
    "            return True\n",
    "    return False\n",
    "\n",
    "def hasNoClef(song):\n",
    "    if len(song[clef.TrebleClef]) == 0 and len(song[clef.BassClef]) == 0:\n",
    "        return True\n",
    "    return False\n",
    "\n",
    "def hasNoTimeSignature(song):\n",
    "    if len(song[meter.TimeSignature]) == 0:\n",
    "        return True\n",
    "    return False\n",
    "\n",
    "def startPickupMeasureWithRest(song):\n",
    "    firstMeasure = song[stream.Measure][0]\n",
    "    if len(firstMeasure[note.Rest]) == 0:\n",
    "        return False\n",
    "    pickupMeasure = firstMeasure.number == 0\n",
    "    startWithRest = song[note.Rest][0].offset == 0\n",
    "    if (pickupMeasure or shouldBePickupMeasure(song)) and startWithRest:\n",
    "        return True\n",
    "    return False\n",
    "\n",
    "def shouldBePickupMeasure(song):\n",
    "    pickupMeasure = song[stream.Measure][0].number == 0\n",
    "    secondMeasure = song[stream.Measure][1]\n",
    "    secondMeasureHasBar = len(secondMeasure[bar.Repeat]) > 0 and secondMeasure[bar.Repeat][0].offset == 0\n",
    "    if not pickupMeasure and secondMeasureHasBar:\n",
    "        return True\n",
    "    return False\n",
    "\n",
    "def unevenMeasureCount(song):\n",
    "    if song[stream.Measure][0].number == 1 and len(song[stream.Measure]) % 2 == 1:\n",
    "        return True\n",
    "    return False\n",
    "\n",
    "        "
   ]
  },
  {
   "cell_type": "code",
   "execution_count": null,
   "id": "31dfe8cc",
   "metadata": {},
   "outputs": [],
   "source": [
    "dirSongs = \"/Users/jvo/Documents/music-visualisation/output/output-standards-ultime/\"\n",
    "\n",
    "lines = glob.glob(dirSongs + '*' + '.mxl')\n",
    "lines = [os.path.basename(line) for line in lines]\n",
    "lines.sort()\n",
    "\n",
    "for line in lines:\n",
    "\n",
    "    line = line.rstrip('\\n')\n",
    "\n",
    "    song = converter.parse(dirSongs + line)\n",
    "    \n",
    "    if startPickupMeasureWithRest(song):\n",
    "        print(song.metadata.bestTitle)\n",
    "    "
   ]
  },
  {
   "cell_type": "code",
   "execution_count": null,
   "id": "655ef1a2",
   "metadata": {},
   "outputs": [],
   "source": [
    "lines"
   ]
  },
  {
   "cell_type": "code",
   "execution_count": null,
   "id": "4643c191",
   "metadata": {},
   "outputs": [],
   "source": [
    "line = lines[9]\n",
    "line = line.rstrip('\\n')\n",
    "song = converter.parse(dirSongs + line)\n",
    "\n",
    "song.show('text')\n"
   ]
  },
  {
   "cell_type": "code",
   "execution_count": null,
   "id": "24bdb4de",
   "metadata": {},
   "outputs": [],
   "source": [
    "song.metadata.bestTitle"
   ]
  },
  {
   "cell_type": "code",
   "execution_count": null,
   "id": "4c54349e",
   "metadata": {},
   "outputs": [],
   "source": [
    "s.show(\"text\")"
   ]
  },
  {
   "cell_type": "code",
   "execution_count": null,
   "id": "e0061e1e",
   "metadata": {},
   "outputs": [],
   "source": [
    "s = converter.parse(\"/Users/jvo/Documents/music-visualisation/output/output-standards-ultime/Actual proof.mxl\")\n",
    "ss = converter.parse(\"/Users/jvo/Documents/music-visualisation/output/output-standards-ultime/Affirmation.mxl\")"
   ]
  },
  {
   "cell_type": "code",
   "execution_count": null,
   "id": "431399f8",
   "metadata": {},
   "outputs": [],
   "source": [
    "k = ss[key.KeySignature][0]\n",
    "k.sharps"
   ]
  },
  {
   "cell_type": "code",
   "execution_count": null,
   "id": "b0e67061",
   "metadata": {},
   "outputs": [],
   "source": [
    "s.analyze('key').sharps"
   ]
  },
  {
   "cell_type": "code",
   "execution_count": null,
   "id": "341f8418",
   "metadata": {},
   "outputs": [],
   "source": [
    "[3,5][-1:]"
   ]
  }
 ],
 "metadata": {
  "kernelspec": {
   "display_name": "Python 3 (ipykernel)",
   "language": "python",
   "name": "python3"
  },
  "language_info": {
   "codemirror_mode": {
    "name": "ipython",
    "version": 3
   },
   "file_extension": ".py",
   "mimetype": "text/x-python",
   "name": "python",
   "nbconvert_exporter": "python",
   "pygments_lexer": "ipython3",
   "version": "3.9.15"
  }
 },
 "nbformat": 4,
 "nbformat_minor": 5
}
