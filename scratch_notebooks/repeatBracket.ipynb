{
 "cells": [
  {
   "cell_type": "markdown",
   "id": "613d9500",
   "metadata": {},
   "source": [
    "The spanned elements of an repeat bracket are only the first and last measure that the bracket is spanning over. \n",
    "\n",
    "https://www.w3.org/2021/06/musicxml40/musicxml-reference/elements/ending/"
   ]
  },
  {
   "cell_type": "code",
   "execution_count": null,
   "id": "ec5dfef5",
   "metadata": {},
   "outputs": [],
   "source": [
    "from music21 import *"
   ]
  },
  {
   "cell_type": "code",
   "execution_count": null,
   "id": "9cc10810",
   "metadata": {},
   "outputs": [],
   "source": [
    "s = converter.parse(\"/Users/jvo/Library/Mobile Documents/com~apple~CloudDocs/bladmuziek/standards_musescore/Autumn_Leaves.mxl\")\n"
   ]
  },
  {
   "cell_type": "code",
   "execution_count": null,
   "id": "79b3b5bb",
   "metadata": {},
   "outputs": [],
   "source": [
    "s.show()"
   ]
  },
  {
   "cell_type": "code",
   "execution_count": null,
   "id": "2ecaf435",
   "metadata": {},
   "outputs": [],
   "source": [
    "s.show(\"text\")"
   ]
  },
  {
   "cell_type": "code",
   "execution_count": null,
   "id": "70788e26",
   "metadata": {},
   "outputs": [],
   "source": [
    "import numpy as np\n",
    "spannedMeasuresList = []\n",
    "spanners = s[spanner.RepeatBracket]\n",
    "for sp in spanners:\n",
    "    spannedMeasures = sp.getSpannedElements()\n",
    "    measureNumberFirst = spannedMeasures[0].measureNumber\n",
    "    measureNumberLast = spannedMeasures[-1].measureNumber\n",
    "    includedMeasures = np.arange(measureNumberFirst, measureNumberLast + 1)\n",
    "    spannedMeasuresList.append(includedMeasures)"
   ]
  },
  {
   "cell_type": "code",
   "execution_count": null,
   "id": "c6733fe2",
   "metadata": {},
   "outputs": [],
   "source": [
    "spannedMeasuresList"
   ]
  },
  {
   "cell_type": "code",
   "execution_count": null,
   "id": "c25413e7",
   "metadata": {},
   "outputs": [],
   "source": [
    "np.arange(2,4)"
   ]
  },
  {
   "cell_type": "code",
   "execution_count": null,
   "id": "94c13981",
   "metadata": {},
   "outputs": [],
   "source": [
    "sp = spanners[0]\n",
    "sp.getSpannedElements()[1].measureNumber"
   ]
  },
  {
   "cell_type": "code",
   "execution_count": null,
   "id": "27edc0a6",
   "metadata": {},
   "outputs": [],
   "source": [
    "aDict = {}\n",
    "for i in range(3):\n",
    "    aDict[i] = \"A\""
   ]
  },
  {
   "cell_type": "code",
   "execution_count": null,
   "id": "d3ecbe54",
   "metadata": {},
   "outputs": [],
   "source": [
    "2 in aDict"
   ]
  }
 ],
 "metadata": {
  "kernelspec": {
   "display_name": "Python 3 (ipykernel)",
   "language": "python",
   "name": "python3"
  },
  "language_info": {
   "codemirror_mode": {
    "name": "ipython",
    "version": 3
   },
   "file_extension": ".py",
   "mimetype": "text/x-python",
   "name": "python",
   "nbconvert_exporter": "python",
   "pygments_lexer": "ipython3",
   "version": "3.8.12"
  }
 },
 "nbformat": 4,
 "nbformat_minor": 5
}
