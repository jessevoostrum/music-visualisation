{
 "cells": [
  {
   "cell_type": "code",
   "execution_count": null,
   "id": "17c99bac",
   "metadata": {},
   "outputs": [],
   "source": [
    "from music21 import *"
   ]
  },
  {
   "cell_type": "code",
   "execution_count": null,
   "id": "8de3db47",
   "metadata": {},
   "outputs": [],
   "source": [
    "s = converter.parse(\"/Users/jvo/Library/Mobile Documents/com~apple~CloudDocs/bladmuziek/DickSchmitt/2022 -- These Boots Are Made for Walkin' RJS Mod.musicxml\")\n"
   ]
  },
  {
   "cell_type": "code",
   "execution_count": null,
   "id": "f589b13e",
   "metadata": {},
   "outputs": [],
   "source": [
    "staffs = s[stream.PartStaff]\n",
    "len(staffs)"
   ]
  },
  {
   "cell_type": "code",
   "execution_count": null,
   "id": "55dd0c81",
   "metadata": {},
   "outputs": [],
   "source": [
    "parts = s[stream.Part]\n",
    "len(parts)"
   ]
  },
  {
   "cell_type": "code",
   "execution_count": null,
   "id": "ebe5e8fe",
   "metadata": {},
   "outputs": [],
   "source": [
    "s.show('text')"
   ]
  },
  {
   "cell_type": "code",
   "execution_count": null,
   "id": "d1fcb39f",
   "metadata": {},
   "outputs": [],
   "source": [
    "cm = s[chord.Chord][0]"
   ]
  },
  {
   "cell_type": "code",
   "execution_count": null,
   "id": "046f6db1",
   "metadata": {},
   "outputs": [],
   "source": [
    "cm.offset"
   ]
  },
  {
   "cell_type": "code",
   "execution_count": null,
   "id": "faf96145",
   "metadata": {},
   "outputs": [],
   "source": [
    "cm.activeSite"
   ]
  },
  {
   "cell_type": "code",
   "execution_count": null,
   "id": "e831837b",
   "metadata": {},
   "outputs": [],
   "source": [
    "g = cm.notes[0]"
   ]
  },
  {
   "cell_type": "code",
   "execution_count": null,
   "id": "f8378a36",
   "metadata": {},
   "outputs": [],
   "source": [
    "g.containerHierarchy()"
   ]
  },
  {
   "cell_type": "code",
   "execution_count": null,
   "id": "5ca780a9",
   "metadata": {},
   "outputs": [],
   "source": [
    "s = stream.Part()\n",
    "m = stream.Measure()\n",
    "n1 = note.Note('C')\n",
    "n2 = note.Note('E')\n",
    "n3 = note.Note('E')\n",
    "n4 = note.Note('E')\n",
    "n5 = note.Note('G')\n",
    "\n",
    "m.insert(0, n1)\n",
    "m.insert(1, n2)\n",
    "m.insert(2, n3)\n",
    "m.insert(3, n4)\n",
    "\n",
    "m.insert(0, n5)\n",
    "s.append(m)\n",
    "s.show('text')"
   ]
  },
  {
   "cell_type": "code",
   "execution_count": null,
   "id": "b61ae571",
   "metadata": {},
   "outputs": [],
   "source": [
    "m"
   ]
  },
  {
   "cell_type": "code",
   "execution_count": null,
   "id": "7f45edf5",
   "metadata": {},
   "outputs": [],
   "source": [
    "s = stream.Part()\n",
    "m = stream.Measure()\n",
    "n1 = note.Note('C')\n",
    "n2 = note.Note('E')\n",
    "n3 = note.Note('E')\n",
    "n4 = note.Note('E')\n",
    "n5 = note.Note('G')\n",
    "\n",
    "m.repeatAppend(n1,5)\n",
    "\n",
    "s.append(m)\n",
    "s.show('text')"
   ]
  },
  {
   "cell_type": "code",
   "execution_count": null,
   "id": "28d61f7c",
   "metadata": {},
   "outputs": [],
   "source": [
    "m.quarterLength"
   ]
  },
  {
   "cell_type": "code",
   "execution_count": null,
   "id": "eb2580ed",
   "metadata": {},
   "outputs": [],
   "source": [
    "s.show()"
   ]
  },
  {
   "cell_type": "code",
   "execution_count": null,
   "id": "689603d9",
   "metadata": {},
   "outputs": [],
   "source": [
    "us = environment.UserSettings()\n",
    "for key in sorted(us.keys()):\n",
    "    print(key)"
   ]
  },
  {
   "cell_type": "code",
   "execution_count": null,
   "id": "45fd4994",
   "metadata": {},
   "outputs": [],
   "source": [
    "us['musescoreDirectPNGPath'] = '/Applications/MuseScore 4.app/Contents/MacOS/mscore'"
   ]
  },
  {
   "cell_type": "code",
   "execution_count": null,
   "id": "9143c55d",
   "metadata": {},
   "outputs": [],
   "source": [
    "us['musescoreDirectPNGPath']"
   ]
  }
 ],
 "metadata": {
  "kernelspec": {
   "display_name": "Python 3 (ipykernel)",
   "language": "python",
   "name": "python3"
  },
  "language_info": {
   "codemirror_mode": {
    "name": "ipython",
    "version": 3
   },
   "file_extension": ".py",
   "mimetype": "text/x-python",
   "name": "python",
   "nbconvert_exporter": "python",
   "pygments_lexer": "ipython3",
   "version": "3.9.15"
  }
 },
 "nbformat": 4,
 "nbformat_minor": 5
}
