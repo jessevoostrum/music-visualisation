{
 "cells": [
  {
   "cell_type": "code",
   "execution_count": null,
   "metadata": {},
   "outputs": [],
   "source": [
    "from music21 import *"
   ]
  },
  {
   "cell_type": "markdown",
   "metadata": {},
   "source": [
    "`harmony.py` contains a dictionary `CHORD_TYPES` mapping all chordKind (e.g. `\"dominant-seventh\"`) to its corresponding figure (`['7', 'dom7']`), for which it often has multiple options.\n",
    "\n",
    "`chordSymbol` is a class that inherits from `harmony` and `Chord`. it has a method `findFigure`, which returns the figure (e.g. Cm6 add 9) using the `chordKind`, `chordStepModifications` (e.g. \"add 9\") and checks whether the root corresponds with the bass note. We modify this function to give our desired result."
   ]
  },
  {
   "cell_type": "code",
   "execution_count": null,
   "metadata": {},
   "outputs": [],
   "source": [
    "\n",
    "\n",
    "def findFigure(chordSymbol, keySong):\n",
    "    if chordSymbol.chordKind:\n",
    "        \n",
    "        if chordSymbol.root() is None:\n",
    "            raise 'Cannot find figure. No root to the chord found'\n",
    "            \n",
    "        figure = getNumber(chordSymbol.root(), keySong)\n",
    "        \n",
    "        kind = chordSymbol.chordKind\n",
    "    if kind in harmony.CHORD_ALIASES:\n",
    "        kind = harmony.CHORD_ALIASES[kind]\n",
    "\n",
    "    if kind in harmony.CHORD_TYPES:\n",
    "        figure += harmony.getAbbreviationListGivenChordType(kind)[0]\n",
    "    if chordSymbol.bass() is not None:\n",
    "        if chordSymbol.root().name != chordSymbol.bass().name:\n",
    "            figure += '/' + getNumber(chordSymbol.bass(), keySong)\n",
    "    \n",
    "    for csMod in chordSymbol.chordStepModifications:\n",
    "        if csMod.interval is not None:\n",
    "            numAlter = csMod.interval.semitones\n",
    "            if numAlter > 0:\n",
    "                s = '#'\n",
    "            else:\n",
    "                s = 'b'\n",
    "            prefix = s * abs(numAlter)\n",
    "\n",
    "            figure += ' ' + csMod.modType + ' ' + prefix + str(csMod.degree)\n",
    "        else:\n",
    "            figure += ' ' + csMod.modType + ' ' + str(csMod.degree)\n",
    "\n",
    "    return figure\n",
    "\n",
    "def getNumber(pitch_, keySong):\n",
    "    number, alteration = keySong.getScaleDegreeAndAccidentalFromPitch(pitch_)\n",
    "    number = str(number)\n",
    "\n",
    "    if alteration:\n",
    "        if alteration.name == 'sharp':\n",
    "            number = f\"{{}}^\\\\# {number}\"\n",
    "        elif alteration.name == 'flat':\n",
    "            number = f\"{{}}^b {number}\"\n",
    "    \n",
    "    return number   "
   ]
  },
  {
   "cell_type": "code",
   "execution_count": null,
   "metadata": {},
   "outputs": [],
   "source": [
    "h = harmony.ChordSymbol(\"CM7add#9\")\n",
    "k = key.Key(\"G\")\n",
    "\n",
    "findFigure(h,k)\n"
   ]
  },
  {
   "cell_type": "code",
   "execution_count": null,
   "metadata": {},
   "outputs": [],
   "source": [
    "for csMod in h.chordStepModifications:\n",
    "    figure = \"\"\n",
    "    print('a')\n",
    "    if csMod.interval is not None:\n",
    "        numAlter = csMod.interval.semitones\n",
    "        print(\"yes\", numAlter)\n",
    "        if numAlter > 0:\n",
    "            s = '#'\n",
    "        else:\n",
    "            s = 'b'\n",
    "        prefix = s * abs(numAlter)\n",
    "\n",
    "        figure += ' ' + csMod.modType + ' ' + prefix + str(csMod.degree)\n",
    "    else:\n",
    "        figure += ' ' + csMod.modType + ' ' + str(csMod.degree)\n",
    "figure"
   ]
  },
  {
   "cell_type": "code",
   "execution_count": null,
   "metadata": {},
   "outputs": [],
   "source": [
    "if self.root() is None:\n",
    "    raise HarmonyException('Cannot find figure. No root to the chord found', self)\n",
    "\n",
    "    figure = self.root().name\n",
    "    kind = self.chordKind\n",
    "    if kind in CHORD_ALIASES:\n",
    "        kind = CHORD_ALIASES[kind]\n",
    "\n",
    "    if kind in CHORD_TYPES:\n",
    "        figure += getAbbreviationListGivenChordType(kind)[0]\n",
    "    if self.bass() is not None:\n",
    "        if self.root().name != self.bass().name:\n",
    "            figure += '/' + self.bass().name\n",
    "\n",
    "    for csMod in self.chordStepModifications:\n",
    "        if csMod.interval is not None:\n",
    "            numAlter = csMod.interval.semitones\n",
    "            if numAlter > 0:\n",
    "                s = '#'\n",
    "            else:\n",
    "                s = 'b'\n",
    "            prefix = s * abs(numAlter)\n",
    "\n",
    "            figure += ' ' + csMod.modType + ' ' + prefix + str(csMod.degree)\n",
    "        else:\n",
    "            figure += ' ' + csMod.modType + ' ' + str(csMod.degree)\n",
    "\n",
    "    return figure\n",
    "else:\n",
    "    # if neither chordKind nor chordStepModifications, best bet is probably to\n",
    "    # try to deduce the figure from the chord\n",
    "    return chordSymbolFigureFromChord(self)\n"
   ]
  },
  {
   "cell_type": "code",
   "execution_count": null,
   "metadata": {},
   "outputs": [],
   "source": [
    "h = harmony.ChordSymbol('C/D')\n",
    "harmony.chordSymbolFigureFromChord(h)"
   ]
  },
  {
   "cell_type": "code",
   "execution_count": null,
   "metadata": {},
   "outputs": [],
   "source": [
    "h.root()"
   ]
  },
  {
   "cell_type": "code",
   "execution_count": null,
   "metadata": {},
   "outputs": [],
   "source": [
    "h = harmony.ChordSymbol()\n",
    "h.root('B-3')\n",
    "#h.bass('D')\n",
    "#h.inversion(1, transposeOnSet=False)\n",
    "h.addChordStepModification(harmony.ChordStepModification('add', 4))\n",
    "h = chord.Chord(['C3'])\n",
    "harmony.chordSymbolFigureFromChord(h)"
   ]
  },
  {
   "cell_type": "code",
   "execution_count": null,
   "metadata": {},
   "outputs": [],
   "source": [
    "c = note.Note('c-')\n",
    "c.pitch"
   ]
  },
  {
   "cell_type": "code",
   "execution_count": null,
   "metadata": {},
   "outputs": [],
   "source": [
    "k.getScaleDegreeAndAccidentalFromPitch(c.pitch)"
   ]
  },
  {
   "cell_type": "code",
   "execution_count": null,
   "metadata": {},
   "outputs": [],
   "source": [
    "dir(k)"
   ]
  },
  {
   "cell_type": "code",
   "execution_count": null,
   "metadata": {},
   "outputs": [],
   "source": [
    "h = harmony.ChordSymbol()\n",
    "h.root(\"C3\")\n",
    "h.bass(\"D\")\n",
    "h"
   ]
  },
  {
   "cell_type": "code",
   "execution_count": null,
   "metadata": {},
   "outputs": [],
   "source": [
    "k = key.Key(\"C\")\n",
    "c = harmony.ChordSymbol('C7')\n",
    "c.chordKind\n",
    "harmony.CHORD_TYPES[c.chordKind][1][0]"
   ]
  },
  {
   "cell_type": "code",
   "execution_count": null,
   "metadata": {},
   "outputs": [],
   "source": [
    "c = harmony.ChordSymbol('C/D')\n",
    "d = harmony.ChordSymbol('C7')\n",
    "c.pitches"
   ]
  },
  {
   "cell_type": "code",
   "execution_count": null,
   "metadata": {},
   "outputs": [],
   "source": [
    "c.figure"
   ]
  },
  {
   "cell_type": "code",
   "execution_count": null,
   "metadata": {},
   "outputs": [],
   "source": [
    "numeral = roman.romanNumeralFromChord(c, key.Key(\"C\"))\n",
    "numeral"
   ]
  },
  {
   "cell_type": "code",
   "execution_count": null,
   "metadata": {},
   "outputs": [],
   "source": [
    "d.chordKind"
   ]
  },
  {
   "cell_type": "code",
   "execution_count": null,
   "metadata": {},
   "outputs": [],
   "source": [
    "c.inversion()"
   ]
  },
  {
   "cell_type": "code",
   "execution_count": null,
   "metadata": {},
   "outputs": [],
   "source": [
    "dir(c)"
   ]
  },
  {
   "cell_type": "code",
   "execution_count": null,
   "metadata": {},
   "outputs": [],
   "source": [
    "song = \"Misty\"\n",
    "\n",
    "folder_source = \"/Users/jvo/Dropbox/Jesse/music/bladmuziek/selection/\"\n",
    "\n",
    "s = converter.parse(folder_source + song + \".mxl\")\n",
    "\n",
    "s = converter.parse(\"/Users/jvo/Dropbox/Jesse/music/bladmuziek/Wikifonia/Hoagy Carmichael - Georgia On My Mind.mxl\")\n",
    "\n",
    "key_song = s.analyze('key')\n",
    "key_song = key_song.relative\n",
    "\n",
    "chord_symbols = s.flat.getElementsByClass('Chord')\n"
   ]
  },
  {
   "cell_type": "code",
   "execution_count": null,
   "metadata": {},
   "outputs": [],
   "source": [
    "chord_sym = chord_symbols[-7]\n",
    "chord_sym"
   ]
  },
  {
   "cell_type": "code",
   "execution_count": null,
   "metadata": {},
   "outputs": [],
   "source": [
    "chord_sym.pitches"
   ]
  },
  {
   "cell_type": "code",
   "execution_count": null,
   "metadata": {},
   "outputs": [],
   "source": [
    "dir(chord_sym)"
   ]
  },
  {
   "cell_type": "code",
   "execution_count": null,
   "metadata": {},
   "outputs": [],
   "source": [
    "chord_sym = chord_symbols[5]\n",
    "numeral = roman.romanNumeralFromChord(chord_sym, key_song)\n",
    "\n",
    "\n",
    "number, alteration = numeral.scaleDegreeWithAlteration"
   ]
  },
  {
   "cell_type": "code",
   "execution_count": null,
   "metadata": {},
   "outputs": [],
   "source": [
    "alteration.name"
   ]
  },
  {
   "cell_type": "code",
   "execution_count": null,
   "metadata": {},
   "outputs": [],
   "source": [
    "numeral.figure"
   ]
  },
  {
   "cell_type": "code",
   "execution_count": null,
   "metadata": {},
   "outputs": [],
   "source": [
    "for notez in chord_symbols[0].pitches:\n",
    "    print(notez.midi)"
   ]
  },
  {
   "cell_type": "code",
   "execution_count": null,
   "metadata": {},
   "outputs": [],
   "source": []
  },
  {
   "cell_type": "raw",
   "metadata": {},
   "source": [
    "def _getChordNumber(self, chord):\n",
    "    numeral = music21.roman.romanNumeralFromChord(chord, self.key)\n",
    "    number, alteration = numeral.scaleDegreeWithAlteration\n",
    "    number = str(number)\n",
    "\n",
    "    if alteration:\n",
    "        # TODO: check how alterations are displayed in irealpro\n",
    "        if alteration.name == 'sharp':\n",
    "            number = f\"{{}}^\\\\# {number}\"\n",
    "        elif alteration.name == 'flat':\n",
    "            number = f\"{{}}^b {number}\"  # alternative: f\"{{\\\\scriptstyle b}} {number}\n",
    "\n",
    "    # number = str(number)\n",
    "    if chord.isMajorTriad():\n",
    "        pass\n",
    "    elif chord.isMinorTriad():\n",
    "        number += \"-\"\n",
    "    elif chord.isSeventhOfType([0, 3, 7, 10]):  # minor seventh\n",
    "        number += \"^{-7}\"\n",
    "    elif chord.isSeventhOfType([0, 4, 7, 10]):  # dominant seventh\n",
    "        number += \"^7\"\n",
    "    elif chord.isSeventhOfType([0, 4, 7, 11]):  # major seventh\n",
    "        number += \"^{\\Delta 7}\"\n",
    "    elif chord.isSeventhOfType([0, 3, 6, 10]):\n",
    "        number += \"^{-b5}\"\n",
    "    number = \"$\" + number + \"$\"\n",
    "    return number\n"
   ]
  }
 ],
 "metadata": {
  "kernelspec": {
   "display_name": "Python 3 (ipykernel)",
   "language": "python",
   "name": "python3"
  },
  "language_info": {
   "codemirror_mode": {
    "name": "ipython",
    "version": 3
   },
   "file_extension": ".py",
   "mimetype": "text/x-python",
   "name": "python",
   "nbconvert_exporter": "python",
   "pygments_lexer": "ipython3",
   "version": "3.9.15"
  }
 },
 "nbformat": 4,
 "nbformat_minor": 4
}
