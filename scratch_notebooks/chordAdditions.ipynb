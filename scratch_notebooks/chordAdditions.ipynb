{
 "cells": [
  {
   "cell_type": "code",
   "execution_count": null,
   "id": "302101b8",
   "metadata": {},
   "outputs": [],
   "source": [
    "from music21 import *"
   ]
  },
  {
   "cell_type": "code",
   "execution_count": null,
   "id": "80c5432a",
   "metadata": {},
   "outputs": [],
   "source": [
    "song58 = \"/Users/jvo/Library/Mobile Documents/com~apple~CloudDocs/bladmuziek/test-files/chords1.musicxml\"\n",
    "s = converter.parse(song58)\n"
   ]
  },
  {
   "cell_type": "code",
   "execution_count": null,
   "id": "5f49a776",
   "metadata": {},
   "outputs": [],
   "source": [
    "s.show(\"text\")"
   ]
  },
  {
   "cell_type": "code",
   "execution_count": null,
   "id": "6591c3a5",
   "metadata": {},
   "outputs": [],
   "source": [
    "d = s[harmony.ChordSymbol][-3]\n",
    "d"
   ]
  },
  {
   "cell_type": "code",
   "execution_count": null,
   "id": "1e06323b",
   "metadata": {},
   "outputs": [],
   "source": [
    "c = s[harmony.ChordSymbol][-2]\n",
    "c"
   ]
  },
  {
   "cell_type": "code",
   "execution_count": null,
   "id": "9bfe4f0c",
   "metadata": {},
   "outputs": [],
   "source": [
    "c.chordStepModifications[0].interval.semitones"
   ]
  },
  {
   "cell_type": "code",
   "execution_count": null,
   "id": "0b6e0aa6",
   "metadata": {},
   "outputs": [],
   "source": [
    "d.chordStepModifications"
   ]
  },
  {
   "cell_type": "code",
   "execution_count": null,
   "id": "f6c57107",
   "metadata": {},
   "outputs": [],
   "source": [
    "csMod"
   ]
  },
  {
   "cell_type": "code",
   "execution_count": null,
   "id": "5f470f71",
   "metadata": {},
   "outputs": [],
   "source": [
    "for csMod in chordSymbol.chordStepModifications:\n",
    "    if csMod.interval is not None:\n",
    "    numAlter = csMod.interval.semitones\n",
    "    if numAlter > 0:\n",
    "        s = '\\\\#\\!'\n",
    "    else:\n",
    "        s = 'b'\n",
    "    prefix = s * abs(numAlter)\n",
    "    if abs(numAlter) > 0:\n",
    "        prefix = '\\,{{}}^' + prefix\n",
    "\n",
    "    # print(\"numAlter\", numAlter, \"\\n\", \"prefix\", prefix)\n",
    "\n",
    "    # addition += ' ' + csMod.modType + ' ' + prefix + str(csMod.degree)\n",
    "    addition += prefix + str(csMod.degree)\n",
    "    else:\n",
    "        # addition += ' ' + csMod.modType + ' ' + str(csMod.degree)\n",
    "        addition += str(csMod.degree)\n"
   ]
  }
 ],
 "metadata": {
  "kernelspec": {
   "display_name": "Python 3 (ipykernel)",
   "language": "python",
   "name": "python3"
  },
  "language_info": {
   "codemirror_mode": {
    "name": "ipython",
    "version": 3
   },
   "file_extension": ".py",
   "mimetype": "text/x-python",
   "name": "python",
   "nbconvert_exporter": "python",
   "pygments_lexer": "ipython3",
   "version": "3.9.15"
  }
 },
 "nbformat": 4,
 "nbformat_minor": 5
}
