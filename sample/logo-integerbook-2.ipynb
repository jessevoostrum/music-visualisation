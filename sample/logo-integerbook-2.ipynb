{
 "cells": [
  {
   "cell_type": "code",
   "execution_count": null,
   "id": "cdd9e14b",
   "metadata": {},
   "outputs": [],
   "source": [
    "import os\n",
    "import sys\n",
    "module_path = os.path.abspath(os.path.join('..'))\n",
    "if module_path not in sys.path:\n",
    "    sys.path.append(module_path)\n",
    "\n",
    "from sample.main import Visualiser\n",
    "\n",
    "import json\n",
    "import music21"
   ]
  },
  {
   "cell_type": "code",
   "execution_count": null,
   "id": "4c0184d1",
   "metadata": {},
   "outputs": [],
   "source": [
    "song = \"/Users/jvo/Library/Mobile Documents/com~apple~CloudDocs/bladmuziek/standards_musescore/Summertime.mxl\"\n",
    "streamObj = music21.converter.parse(song).measures(0,4)\n",
    "streamObj.write('musicxml', '../output/summertime-firstbars.musicxml')\n",
    "\n",
    "songFirstBars = \"/Users/jvo/Documents/music-visualisation/output/summertime-firstbars.musicxml\"\n",
    "\n",
    "f = open('settings.json')\n",
    "settings = json.load(f)\n",
    "\n",
    "settings['fontDirectory'] = \"/Users/jvo/Library/Mobile Documents/com~apple~CloudDocs/fonts/Vulf Mono/Vulf Mono/Desktop/\"\n",
    "settings['font'] = 'Vulf Mono'\n",
    "settings['fontStyle'] = 'italic'\n",
    "settings['fontWeight'] = 'light'\n",
    "\n",
    "streamObj = music21.converter.parse(song).measures(0,4)\n",
    "\n"
   ]
  },
  {
   "cell_type": "code",
   "execution_count": null,
   "id": "51bb6ddd",
   "metadata": {},
   "outputs": [],
   "source": [
    "vis = Visualiser(songFirstBars, settings)\n",
    "\n",
    "vis.PlotterMain.PlotterNotes.plotNotes()\n",
    "\n",
    "fig = vis.CanvasCreator.getFigs()[0]\n",
    "\n",
    "notes = vis.streamObj[music21.note.Note]\n",
    "\n",
    "el = notes[0]\n",
    "\n",
    "xs = []\n",
    "for el in [notes[0], notes[11]]:\n",
    "\n",
    "    offset = el.getOffsetInHierarchy(vis.streamObj)\n",
    "\n",
    "    page, yPosLineBase, xPos = vis.LocationFinder.getLocation(offset)\n",
    "    offsetLength = el.duration.quarterLength \n",
    "\n",
    "    xLength = vis.LocationFinder._getXLengthFromOffsetLength(offsetLength)\n",
    "        \n",
    "    xs.append(xPos)\n",
    "    \n",
    "from matplotlib.transforms import Bbox\n",
    "\n",
    "w = 8.27\n",
    "h = 11.69\n",
    "\n",
    "bbox = Bbox([[xs[0] * w, yPosLineBase * h], [(xs[1] + xLength) * w, (yPosLineBase + vis.Settings.yMax) * h] ])\n",
    "# bbox = Bbox([[0,0.5 * h],[w, 0.5 * h]])\n",
    "\n",
    "fig.patch.set_facecolor('white')\n",
    "\n",
    "from matplotlib.backends.backend_pdf import PdfPages\n",
    "\n",
    "with PdfPages(\"../output/logoNew2.pdf\") as pdf:\n",
    "    pdf.savefig(fig, bbox_inches=bbox)\n",
    "\n",
    "# convert to png using preview. \n",
    "# using saveFig messes with the position of the numbers within the rectangles\n"
   ]
  },
  {
   "cell_type": "code",
   "execution_count": null,
   "id": "a9a427f5",
   "metadata": {},
   "outputs": [],
   "source": [
    "from PIL import Image, ImageDraw, ImageFilter\n",
    "\n",
    "im_rgb = Image.open('/Users/jvo/Downloads/logoNew2.png')\n",
    "im_rgb"
   ]
  },
  {
   "cell_type": "code",
   "execution_count": null,
   "id": "9f84f8e9",
   "metadata": {},
   "outputs": [],
   "source": [
    "im_rgba = im_rgb.copy()\n",
    "im_rgba.putalpha(30)\n",
    "im_rgba.save('../docs/logo-alpha1-New.png')\n",
    "im_rgba"
   ]
  },
  {
   "cell_type": "code",
   "execution_count": null,
   "id": "368329ff",
   "metadata": {},
   "outputs": [],
   "source": [
    "im_rgb.size"
   ]
  },
  {
   "cell_type": "code",
   "execution_count": null,
   "id": "a9cc207d",
   "metadata": {},
   "outputs": [],
   "source": [
    "im_a = Image.new(\"L\", im_rgb.size, 0)\n",
    "draw = ImageDraw.Draw(im_a)\n",
    "margin = 150\n",
    "draw.rectangle((margin, 0, im_rgb.size[0] - margin, im_rgb.size[1]), fill=255)\n",
    "im_rgba = im_rgb.copy()\n",
    "im_a_blur = im_a.filter(ImageFilter.GaussianBlur(250))\n",
    "im_rgba.putalpha(im_a_blur)\n",
    "im_rgba.save('output/logo2.png')\n",
    "im_rgba"
   ]
  }
 ],
 "metadata": {
  "kernelspec": {
   "display_name": "Python 3 (ipykernel)",
   "language": "python",
   "name": "python3"
  },
  "language_info": {
   "codemirror_mode": {
    "name": "ipython",
    "version": 3
   },
   "file_extension": ".py",
   "mimetype": "text/x-python",
   "name": "python",
   "nbconvert_exporter": "python",
   "pygments_lexer": "ipython3",
   "version": "3.9.15"
  }
 },
 "nbformat": 4,
 "nbformat_minor": 5
}
