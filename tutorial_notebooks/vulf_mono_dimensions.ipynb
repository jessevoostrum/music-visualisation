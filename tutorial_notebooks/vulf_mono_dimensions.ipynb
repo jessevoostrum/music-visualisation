{
 "cells": [
  {
   "cell_type": "code",
   "execution_count": null,
   "id": "5dd6bd02",
   "metadata": {},
   "outputs": [],
   "source": []
  },
  {
   "cell_type": "code",
   "execution_count": null,
   "id": "f8f054bb",
   "metadata": {},
   "outputs": [],
   "source": [
    "import matplotlib.font_manager as font_manager\n",
    "from matplotlib import rcParams, rc\n",
    "import matplotlib.pyplot as plt"
   ]
  },
  {
   "cell_type": "code",
   "execution_count": null,
   "id": "87f544c2",
   "metadata": {},
   "outputs": [],
   "source": [
    "# Add every font at the specified location\n",
    "font_dir = ['/Users/jvo/Library/Mobile Documents/com~apple~CloudDocs/OH no Type Company Order #e6cd109/Vulf Mono/Desktop']\n",
    "for font in font_manager.findSystemFonts(font_dir):\n",
    "    font_manager.fontManager.addfont(font)"
   ]
  },
  {
   "cell_type": "code",
   "execution_count": null,
   "id": "00a34862",
   "metadata": {},
   "outputs": [],
   "source": [
    "# Set font family globally\n",
    "# rcParams['text.usetex'] = True\n",
    "rcParams['font.family'] = 'Vulf Mono'\n",
    "rcParams['font.style'] = 'italic'\n",
    "rcParams['font.weight'] = 'light'"
   ]
  },
  {
   "cell_type": "code",
   "execution_count": null,
   "id": "ce4cd9c6",
   "metadata": {},
   "outputs": [],
   "source": [
    "widthA4 = 8.27\n",
    "heightA4 = 11.69\n",
    "\n",
    "fontSize = 300 \n",
    "fontHeight = .225\n",
    "\n",
    "fig, ax = plt.subplots(figsize=(widthA4,heightA4))\n",
    "\n",
    "ax.set_xlim(0,1)\n",
    "ax.set_ylim(0,1)\n",
    "\n",
    "ax.set_position([0, 0, 1, 1])\n",
    "\n",
    "y1 = .5  \n",
    "ax.plot([0,1], [y1,y1])\n",
    "\n",
    "y2 = .5 + fontHeight\n",
    "ax.plot([0,1], [y2,y2])\n",
    "\n",
    "y3 = .5 \n",
    "ax.plot([0,1], [y3,y3])\n",
    "\n",
    "for i in range(7):\n",
    "    text = ( str(i+1))\n",
    "    ax.text(i * .2 ,.5, text, fontsize=fontSize, va='baseline', ha='left')\n",
    "    \n",
    "\n",
    "\n",
    "\n",
    "\n",
    "\n",
    "# fig.savefig(\"output/vulfMonoVerticalDimensions.pdf\")"
   ]
  },
  {
   "cell_type": "code",
   "execution_count": null,
   "id": "1408e567",
   "metadata": {},
   "outputs": [],
   "source": [
    "0.225/300b"
   ]
  },
  {
   "cell_type": "code",
   "execution_count": null,
   "id": "6b9dea8f",
   "metadata": {},
   "outputs": [],
   "source": [
    "widthA4 = 8.27\n",
    "heightA4 = 11.69\n",
    "\n",
    "fontSize = 12\n",
    "fontHeight = .00075 * fontSize\n",
    "\n",
    "fig, ax = plt.subplots(figsize=(widthA4,heightA4))\n",
    "\n",
    "ax.set_xlim(0,1)\n",
    "ax.set_ylim(0,1)\n",
    "\n",
    "ax.set_position([0, 0, 1, 1])\n",
    "\n",
    "y1 = .5  \n",
    "ax.hlines(y1, 0, 1, linewidth=0.1)\n",
    "\n",
    "y2 = .5 + fontHeight\n",
    "ax.hlines(y2, 0, 1, linewidth=0.1)\n",
    "\n",
    "for i in range(7):\n",
    "    text = ( str(i+1))\n",
    "    ax.text(i * .15 ,.5, text, fontsize=fontSize, va='baseline', ha='left')\n",
    "\n",
    "\n",
    "fig.savefig(\"output/vulfMonoVerticalDimensions.pdf\")"
   ]
  },
  {
   "cell_type": "code",
   "execution_count": null,
   "id": "4dbba0be",
   "metadata": {},
   "outputs": [],
   "source": [
    "widthA4 = 8.27\n",
    "heightA4 = 11.69\n",
    "\n",
    "fontSize = 300 \n",
    "fontHeight = .225\n",
    "\n",
    "fig, ax = plt.subplots(figsize=(widthA4,heightA4))\n",
    "\n",
    "ax.set_xlim(0,1)\n",
    "ax.set_ylim(0,1)\n",
    "\n",
    "ax.set_position([0, 0, 1, 1])\n",
    "\n",
    "y1 = .5  \n",
    "ax.plot([0,1], [y1,y1])\n",
    "\n",
    "y2 = .5 + fontHeight\n",
    "ax.plot([0,1], [y2,y2])\n",
    "\n",
    "y3 = .5 \n",
    "ax.plot([0,1], [y3,y3])\n",
    "\n",
    "for i, letter in enumerate(['A', 'B', 'C']):\n",
    "    ax.text(i * .2 ,.5, letter, fontsize=fontSize, va='baseline', ha='left')\n",
    "    \n",
    "\n",
    "\n",
    "\n",
    "\n",
    "\n",
    "# fig.savefig(\"output/vulfMonoVerticalDimensions.pdf\")"
   ]
  },
  {
   "cell_type": "code",
   "execution_count": null,
   "id": "deea3ae5",
   "metadata": {},
   "outputs": [],
   "source": [
    "num_numbers = 67\n",
    "\n",
    "widthA4 = 8.27\n",
    "heightA4 = 11.69\n",
    "\n",
    "fig, ax = plt.subplots(figsize=(2*widthA4,heightA4))\n",
    "\n",
    "ax.set_xlim(0,1)\n",
    "ax.set_ylim(0,1)\n",
    "\n",
    "ax.set_position([.25, 0, .5, 1]) # axes labels are printed outside the space of the axis\n",
    "#ax.set_position([0, 0, 1, 1])\n",
    "\n",
    "for i in range(7):\n",
    "    text = str(i+1) * num_numbers\n",
    "    ax.text(0, i*.1, text, fontsize=12)\n",
    "\n",
    "\n",
    "\n",
    "fig.savefig(\"output/vulfMonoHorizontalDimensions.pdf\")"
   ]
  },
  {
   "cell_type": "code",
   "execution_count": null,
   "id": "5ac3a12b",
   "metadata": {},
   "outputs": [],
   "source": [
    "widthRelative = 1 / 67 / 12\n",
    "widthRelative"
   ]
  },
  {
   "cell_type": "code",
   "execution_count": null,
   "id": "4dcd2f12",
   "metadata": {},
   "outputs": [],
   "source": [
    "widthA4 = 8.27\n",
    "heightA4 = 11.69\n",
    "\n",
    "fontSize = 300 \n",
    "\n",
    "fig, ax = plt.subplots(figsize=(widthA4,heightA4))\n",
    "\n",
    "ax.set_xlim(0,1)\n",
    "ax.set_ylim(0,1)\n",
    "\n",
    "ax.set_position([0, 0, 1, 1])\n",
    "\n",
    "xShift = widthRelative * fontSize / 2\n",
    "\n",
    "\n",
    "ax.vlines([.5 - xShift, .5 + xShift], 0, 1)\n",
    "\n",
    "\n",
    "ax.text(.5 - xShift - 0.01,.5, 3, fontsize=fontSize, va='baseline', ha='left')\n",
    "ax.text(.5 ,.5, 3, fontsize=fontSize, va='baseline', ha='center', color='red')\n",
    "    \n",
    "\n"
   ]
  }
 ],
 "metadata": {
  "kernelspec": {
   "display_name": "Python 3 (ipykernel)",
   "language": "python",
   "name": "python3"
  },
  "language_info": {
   "codemirror_mode": {
    "name": "ipython",
    "version": 3
   },
   "file_extension": ".py",
   "mimetype": "text/x-python",
   "name": "python",
   "nbconvert_exporter": "python",
   "pygments_lexer": "ipython3",
   "version": "3.9.12"
  }
 },
 "nbformat": 4,
 "nbformat_minor": 5
}
