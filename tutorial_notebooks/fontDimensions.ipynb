{
 "cells": [
  {
   "cell_type": "markdown",
   "id": "93adc105",
   "metadata": {},
   "source": [
    "### horizontal shift\n",
    "In the below notebook we found out that for the tex font fontsize=10 the width of a number is approximately 1/119 = 0.0084 of the width of an A4 and therefore 0.0695 inches. \n",
    "\n",
    "### vertical shift (old)\n",
    "Vertically, there are 3 different relevant dimensions of a font. The cap height, which is equal to the height of a number, the descender height (the height a g or p goes below the baseline) and the vertical margin around the letter. The sum of these 3 gives the font size (?).   \n",
    "\n",
    "We find that for the latex font 100pt the descender height is 0.25 inch. We need to move the the vertical location down **half** this amount if we are using `vertical_alignment='center'` and we want to have the numers exactly centered vertically. \n",
    "\n",
    "This means 0.00125 inch/pt, and 0.00125/11.69 = 0.000107 pageHeight.  \n",
    "In practice, a slightly lower, e.g. 0.00008 seems to work better. \n",
    "\n",
    "### choosing barSpace\n",
    "Moreover, we find for the cap height of the 100pt font a height of 0.935 inch -> 0.00935 inch/pt. \n",
    "\n",
    "choosing a barSpace of 0.01 (which corrosponds to 0.1169 inches) therefore gives enough room for 0.0935 inches when using 10 pt font. \n",
    "\n",
    "\n",
    "dimensions a4\n",
    "widthA4 = 8.27\n",
    "heightA4 = 11.69\n",
    "\n",
    "1 pt = 0.01389 inches \n",
    "\n",
    "\n"
   ]
  },
  {
   "cell_type": "code",
   "execution_count": null,
   "id": "e19afe6c",
   "metadata": {},
   "outputs": [],
   "source": [
    "0.00125 / 11.69"
   ]
  },
  {
   "cell_type": "code",
   "execution_count": null,
   "id": "a49d22b4",
   "metadata": {},
   "outputs": [],
   "source": [
    "import matplotlib.pyplot as plt\n",
    "\n",
    "plt.rcParams.update({\n",
    "        \"text.usetex\": True,\n",
    "        \"font.family\": \"sans-serif\",\n",
    "        \"font.sans-serif\": ['Computer Modern Sans serif']\n",
    "        # \"font.sans-serif\": ['Helvetica']\n",
    "\n",
    "})"
   ]
  },
  {
   "cell_type": "markdown",
   "id": "c1453bab",
   "metadata": {},
   "source": [
    "## set width\n",
    "### horizontal shift\n"
   ]
  },
  {
   "cell_type": "code",
   "execution_count": null,
   "id": "90012f2b",
   "metadata": {},
   "outputs": [],
   "source": [
    "num_numbers = 119\n",
    "\n",
    "widthA4 = 8.27\n",
    "heightA4 = 11.69\n",
    "\n",
    "fig, ax = plt.subplots(figsize=(2*widthA4,10))\n",
    "\n",
    "ax.set_xlim(0,1)\n",
    "ax.set_ylim(0,1)\n",
    "\n",
    "ax.set_position([.25, 0, .5, 1]) # axes labels are printed outside the space of the axis\n",
    "#ax.set_position([0, 0, 1, 1])\n",
    "\n",
    "for i in range(7):\n",
    "    text = (\"$\"+ str(i+1) + \"$\") * num_numbers\n",
    "    ax.text(0, i*.1, text, fontsize=10)\n",
    "\n",
    "\n",
    "\n",
    "fig.savefig(\"output/numbers.pdf\")\n",
    "    "
   ]
  },
  {
   "cell_type": "code",
   "execution_count": null,
   "id": "14af30c4",
   "metadata": {},
   "outputs": [],
   "source": [
    "widthNumberRelativeToA4Page = 1/119\n",
    "widthNumber = widthNumberRelativeToA4Page * widthA4\n",
    "widthNumber"
   ]
  },
  {
   "cell_type": "markdown",
   "id": "7b3fc481",
   "metadata": {},
   "source": [
    "## Cap height"
   ]
  },
  {
   "cell_type": "code",
   "execution_count": null,
   "id": "08d1f0d9",
   "metadata": {},
   "outputs": [],
   "source": []
  },
  {
   "cell_type": "code",
   "execution_count": null,
   "id": "b24edfbd",
   "metadata": {},
   "outputs": [],
   "source": [
    "fontSizeFactor = 3\n",
    "\n",
    "fontSize = 100 * fontSizeFactor# pt\n",
    "fontSizeInchesRelative = 0.01389\n",
    "fontSizeInches = fontSizeInchesRelative * fontSize\n",
    "capHeightInches = .935 * fontSizeFactor\n",
    "\n",
    "figHeightInches = 10 \n",
    "fig, ax = plt.subplots(figsize=(widthA4,figHeightInches))\n",
    "\n",
    "ax.set_xlim(0,1)\n",
    "ax.set_ylim(0,1)\n",
    "\n",
    "ax.set_position([0, 0, 1, 1])\n",
    "\n",
    "y1 = .5 + fontSizeInches/figHeightInches\n",
    "ax.plot([0,1], [y1,y1])\n",
    "\n",
    "y2 = .5\n",
    "ax.plot([0,1], [y2,y2])\n",
    "\n",
    "y3 = .5 + (capHeightInches / figHeightInches)\n",
    "ax.plot([0,1], [y3,y3])\n",
    "\n",
    "for i in range(7):\n",
    "    text = (\"$\"+ str(i+1) + \"$\")\n",
    "    ax.text(.1 + i * .1 ,.5, text, fontsize=fontSize)\n",
    "\n",
    "\n",
    "\n",
    "\n",
    "fig.savefig(\"output/numbersVerticalOverlap.pdf\")\n",
    "    "
   ]
  },
  {
   "cell_type": "code",
   "execution_count": null,
   "id": "5ff3e030",
   "metadata": {},
   "outputs": [],
   "source": [
    "capHeightInches + downHeightInches"
   ]
  },
  {
   "cell_type": "code",
   "execution_count": null,
   "id": "a0bb7602",
   "metadata": {},
   "outputs": [],
   "source": [
    "fontSize = 100 * fontSizeFactor # pt\n",
    "fontSizeInchesRelative = 0.01389\n",
    "fontSizeInches = fontSizeInchesRelative * fontSize\n",
    "capHeightInches = .935 * fontSizeFactor\n",
    "downHeightInches = 0.25 * fontSizeFactor\n",
    "\n",
    "figHeightInches = 10 \n",
    "fig, ax = plt.subplots(figsize=(widthA4,figHeightInches))\n",
    "\n",
    "ax.set_xlim(0,1)\n",
    "ax.set_ylim(0,1)\n",
    "\n",
    "ax.set_position([0, 0, 1, 1])\n",
    "\n",
    "y1 = .5 + fontSizeInches/figHeightInches\n",
    "# ax.plot([0,1], [y1,y1], linewidth = 1 * fontSizeFactor)\n",
    "\n",
    "y2 = .5\n",
    "ax.plot([0,1], [y2,y2], linewidth = 1 * fontSizeFactor)\n",
    "\n",
    "y3 = .5 + (capHeightInches / figHeightInches)\n",
    "ax.plot([0,1], [y3,y3], linewidth = 1 * fontSizeFactor)\n",
    "\n",
    "y4 = .5 - (downHeightInches / figHeightInches)\n",
    "ax.plot([0,1], [y4,y4], linewidth = 1 * fontSizeFactor)\n",
    "\n",
    "\n",
    "adjustment = ((capHeightInches - fontSizeInches) / (figHeightInches* 2))\n",
    "for i in range(7):\n",
    "    text = (\"$\"+ str(i+1) + \"$\")\n",
    "    # ax.text(.1 + i * .1 ,.5, text, fontsize=fontSize)\n",
    "#     ax.text(.1 + i * .1 ,.5 + capHeightInches/(2 * figHeightInches) + adjustment, text, \n",
    "#             fontsize=fontSize, va='center')\n",
    "\n",
    "\n",
    "ax.text(.5, .5, \"$g$\", fontsize=fontSize)\n",
    "ax.text(.4, .5, \"$h$\", fontsize=fontSize)\n",
    "ax.text(.3, .5 + capHeightInches/2/figHeightInches - downHeightInches/2/figHeightInches, \"$4$\", fontsize=fontSize, va='center')\n",
    "\n",
    "\n",
    "fig.savefig(\"output/numbersVerticalAlignment.pdf\")\n",
    "    "
   ]
  },
  {
   "cell_type": "code",
   "execution_count": null,
   "id": "5c6aa6f5",
   "metadata": {},
   "outputs": [],
   "source": [
    "fig, ax = plt.subplots(figsize=(10,10))\n",
    "\n",
    "ax.text(.3,.5,\"$3$\", fontsize=10)\n",
    "ax.text(.3,.4,\"$3$\")"
   ]
  },
  {
   "cell_type": "code",
   "execution_count": null,
   "id": "74ef9f73",
   "metadata": {},
   "outputs": [],
   "source": []
  },
  {
   "cell_type": "code",
   "execution_count": null,
   "id": "730f8868",
   "metadata": {},
   "outputs": [],
   "source": []
  }
 ],
 "metadata": {
  "kernelspec": {
   "display_name": "Python 3 (ipykernel)",
   "language": "python",
   "name": "python3"
  },
  "language_info": {
   "codemirror_mode": {
    "name": "ipython",
    "version": 3
   },
   "file_extension": ".py",
   "mimetype": "text/x-python",
   "name": "python",
   "nbconvert_exporter": "python",
   "pygments_lexer": "ipython3",
   "version": "3.8.12"
  }
 },
 "nbformat": 4,
 "nbformat_minor": 5
}
