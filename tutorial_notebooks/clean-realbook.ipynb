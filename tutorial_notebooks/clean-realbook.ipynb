{
 "cells": [
  {
   "cell_type": "code",
   "execution_count": null,
   "id": "9aaa80e5",
   "metadata": {},
   "outputs": [],
   "source": [
    "from music21 import *"
   ]
  },
  {
   "cell_type": "code",
   "execution_count": null,
   "id": "78d019d5",
   "metadata": {},
   "outputs": [],
   "source": [
    "path = \"/Users/jvo/Documents/music-visualisation/tutorial_notebooks/output-realbook/Autumn leaves.musicxml\""
   ]
  },
  {
   "cell_type": "code",
   "execution_count": null,
   "id": "18e64170",
   "metadata": {},
   "outputs": [],
   "source": [
    "s = converter.parse(path)\n",
    "\n",
    "# remove pageLayout\n",
    "firstMeasure = s[stream.Measure][0]\n",
    "if firstMeasure[layout.PageLayout]:\n",
    "    pl = firstMeasure[layout.PageLayout][0]\n",
    "    firstMeasure.remove(pl)\n",
    "    firstMeasure.informSites()\n",
    "    \n",
    "# check for pickup measure\n",
    "secondMeasure = s[stream.Measure][1]\n",
    "if secondMeasure.quarterLength > firstMeasure.quarterLength:\n",
    "    pickupMeasure = True\n",
    "else:\n",
    "    pickupMeasure = False\n",
    "\n",
    "\n",
    "for i, measure in enumerate(s[stream.Measure]):\n",
    "    if pickupMeasure:\n",
    "        measureNumber = i\n",
    "    else:\n",
    "        measureNumber = i + 1\n",
    "        \n",
    "    measure.number = measureNumber\n",
    "    measure.informSites()\n",
    "    \n",
    "s.write(\"musicxml\", f\"cleaned-output-realbook/{s.metadata.bestTitle}.mxl\")\n",
    "\n"
   ]
  },
  {
   "cell_type": "code",
   "execution_count": null,
   "id": "f9489a5b",
   "metadata": {},
   "outputs": [],
   "source": [
    "s.show('text')"
   ]
  },
  {
   "cell_type": "code",
   "execution_count": null,
   "id": "0539e778",
   "metadata": {},
   "outputs": [],
   "source": [
    "s = stream.Score()\n",
    "p = stream.Part()\n",
    "m = stream.Measure()\n",
    "m.append(note.Note())\n",
    "p.append(m)\n",
    "s.append(p)\n",
    "s.insert(0, metadata.Metadata())\n",
    "s.metadata.title = 'title'\n",
    "s.metadata.composer = 'composer'\n",
    "s.write(\"musicxml\", \"output/metadata.mxl\")"
   ]
  },
  {
   "cell_type": "code",
   "execution_count": null,
   "id": "53a07216",
   "metadata": {},
   "outputs": [],
   "source": [
    "s.show('text')"
   ]
  },
  {
   "cell_type": "code",
   "execution_count": null,
   "id": "f7f99eb8",
   "metadata": {},
   "outputs": [],
   "source": [
    "st = converter.parse(\"/Users/jvo/Documents/music-visualisation/tutorial_notebooks/output/metadata.musicxml\")"
   ]
  },
  {
   "cell_type": "code",
   "execution_count": null,
   "id": "e20fe58b",
   "metadata": {},
   "outputs": [],
   "source": [
    "st.metadata.bestTitle"
   ]
  },
  {
   "cell_type": "code",
   "execution_count": null,
   "id": "999bb8b7",
   "metadata": {},
   "outputs": [],
   "source": [
    "stt = converter.parse(\"/Users/jvo/Documents/music-visualisation/sheetMusic/Autumn_Leaves.mxl\")"
   ]
  },
  {
   "cell_type": "code",
   "execution_count": null,
   "id": "924078a7",
   "metadata": {},
   "outputs": [],
   "source": [
    "stt.metadata.title = 'AL'"
   ]
  },
  {
   "cell_type": "code",
   "execution_count": null,
   "id": "feb368b3",
   "metadata": {},
   "outputs": [],
   "source": [
    "stt.write('musicxml', \"output/metadata2\" )"
   ]
  },
  {
   "cell_type": "code",
   "execution_count": null,
   "id": "a13c9c94",
   "metadata": {},
   "outputs": [],
   "source": [
    "sttt = converter.parse(\"/Users/jvo/Documents/music-visualisation/tutorial_notebooks/output/metadata2.musicxml\")"
   ]
  },
  {
   "cell_type": "code",
   "execution_count": null,
   "id": "03a49d1b",
   "metadata": {},
   "outputs": [],
   "source": [
    "sttt.metadata"
   ]
  },
  {
   "cell_type": "code",
   "execution_count": null,
   "id": "216f3dd6",
   "metadata": {},
   "outputs": [],
   "source": [
    "sttt.show('text')"
   ]
  },
  {
   "cell_type": "code",
   "execution_count": null,
   "id": "dc975eda",
   "metadata": {},
   "outputs": [],
   "source": []
  }
 ],
 "metadata": {
  "kernelspec": {
   "display_name": "Python 3 (ipykernel)",
   "language": "python",
   "name": "python3"
  },
  "language_info": {
   "codemirror_mode": {
    "name": "ipython",
    "version": 3
   },
   "file_extension": ".py",
   "mimetype": "text/x-python",
   "name": "python",
   "nbconvert_exporter": "python",
   "pygments_lexer": "ipython3",
   "version": "3.9.15"
  }
 },
 "nbformat": 4,
 "nbformat_minor": 5
}
