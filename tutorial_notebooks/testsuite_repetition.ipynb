{
 "cells": [
  {
   "cell_type": "code",
   "execution_count": null,
   "metadata": {},
   "outputs": [],
   "source": [
    "from music21 import *\n",
    "import os\n",
    "import re\n",
    "import pathlib\n"
   ]
  },
  {
   "cell_type": "code",
   "execution_count": null,
   "metadata": {},
   "outputs": [],
   "source": [
    "allF = musicxml.lilypondTestSuite.allFiles()\n",
    "untested = [f.name for f in sorted(allF)]\n",
    "scores = {}\n",
    "musicxmlOut = {}\n",
    "\n",
    "def s(i):\n",
    "    if isinstance(i, int):\n",
    "        longFp = allF[i]\n",
    "    else:\n",
    "        for longFp in allF:\n",
    "            shortFp = longFp.name\n",
    "            if i in shortFp:\n",
    "                break\n",
    "        else:\n",
    "            raise Exception(\"Cannot find: \" + str(i))\n",
    "    shortFp = longFp.name\n",
    "    if shortFp in untested:\n",
    "        untested.remove(shortFp)\n",
    "\n",
    "    sc = converter.parse(longFp, forceSource=True)\n",
    "    scores[i] = sc\n",
    "\n",
    "    fp = pathlib.Path(sc.filePath).name\n",
    "    print(fp + '\\n')\n",
    "\n",
    "    desc = sc.metadata.description\n",
    "    desc = re.sub(r'\\s+', ' ', desc)\n",
    "    print(desc)\n",
    "\n",
    "    fpOut = sc.write('musicxml')\n",
    "    with open(fpOut, 'r') as musicxmlOutFile:\n",
    "        allOut = musicxmlOutFile.read()\n",
    "\n",
    "    musicxmlOut[i] = allOut\n",
    "    sc.show()\n",
    "    return sc"
   ]
  },
  {
   "cell_type": "code",
   "execution_count": null,
   "metadata": {},
   "outputs": [],
   "source": [
    "allF"
   ]
  },
  {
   "cell_type": "code",
   "execution_count": null,
   "metadata": {},
   "outputs": [],
   "source": [
    "st = s('45b')"
   ]
  },
  {
   "cell_type": "code",
   "execution_count": null,
   "metadata": {},
   "outputs": [],
   "source": [
    "c = st.flat.notes[2]\n",
    "c.transpose(2, inPlace=True)"
   ]
  },
  {
   "cell_type": "code",
   "execution_count": null,
   "metadata": {},
   "outputs": [],
   "source": [
    "#st.flat.notes[1] = note.Note('d')\n",
    "#st.flat.notes[2] = note.Note('e')\n",
    "#st.show()\n",
    "st.show('midi')"
   ]
  },
  {
   "cell_type": "code",
   "execution_count": null,
   "metadata": {},
   "outputs": [],
   "source": [
    "st.show('text')"
   ]
  },
  {
   "cell_type": "markdown",
   "metadata": {},
   "source": [
    "## real example"
   ]
  },
  {
   "cell_type": "code",
   "execution_count": null,
   "metadata": {},
   "outputs": [],
   "source": [
    "s_softly = converter.parse(\"/Users/jvo/Dropbox/Jesse/text/bladmuziek/selection/Softly as in a Morning Sunrise.mxl\")"
   ]
  },
  {
   "cell_type": "code",
   "execution_count": null,
   "metadata": {},
   "outputs": [],
   "source": [
    "s_softly.show()"
   ]
  },
  {
   "cell_type": "code",
   "execution_count": null,
   "metadata": {},
   "outputs": [],
   "source": [
    "for bracket in s_softly.recurse().getElementsByClass(spanner.RepeatBracket):\n",
    "    print(bracket)"
   ]
  },
  {
   "cell_type": "code",
   "execution_count": null,
   "metadata": {},
   "outputs": [],
   "source": [
    "s_softly.show('text')"
   ]
  },
  {
   "cell_type": "code",
   "execution_count": null,
   "metadata": {},
   "outputs": [],
   "source": [
    "p = graph.plot.PlotStream(s_softly)\n",
    "offsetMap = graph.axis.OffsetAxis(p, 'x').getOffsetMap()\n",
    "measures = [measure[0] for measure in offsetMap.values()]"
   ]
  },
  {
   "cell_type": "code",
   "execution_count": null,
   "metadata": {},
   "outputs": [],
   "source": [
    "measures[7].getSpannerSites()[0].number == '1'"
   ]
  },
  {
   "cell_type": "code",
   "execution_count": null,
   "metadata": {},
   "outputs": [],
   "source": [
    "measures[7].getSpannerSites()[0].isFirst(measures[7])"
   ]
  },
  {
   "cell_type": "code",
   "execution_count": null,
   "metadata": {},
   "outputs": [],
   "source": [
    "a.lyric"
   ]
  },
  {
   "cell_type": "code",
   "execution_count": null,
   "metadata": {},
   "outputs": [],
   "source": [
    "a = s_softly.flat.notes[2]"
   ]
  }
 ],
 "metadata": {
  "kernelspec": {
   "display_name": "Python 3 (ipykernel)",
   "language": "python",
   "name": "python3"
  },
  "language_info": {
   "codemirror_mode": {
    "name": "ipython",
    "version": 3
   },
   "file_extension": ".py",
   "mimetype": "text/x-python",
   "name": "python",
   "nbconvert_exporter": "python",
   "pygments_lexer": "ipython3",
   "version": "3.9.12"
  }
 },
 "nbformat": 4,
 "nbformat_minor": 4
}
