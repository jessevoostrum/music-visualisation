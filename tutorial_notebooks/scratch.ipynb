{
 "cells": [
  {
   "cell_type": "code",
   "execution_count": null,
   "id": "4c4fb8ab",
   "metadata": {},
   "outputs": [],
   "source": [
    "from music21 import *"
   ]
  },
  {
   "cell_type": "code",
   "execution_count": null,
   "id": "b964b4d7",
   "metadata": {},
   "outputs": [],
   "source": [
    "s = converter.parse(\"/Users/jvo/Downloads/Ultime_Jazz_Real_Book_-_A.musicxml\")\n",
    "s1 = converter.parse(\"/Users/jvo/Library/Mobile Documents/com~apple~CloudDocs/bladmuziek/realbooks/Ultime_Jazz_Real_Book_-_A (1).musicxml\")"
   ]
  },
  {
   "cell_type": "code",
   "execution_count": null,
   "id": "baad321d",
   "metadata": {},
   "outputs": [],
   "source": [
    "s1.show('text')"
   ]
  },
  {
   "cell_type": "code",
   "execution_count": null,
   "id": "a46b9d9b",
   "metadata": {},
   "outputs": [],
   "source": [
    "s.show('text')"
   ]
  },
  {
   "cell_type": "code",
   "execution_count": null,
   "id": "82c2af87",
   "metadata": {},
   "outputs": [],
   "source": [
    "s1.show('text')"
   ]
  },
  {
   "cell_type": "code",
   "execution_count": null,
   "id": "de9802f4",
   "metadata": {},
   "outputs": [],
   "source": [
    "s.show()"
   ]
  },
  {
   "cell_type": "code",
   "execution_count": null,
   "id": "2917e2cc",
   "metadata": {},
   "outputs": [],
   "source": [
    "s.measures(2,3).show(\"text\")"
   ]
  },
  {
   "cell_type": "code",
   "execution_count": null,
   "id": "a6e03757",
   "metadata": {},
   "outputs": [],
   "source": [
    "s.measures(2,3).show()"
   ]
  }
 ],
 "metadata": {
  "kernelspec": {
   "display_name": "Python 3 (ipykernel)",
   "language": "python",
   "name": "python3"
  },
  "language_info": {
   "codemirror_mode": {
    "name": "ipython",
    "version": 3
   },
   "file_extension": ".py",
   "mimetype": "text/x-python",
   "name": "python",
   "nbconvert_exporter": "python",
   "pygments_lexer": "ipython3",
   "version": "3.9.15"
  }
 },
 "nbformat": 4,
 "nbformat_minor": 5
}
