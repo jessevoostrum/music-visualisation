{
 "cells": [
  {
   "cell_type": "markdown",
   "id": "7a2613ee",
   "metadata": {},
   "source": [
    "https://stackoverflow.com/questions/11367736/matplotlib-consistent-font-using-latex\n",
    "\n",
    "with usetex True, one can only set the text font with the rc parameters. the math font remains constant."
   ]
  },
  {
   "cell_type": "code",
   "execution_count": null,
   "id": "86b01dbc",
   "metadata": {},
   "outputs": [],
   "source": [
    "import matplotlib.font_manager as font_manager\n",
    "from matplotlib import rcParams, rc\n",
    "import matplotlib.pyplot as plt"
   ]
  },
  {
   "cell_type": "code",
   "execution_count": null,
   "id": "8cc82249",
   "metadata": {},
   "outputs": [],
   "source": [
    "# Add every font at the specified location\n",
    "font_dir = ['/Users/jvo/Downloads/OH no Type Company Order #e6cd109/Vulf Mono/Desktop']\n",
    "for font in font_manager.findSystemFonts(font_dir):\n",
    "    font_manager.fontManager.addfont(font)"
   ]
  },
  {
   "cell_type": "code",
   "execution_count": null,
   "id": "106a7205",
   "metadata": {},
   "outputs": [],
   "source": [
    "# Set font family globally\n",
    "# rcParams['text.usetex'] = True\n",
    "rcParams['font.family'] = 'Vulf Mono'\n",
    "rcParams['font.style'] = 'italic'\n",
    "rcParams['font.weight'] = 'light'"
   ]
  },
  {
   "cell_type": "code",
   "execution_count": null,
   "id": "464f3080",
   "metadata": {},
   "outputs": [],
   "source": [
    "fig, ax = plt.subplots()\n",
    "\n",
    "# rcParams['mathtext.fontset'] = 'Vulf Mono'\n",
    "rcParams['font.family'] = 'Vulf Mono'\n",
    "# rcParams['mathtext.fontset'] = 'Vulf Mono'\n",
    "rcParams['font.family'] = 'serif'\n",
    "\n",
    "\n",
    "rcParams['text.usetex'] = False\n",
    "#rcParams['mathtext.fontset'] = 'cm'\n",
    "#rcParams['font.family'] = 'serif'\n",
    "\n",
    "\n",
    "rc('text.latex', preamble=r'\\usepackage{amssymb, amsmath}')\n",
    "ax.set_ylim(0,1)\n",
    "ax.plot([.6,.6])\n",
    "ax.text(.4, .5, \"$\\mathdefault{5}$\", size=100, va='bottom')\n",
    "ax.text(.6, .5, \"$\\mathdefault{{}^\\\\# 5}$\", size=100, va='bottom')\n",
    "#ax.text(.5, .5, \"$\\mathdefault{5}$ $\\mathdefault{{}^\\\\# 5}$\", size=30, va='center')\n",
    "# ax.text(.5, .3, \"A $A \\\\text{A}$\", size=30)"
   ]
  },
  {
   "cell_type": "code",
   "execution_count": null,
   "id": "cce7d3e1",
   "metadata": {},
   "outputs": [],
   "source": [
    "fig, ax = plt.subplots()\n",
    "\n",
    "# rcParams['mathtext.fontset'] = 'Vulf Mono'\n",
    "rcParams['font.family'] = 'Vulf Mono'\n",
    "# rcParams['mathtext.fontset'] = 'Vulf Mono'\n",
    "\n",
    "\n",
    "rcParams['text.usetex'] = False\n",
    "rcParams['mathtext.fontset'] = 'cm'\n",
    "#rcParams['font.family'] = 'serif'\n",
    "\n",
    "\n",
    "rc('text.latex', preamble=r'\\usepackage{amssymb, amsmath}')\n",
    "ax.set_ylim(0,1)\n",
    "ax.plot([.6,.6])\n",
    "ax.text(.5, .5, \"$5$\", size=100, va='bottom')\n",
    "ax.text(.6, .5, \"${}^\\\\# 5$\", size=100, va='bottom')"
   ]
  },
  {
   "cell_type": "markdown",
   "id": "6071fa57",
   "metadata": {},
   "source": [
    "## compare settings use tex True False"
   ]
  },
  {
   "cell_type": "code",
   "execution_count": null,
   "id": "029d7b07",
   "metadata": {},
   "outputs": [],
   "source": [
    "fig, ax = plt.subplots()\n",
    "\n",
    "rcParams['text.usetex'] = False\n",
    "rcParams['font.family'] = 'serif'\n",
    "rcParams['mathtext.fontset'] = 'stix'\n",
    "\n",
    "ax.text(.5, .5, \"abc $abc 3$\", size=30, va='bottom')"
   ]
  },
  {
   "cell_type": "code",
   "execution_count": null,
   "id": "df91030e",
   "metadata": {},
   "outputs": [],
   "source": [
    "rcParams['font.family'] = 'monospace'\n",
    "rcParams['mathtext.fontset'] = 'cm'\n",
    "ax.text(.5, .3, \"abc $abc 3$\", size=30)\n",
    "fig"
   ]
  },
  {
   "cell_type": "code",
   "execution_count": null,
   "id": "98247b6c",
   "metadata": {},
   "outputs": [],
   "source": [
    "fig, ax = plt.subplots()\n",
    "\n",
    "rcParams['text.usetex'] = True\n",
    "rcParams['font.family'] = 'serif'\n",
    "rcParams['mathtext.fontset'] = 'stix'\n",
    "\n",
    "ax.text(.5, .5, \"abc $abc 3$\", size=30, va='bottom')"
   ]
  },
  {
   "cell_type": "code",
   "execution_count": null,
   "id": "de1fe07f",
   "metadata": {},
   "outputs": [],
   "source": [
    "rcParams['font.family'] = 'monospace'\n",
    "rcParams['mathtext.fontset'] = 'cm'\n",
    "ax.text(.5, .3, \"abc $abc 3$\", size=30)\n",
    "fig"
   ]
  },
  {
   "cell_type": "code",
   "execution_count": null,
   "id": "1110df00",
   "metadata": {},
   "outputs": [],
   "source": [
    "rcParams['text.usetex'] = False\n",
    "\n",
    "rcParams['font.family'] = 'Vulf Mono'\n",
    "rcParams['font.style'] = 'italic'\n",
    "rcParams['font.weight'] = 'light'\n",
    "\n",
    "ax.text(.3,.3, \"vulf\", size=30)\n",
    "fig"
   ]
  },
  {
   "cell_type": "code",
   "execution_count": null,
   "id": "06c07707",
   "metadata": {},
   "outputs": [],
   "source": [
    "import matplotlib\n",
    "matplotlib.rcParams['font.family'] = 'times new roman'\n",
    "matplotlib.rcParams['mathtext.fontset'] = 'custom'\n",
    "matplotlib.rcParams['mathtext.rm'] = 'cm'\n",
    "matplotlib.pyplot.title(r'ABC123 vs $\\mathrm{ABC123}^{123}$')"
   ]
  }
 ],
 "metadata": {
  "kernelspec": {
   "display_name": "Python 3 (ipykernel)",
   "language": "python",
   "name": "python3"
  },
  "language_info": {
   "codemirror_mode": {
    "name": "ipython",
    "version": 3
   },
   "file_extension": ".py",
   "mimetype": "text/x-python",
   "name": "python",
   "nbconvert_exporter": "python",
   "pygments_lexer": "ipython3",
   "version": "3.8.12"
  }
 },
 "nbformat": 4,
 "nbformat_minor": 5
}
