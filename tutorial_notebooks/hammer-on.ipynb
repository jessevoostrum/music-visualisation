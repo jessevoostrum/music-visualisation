{
 "cells": [
  {
   "cell_type": "code",
   "execution_count": null,
   "id": "9c084d53",
   "metadata": {},
   "outputs": [],
   "source": [
    "from music21 import *\n",
    "import os\n",
    "import re\n",
    "import pathlib\n"
   ]
  },
  {
   "cell_type": "code",
   "execution_count": null,
   "id": "a4c31e98",
   "metadata": {},
   "outputs": [],
   "source": [
    "s = converter.parse(\"/Users/jvo/Library/Mobile Documents/com~apple~CloudDocs/bladmuziek/test-files/hammer-on2.musicxml\")\n",
    "st = converter.parse(\"/Users/jvo/Library/Mobile Documents/com~apple~CloudDocs/bladmuziek/test-files/hammer-on3.musicxml\")\n"
   ]
  },
  {
   "cell_type": "code",
   "execution_count": null,
   "id": "a92bdc9f",
   "metadata": {},
   "outputs": [],
   "source": [
    "n0 = note.Note('C')\n",
    "n1 = note.Note('D')\n",
    "n2 = note.Note('F')\n",
    "n3 = note.Note('E')\n",
    "hammerOn01 = articulations.HammerOn([n0,n1])\n",
    "pullOff23 = articulations.PullOff([n2,n3])\n",
    "m = stream.Measure()\n",
    "m.insert(0, hammerOn01)\n",
    "m.insert(0, pullOff23)\n",
    "m.append(n0)\n",
    "m.append(n1)\n",
    "m.append(n2)\n",
    "m.append(n3)"
   ]
  },
  {
   "cell_type": "code",
   "execution_count": null,
   "id": "358b0be9",
   "metadata": {},
   "outputs": [],
   "source": [
    "m.show()"
   ]
  },
  {
   "cell_type": "code",
   "execution_count": null,
   "id": "2a3c6008",
   "metadata": {},
   "outputs": [],
   "source": [
    "m.show('text')"
   ]
  },
  {
   "cell_type": "code",
   "execution_count": null,
   "id": "c1ac92ff",
   "metadata": {},
   "outputs": [],
   "source": [
    "st.show(\"text\")"
   ]
  },
  {
   "cell_type": "code",
   "execution_count": null,
   "id": "18c8beb2",
   "metadata": {},
   "outputs": [],
   "source": [
    "s.show()"
   ]
  },
  {
   "cell_type": "code",
   "execution_count": null,
   "id": "cfa9023f",
   "metadata": {},
   "outputs": [],
   "source": [
    "c = s[note.Note][0]\n",
    "d = s[note.Note][1]\n",
    "eb = s[note.Note][2]\n",
    "d2 = s[note.Note][3]\n",
    "c2 = s[note.Note][4]"
   ]
  },
  {
   "cell_type": "code",
   "execution_count": null,
   "id": "499bf612",
   "metadata": {},
   "outputs": [],
   "source": [
    "dir(c)"
   ]
  },
  {
   "cell_type": "code",
   "execution_count": null,
   "id": "b70b26a5",
   "metadata": {},
   "outputs": [],
   "source": [
    "len(notes)"
   ]
  },
  {
   "cell_type": "code",
   "execution_count": null,
   "id": "bfbf21c5",
   "metadata": {},
   "outputs": [],
   "source": [
    "notes = s[note.Note]\n",
    "\n",
    "for idx, el in enumerate(notes):\n",
    "\n",
    "    if idx < len(notes) - 1:\n",
    "        elNext = notes[idx+1]\n",
    "    else:\n",
    "        elNext = None\n",
    "\n",
    "    print(el, elNext)"
   ]
  },
  {
   "cell_type": "code",
   "execution_count": null,
   "id": "43173848",
   "metadata": {},
   "outputs": [],
   "source": [
    "eb.articulations[0].name"
   ]
  },
  {
   "cell_type": "code",
   "execution_count": null,
   "id": "fb42df1b",
   "metadata": {},
   "outputs": [],
   "source": [
    "d2.articulations[0].name\n",
    "c2.articulations[0].name"
   ]
  },
  {
   "cell_type": "code",
   "execution_count": null,
   "id": "2d4b463e",
   "metadata": {},
   "outputs": [],
   "source": [
    "art.classes"
   ]
  },
  {
   "cell_type": "code",
   "execution_count": null,
   "id": "d4cff30f",
   "metadata": {},
   "outputs": [],
   "source": [
    "art.name"
   ]
  },
  {
   "cell_type": "code",
   "execution_count": null,
   "id": "eb83d81b",
   "metadata": {},
   "outputs": [],
   "source": [
    "type(c.articulations[0])"
   ]
  },
  {
   "cell_type": "code",
   "execution_count": null,
   "id": "41614902",
   "metadata": {},
   "outputs": [],
   "source": [
    "art = c.articulations[0]\n",
    "dir(d.articulations[0])"
   ]
  },
  {
   "cell_type": "code",
   "execution_count": null,
   "id": "d4720aa9",
   "metadata": {},
   "outputs": [],
   "source": [
    "s.show(\"text\")"
   ]
  },
  {
   "cell_type": "code",
   "execution_count": null,
   "id": "b58746a3",
   "metadata": {},
   "outputs": [],
   "source": [
    "sl = s[spanner.Slur][0]\n",
    "dir(sl)"
   ]
  },
  {
   "cell_type": "code",
   "execution_count": null,
   "id": "ca64c758",
   "metadata": {},
   "outputs": [],
   "source": [
    "sl.classes"
   ]
  },
  {
   "cell_type": "code",
   "execution_count": null,
   "id": "a86cdb62",
   "metadata": {},
   "outputs": [],
   "source": [
    "allF = musicxml.lilypondTestSuite.allFiles()\n",
    "untested = [f.name for f in sorted(allF)]\n",
    "scores = {}\n",
    "musicxmlOut = {}\n",
    "\n",
    "def s(i):\n",
    "    if isinstance(i, int):\n",
    "        longFp = allF[i]\n",
    "    else:\n",
    "        for longFp in allF:\n",
    "            shortFp = longFp.name\n",
    "            if i in shortFp:\n",
    "                break\n",
    "        else:\n",
    "            raise Exception(\"Cannot find: \" + str(i))\n",
    "    shortFp = longFp.name\n",
    "    if shortFp in untested:\n",
    "        untested.remove(shortFp)\n",
    "\n",
    "    sc = converter.parse(longFp, forceSource=True)\n",
    "    scores[i] = sc\n",
    "\n",
    "    fp = pathlib.Path(sc.filePath).name\n",
    "    print(fp + '\\n')\n",
    "\n",
    "    desc = sc.metadata.description\n",
    "    desc = re.sub(r'\\s+', ' ', desc)\n",
    "    print(desc)\n",
    "\n",
    "    fpOut = sc.write('musicxml')\n",
    "    with open(fpOut, 'r') as musicxmlOutFile:\n",
    "        allOut = musicxmlOutFile.read()\n",
    "\n",
    "    musicxmlOut[i] = allOut\n",
    "    sc.show()\n",
    "    return sc\n"
   ]
  },
  {
   "cell_type": "code",
   "execution_count": null,
   "id": "59c6c3d0",
   "metadata": {},
   "outputs": [],
   "source": [
    "s('33a').show('text')"
   ]
  },
  {
   "cell_type": "code",
   "execution_count": null,
   "id": "f7aa08ed",
   "metadata": {},
   "outputs": [],
   "source": []
  }
 ],
 "metadata": {
  "kernelspec": {
   "display_name": "Python 3 (ipykernel)",
   "language": "python",
   "name": "python3"
  },
  "language_info": {
   "codemirror_mode": {
    "name": "ipython",
    "version": 3
   },
   "file_extension": ".py",
   "mimetype": "text/x-python",
   "name": "python",
   "nbconvert_exporter": "python",
   "pygments_lexer": "ipython3",
   "version": "3.9.12"
  }
 },
 "nbformat": 4,
 "nbformat_minor": 5
}
