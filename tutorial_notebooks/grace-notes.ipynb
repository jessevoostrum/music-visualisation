{
 "cells": [
  {
   "cell_type": "code",
   "execution_count": null,
   "id": "8afb0718",
   "metadata": {},
   "outputs": [],
   "source": [
    "from music21 import *"
   ]
  },
  {
   "cell_type": "code",
   "execution_count": null,
   "id": "373e7994",
   "metadata": {},
   "outputs": [],
   "source": [
    "s = converter.parse(\"/usr/local/Caskroom/miniconda/base/envs/music/lib/python3.9/site-packages/music21/musicxml/lilypondTestSuite/24a-GraceNotes.xml\")\n"
   ]
  },
  {
   "cell_type": "code",
   "execution_count": null,
   "id": "2da130ed",
   "metadata": {},
   "outputs": [],
   "source": [
    "s.show()"
   ]
  },
  {
   "cell_type": "code",
   "execution_count": null,
   "id": "4f070a08",
   "metadata": {},
   "outputs": [],
   "source": [
    "s.show('text')"
   ]
  },
  {
   "cell_type": "code",
   "execution_count": null,
   "id": "1ed05bf9",
   "metadata": {},
   "outputs": [],
   "source": [
    "d1 = s[note.Note][0]\n",
    "e = s[note.Note][2]\n",
    "d = s[note.Note][3]"
   ]
  },
  {
   "cell_type": "code",
   "execution_count": null,
   "id": "6110a427",
   "metadata": {},
   "outputs": [],
   "source": [
    "d1.beams.getTypes():\n"
   ]
  },
  {
   "cell_type": "code",
   "execution_count": null,
   "id": "7db41d5b",
   "metadata": {},
   "outputs": [],
   "source": [
    "d.beams.beamsList"
   ]
  },
  {
   "cell_type": "code",
   "execution_count": null,
   "id": "e323bbcb",
   "metadata": {},
   "outputs": [],
   "source": [
    "d.beams.getTypes()"
   ]
  },
  {
   "cell_type": "code",
   "execution_count": null,
   "id": "d8dbfd8f",
   "metadata": {},
   "outputs": [],
   "source": [
    "m = stream.Measure()\n",
    "m.append(meter.TimeSignature('4/4'))\n",
    "m.repeatAppend(note.Note('C5'), 4)\n",
    "fGrace = note.Note('F5', type='16th').getGrace()\n",
    "eGrace = note.Note('E5', type='16th').getGrace()\n",
    "e0Grace = note.Note('E5', type='16th').getGrace()\n",
    "dGrace2 = note.Note('D5', type='16th').getGrace()\n",
    "e0Grace.beams.fill(2, 'start')\n",
    "fGrace.beams.fill(2, 'continue')\n",
    "eGrace.beams.fill(2, 'continue')\n",
    "dGrace2.beams.fill(2, 'stop')\n",
    "m.insert(3.0, e0Grace)\n",
    "m.insert(3.0, fGrace)\n",
    "m.insert(3.0, eGrace)\n",
    "m.insert(3.0, dGrace2)\n",
    "m.show()\n",
    "m.write(\"musicxml\", \"../testfiles/gracenotes4\")"
   ]
  },
  {
   "cell_type": "code",
   "execution_count": null,
   "id": "9ac7b6bb",
   "metadata": {},
   "outputs": [],
   "source": [
    "m"
   ]
  },
  {
   "cell_type": "code",
   "execution_count": null,
   "id": "ab1b8de3",
   "metadata": {},
   "outputs": [],
   "source": [
    "m[note.Note][4].beams"
   ]
  },
  {
   "cell_type": "code",
   "execution_count": null,
   "id": "41eb0b73",
   "metadata": {},
   "outputs": [],
   "source": [
    "print(d.offset, d.quarterLength, d.duration)"
   ]
  },
  {
   "cell_type": "code",
   "execution_count": null,
   "id": "3c143140",
   "metadata": {},
   "outputs": [],
   "source": [
    "dir(d)"
   ]
  },
  {
   "cell_type": "code",
   "execution_count": null,
   "id": "0898f394",
   "metadata": {},
   "outputs": [],
   "source": [
    "c.quarterLength"
   ]
  }
 ],
 "metadata": {
  "kernelspec": {
   "display_name": "Python 3 (ipykernel)",
   "language": "python",
   "name": "python3"
  },
  "language_info": {
   "codemirror_mode": {
    "name": "ipython",
    "version": 3
   },
   "file_extension": ".py",
   "mimetype": "text/x-python",
   "name": "python",
   "nbconvert_exporter": "python",
   "pygments_lexer": "ipython3",
   "version": "3.9.12"
  }
 },
 "nbformat": 4,
 "nbformat_minor": 5
}
