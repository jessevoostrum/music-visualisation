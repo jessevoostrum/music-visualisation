{
 "cells": [
  {
   "cell_type": "code",
   "execution_count": null,
   "id": "293f07bf",
   "metadata": {},
   "outputs": [],
   "source": [
    "from music21 import *"
   ]
  },
  {
   "cell_type": "code",
   "execution_count": null,
   "id": "9ca9ad22",
   "metadata": {},
   "outputs": [],
   "source": [
    "s = converter.parse(\"/usr/local/Caskroom/miniconda/base/envs/music/lib/python3.9/site-packages/music21/musicxml/lilypondTestSuite/24a-GraceNotes.xml\")\n"
   ]
  },
  {
   "cell_type": "code",
   "execution_count": null,
   "id": "666e9393",
   "metadata": {},
   "outputs": [],
   "source": [
    "s.show()"
   ]
  },
  {
   "cell_type": "code",
   "execution_count": null,
   "id": "009c45ce",
   "metadata": {},
   "outputs": [],
   "source": [
    "s.show('text')"
   ]
  },
  {
   "cell_type": "code",
   "execution_count": null,
   "id": "e9f664a2",
   "metadata": {},
   "outputs": [],
   "source": [
    "d1 = s[note.Note][0]\n",
    "e = s[note.Note][2]\n",
    "d = s[note.Note][3]"
   ]
  },
  {
   "cell_type": "code",
   "execution_count": null,
   "id": "d3e4cdbd",
   "metadata": {},
   "outputs": [],
   "source": [
    "d1.beams.getTypes():\n"
   ]
  },
  {
   "cell_type": "code",
   "execution_count": null,
   "id": "1f6a0613",
   "metadata": {},
   "outputs": [],
   "source": [
    "d.beams.beamsList"
   ]
  },
  {
   "cell_type": "code",
   "execution_count": null,
   "id": "8fdffdef",
   "metadata": {},
   "outputs": [],
   "source": [
    "d.beams.getTypes()"
   ]
  },
  {
   "cell_type": "code",
   "execution_count": null,
   "id": "264b0b53",
   "metadata": {},
   "outputs": [],
   "source": [
    "m = stream.Measure()\n",
    "m.append(meter.TimeSignature('4/4'))\n",
    "m.repeatAppend(note.Note('C5'), 4)\n",
    "fGrace = note.Note('F5', type='16th').getGrace()\n",
    "eGrace = note.Note('E5', type='16th').getGrace()\n",
    "e0Grace = note.Note('E5', type='16th').getGrace()\n",
    "dGrace2 = note.Note('D5', type='16th').getGrace()\n",
    "e0Grace.beams.fill(2, 'start')\n",
    "fGrace.beams.fill(2, 'continue')\n",
    "eGrace.beams.fill(2, 'continue')\n",
    "dGrace2.beams.fill(2, 'stop')\n",
    "m.insert(3.0, e0Grace)\n",
    "m.insert(3.0, fGrace)\n",
    "m.insert(3.0, eGrace)\n",
    "m.insert(3.0, dGrace2)\n",
    "m.show()\n",
    "m.write(\"musicxml\", \"../testfiles/gracenotes4\")"
   ]
  },
  {
   "cell_type": "code",
   "execution_count": null,
   "id": "fdfb3e14",
   "metadata": {},
   "outputs": [],
   "source": [
    "m"
   ]
  },
  {
   "cell_type": "code",
   "execution_count": null,
   "id": "edf1bc38",
   "metadata": {},
   "outputs": [],
   "source": [
    "m[note.Note][4].beams"
   ]
  },
  {
   "cell_type": "code",
   "execution_count": null,
   "id": "ebd8277d",
   "metadata": {},
   "outputs": [],
   "source": [
    "print(d.offset, d.quarterLength, d.duration)"
   ]
  },
  {
   "cell_type": "code",
   "execution_count": null,
   "id": "032e54e1",
   "metadata": {},
   "outputs": [],
   "source": [
    "dir(d)"
   ]
  },
  {
   "cell_type": "code",
   "execution_count": null,
   "id": "ac787de8",
   "metadata": {},
   "outputs": [],
   "source": [
    "c.quarterLength"
   ]
  }
 ],
 "metadata": {
  "kernelspec": {
   "display_name": "Python 3 (ipykernel)",
   "language": "python",
   "name": "python3"
  },
  "language_info": {
   "codemirror_mode": {
    "name": "ipython",
    "version": 3
   },
   "file_extension": ".py",
   "mimetype": "text/x-python",
   "name": "python",
   "nbconvert_exporter": "python",
   "pygments_lexer": "ipython3",
   "version": "3.9.12"
  }
 },
 "nbformat": 4,
 "nbformat_minor": 5
}
