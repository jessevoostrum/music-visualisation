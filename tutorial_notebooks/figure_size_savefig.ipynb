{
 "cells": [
  {
   "cell_type": "code",
   "execution_count": null,
   "metadata": {},
   "outputs": [],
   "source": [
    "import matplotlib.pyplot as plt\n",
    "from matplotlib.backends.backend_pdf import PdfPages\n",
    "from matplotlib.transforms import Bbox\n",
    "from matplotlib.patches import Rectangle"
   ]
  },
  {
   "cell_type": "code",
   "execution_count": null,
   "metadata": {},
   "outputs": [],
   "source": [
    "widthA4 = 8.27\n",
    "heightA4 = 11.69\n",
    "\n",
    "fig, axs = plt.subplots(3, figsize=(widthA4, heightA4), sharex=True, squeeze=True)\n",
    "\n",
    "for i, ax in enumerate(axs):\n",
    "    ax.set_xlim(0,1)\n",
    "    ax.set_ylim(0,1)\n",
    "\n",
    "    ax.set_position([0.2, i*(1/len(axs)), .6, (1/len(axs))])\n",
    "    # eb\n",
    "    print([0, i*(1/len(axs)), 1, (i+1)*(1/len(axs))])\n",
    "    ax.plot(0.5,0.6, 'bo')\n",
    "    ax.plot(0.5, 0.4, 'ro')\n",
    "\n",
    "plt.getp(axs[0])"
   ]
  },
  {
   "cell_type": "code",
   "execution_count": null,
   "metadata": {},
   "outputs": [],
   "source": [
    "title = \"220129_test1\"\n",
    "\n",
    "bbox = Bbox([[0, 0], [widthA4, heightA4/2]])\n",
    "\n",
    "with PdfPages(f\"output/{title}.pdf\") as pdf:\n",
    "    pdf.savefig(fig) #, bbox_inches=bbox)\n"
   ]
  },
  {
   "cell_type": "code",
   "execution_count": null,
   "metadata": {},
   "outputs": [],
   "source": [
    "bbox2 = Bbox([[0, 0], [0,.5]])\n",
    "\n",
    "rec = Rectangle((0,0),.5,.5)\n",
    "ax.add_patch(rec)\n",
    "# fig.set_clip_box(bbox2)\n",
    "ax.set_clip_path(rec)\n",
    "plt.getp(ax)"
   ]
  }
 ],
 "metadata": {
  "kernelspec": {
   "display_name": "Python 3",
   "language": "python",
   "name": "python3"
  },
  "language_info": {
   "codemirror_mode": {
    "name": "ipython",
    "version": 3
   },
   "file_extension": ".py",
   "mimetype": "text/x-python",
   "name": "python",
   "nbconvert_exporter": "python",
   "pygments_lexer": "ipython3",
   "version": "3.8.3"
  }
 },
 "nbformat": 4,
 "nbformat_minor": 4
}
