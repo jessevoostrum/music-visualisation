{
 "cells": [
  {
   "cell_type": "code",
   "execution_count": null,
   "id": "857c033c",
   "metadata": {},
   "outputs": [],
   "source": [
    "from music21 import *"
   ]
  },
  {
   "cell_type": "code",
   "execution_count": null,
   "id": "d8f4a6c2",
   "metadata": {},
   "outputs": [],
   "source": [
    "s = converter.parse(\"/Users/jvo/Library/Mobile Documents/com~apple~CloudDocs/bladmuziek/standards_musescore/Misty(2).mxl\")"
   ]
  },
  {
   "cell_type": "code",
   "execution_count": null,
   "id": "6b6f467d",
   "metadata": {},
   "outputs": [],
   "source": [
    "s.show()"
   ]
  },
  {
   "cell_type": "code",
   "execution_count": null,
   "id": "518c9e3f",
   "metadata": {},
   "outputs": [],
   "source": [
    "s.show(\"text\")"
   ]
  },
  {
   "cell_type": "code",
   "execution_count": null,
   "id": "3209e43b",
   "metadata": {},
   "outputs": [],
   "source": [
    "marks = []\n",
    "for el in s.recurse():\n",
    "    if type(el) == repeat.Coda or type(el) == repeat.Segno or type(el) == repeat.DalSegnoAlCoda:\n",
    "        #print(el, el.getOffsetInHierarchy(s))\n",
    "        print(el.name)\n",
    "        print(el.__class__.__bases__[0])\n",
    "        marks.append(el)\n",
    "        "
   ]
  },
  {
   "cell_type": "code",
   "execution_count": null,
   "id": "8682adc3",
   "metadata": {},
   "outputs": [],
   "source": [
    "segno = marks[0]\n",
    "tcoda = marks[1]\n",
    "dir(segno)"
   ]
  },
  {
   "cell_type": "code",
   "execution_count": null,
   "id": "adb9cbd0",
   "metadata": {},
   "outputs": [],
   "source": [
    "tcoda.__class__.__bases__[0]"
   ]
  },
  {
   "cell_type": "code",
   "execution_count": null,
   "id": "ca151d82",
   "metadata": {},
   "outputs": [],
   "source": [
    "import inspect\n",
    "repeat.RepeatExpression in inspect.getmro(type(tcoda))"
   ]
  },
  {
   "cell_type": "code",
   "execution_count": null,
   "id": "8868484a",
   "metadata": {},
   "outputs": [],
   "source": [
    "type(tcoda).__module__ == 'music21.repeat'"
   ]
  },
  {
   "cell_type": "code",
   "execution_count": null,
   "id": "24bc3d28",
   "metadata": {},
   "outputs": [],
   "source": [
    "if True and a.bla == 5:\n",
    "    print('yes')"
   ]
  },
  {
   "cell_type": "code",
   "execution_count": null,
   "id": "e192e74c",
   "metadata": {},
   "outputs": [],
   "source": [
    "s.measure(1).duration.quarterLength"
   ]
  },
  {
   "cell_type": "code",
   "execution_count": null,
   "id": "6275a47a",
   "metadata": {},
   "outputs": [],
   "source": [
    "dir(type(tcoda))"
   ]
  },
  {
   "cell_type": "code",
   "execution_count": null,
   "id": "7f1b31d8",
   "metadata": {},
   "outputs": [],
   "source": [
    "import matplotlib.pyplot as plt"
   ]
  },
  {
   "cell_type": "code",
   "execution_count": null,
   "id": "a47fe3d7",
   "metadata": {},
   "outputs": [],
   "source": [
    "from matplotlib import font_manager\n",
    "from matplotlib import rcParams\n",
    "\n",
    "\n",
    "font_dir = ['/Users/jvo/Downloads/freefont-20120503']\n",
    "for font in font_manager.findSystemFonts(font_dir):\n",
    "    font_manager.fontManager.addfont(font)"
   ]
  },
  {
   "cell_type": "code",
   "execution_count": null,
   "id": "5493dfbf",
   "metadata": {},
   "outputs": [],
   "source": [
    "# Using the magic encoding\n",
    "# -*- coding: utf-8 -*-\n",
    "\n",
    "fs = 30\n",
    "fig, ax = plt.subplots()\n",
    "ax.text(0.5,0.5, \"𝄋\", font='FreeSerif')\n",
    "# ax.text(0.5,0.5, u\"\\U0001d10b\", font='FreeSerif')\n",
    "\n",
    "ax.text(0.5,0.4, \"a\", font='Arial', fontsize=fs)\n",
    "ax.text(0.5,0.3, \"a\", font='Dejavu Sans', fontsize=fs)\n",
    "ax.text(0.5,0.2, \"a\", font='FreeSerif', fontsize=fs)"
   ]
  },
  {
   "cell_type": "code",
   "execution_count": null,
   "id": "6da36f6e",
   "metadata": {},
   "outputs": [],
   "source": [
    "import matplotlib.font_manager as fm\n",
    "fp1=fm.FontProperties(fname=\"/Users/jvo/Downloads/freefont-20120503/FreeSerif.ttf\")\n",
    "ax.set_title(\"𝄋\",fontproperties=fp1)\n",
    "ax.text(0.5,0.6, \"𝄋\",fontproperties=fp1)\n",
    "fig"
   ]
  },
  {
   "cell_type": "code",
   "execution_count": null,
   "id": "349d26a5",
   "metadata": {},
   "outputs": [],
   "source": [
    "font_manager.findSystemFonts(fontpaths=None) #, fontext='ttf')"
   ]
  },
  {
   "cell_type": "code",
   "execution_count": null,
   "id": "ecbd7118",
   "metadata": {},
   "outputs": [],
   "source": []
  }
 ],
 "metadata": {
  "kernelspec": {
   "display_name": "Python 3 (ipykernel)",
   "language": "python",
   "name": "python3"
  },
  "language_info": {
   "codemirror_mode": {
    "name": "ipython",
    "version": 3
   },
   "file_extension": ".py",
   "mimetype": "text/x-python",
   "name": "python",
   "nbconvert_exporter": "python",
   "pygments_lexer": "ipython3",
   "version": "3.8.12"
  }
 },
 "nbformat": 4,
 "nbformat_minor": 5
}
