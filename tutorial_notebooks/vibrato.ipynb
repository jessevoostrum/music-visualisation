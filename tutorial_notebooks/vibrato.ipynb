{
 "cells": [
  {
   "cell_type": "markdown",
   "id": "ec941ee0",
   "metadata": {},
   "source": [
    "music21 does not import vibrato correctly "
   ]
  },
  {
   "cell_type": "code",
   "execution_count": null,
   "id": "079ee21c",
   "metadata": {},
   "outputs": [],
   "source": [
    "from music21 import *"
   ]
  },
  {
   "cell_type": "code",
   "execution_count": null,
   "id": "34aae446",
   "metadata": {},
   "outputs": [],
   "source": [
    "s = converter.parse(\"/Users/jvo/Library/Mobile Documents/com~apple~CloudDocs/bladmuziek/test-files/vibrato3.musicxml\")\n",
    "t = converter.parse(\"/Users/jvo/Library/Mobile Documents/com~apple~CloudDocs/bladmuziek/test-files/hello-world-musescore.musicxml\")\n"
   ]
  },
  {
   "cell_type": "code",
   "execution_count": null,
   "id": "ec32b55f",
   "metadata": {},
   "outputs": [],
   "source": [
    "t.show('text')"
   ]
  },
  {
   "cell_type": "code",
   "execution_count": null,
   "id": "a84ac991",
   "metadata": {},
   "outputs": [],
   "source": [
    "s.show()"
   ]
  },
  {
   "cell_type": "code",
   "execution_count": null,
   "id": "6a9b060c",
   "metadata": {},
   "outputs": [],
   "source": [
    "s.show('text')"
   ]
  },
  {
   "cell_type": "code",
   "execution_count": null,
   "id": "1cc6bfea",
   "metadata": {},
   "outputs": [],
   "source": [
    "c1 = s[note.Note].first()"
   ]
  },
  {
   "cell_type": "code",
   "execution_count": null,
   "id": "e4d9e980",
   "metadata": {},
   "outputs": [],
   "source": [
    "dir(c1)"
   ]
  },
  {
   "cell_type": "code",
   "execution_count": null,
   "id": "b84fd00a",
   "metadata": {},
   "outputs": [],
   "source": [
    "c1.expressions"
   ]
  }
 ],
 "metadata": {
  "kernelspec": {
   "display_name": "Python 3 (ipykernel)",
   "language": "python",
   "name": "python3"
  },
  "language_info": {
   "codemirror_mode": {
    "name": "ipython",
    "version": 3
   },
   "file_extension": ".py",
   "mimetype": "text/x-python",
   "name": "python",
   "nbconvert_exporter": "python",
   "pygments_lexer": "ipython3",
   "version": "3.9.15"
  }
 },
 "nbformat": 4,
 "nbformat_minor": 5
}
