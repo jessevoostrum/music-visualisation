{
 "cells": [
  {
   "cell_type": "code",
   "execution_count": null,
   "id": "188d0171",
   "metadata": {},
   "outputs": [],
   "source": [
    "from music21 import *"
   ]
  },
  {
   "cell_type": "code",
   "execution_count": null,
   "id": "321b987e",
   "metadata": {},
   "outputs": [],
   "source": [
    "s = converter.parse(\"/Users/jvo/Library/Mobile Documents/com~apple~CloudDocs/bladmuziek/test-files/voices.musicxml\")\n"
   ]
  },
  {
   "cell_type": "code",
   "execution_count": null,
   "id": "393a7020",
   "metadata": {},
   "outputs": [],
   "source": [
    "s.show(\"text\")"
   ]
  }
 ],
 "metadata": {
  "kernelspec": {
   "display_name": "Python 3 (ipykernel)",
   "language": "python",
   "name": "python3"
  },
  "language_info": {
   "codemirror_mode": {
    "name": "ipython",
    "version": 3
   },
   "file_extension": ".py",
   "mimetype": "text/x-python",
   "name": "python",
   "nbconvert_exporter": "python",
   "pygments_lexer": "ipython3",
   "version": "3.9.15"
  }
 },
 "nbformat": 4,
 "nbformat_minor": 5
}
