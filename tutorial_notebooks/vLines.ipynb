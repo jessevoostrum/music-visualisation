{
 "cells": [
  {
   "cell_type": "markdown",
   "id": "2520aac2",
   "metadata": {},
   "source": [
    "vlines seem to become darker when multiple are plotted on top of eachother"
   ]
  },
  {
   "cell_type": "code",
   "execution_count": null,
   "id": "82eb29aa",
   "metadata": {},
   "outputs": [],
   "source": [
    "import matplotlib.pyplot as plt"
   ]
  },
  {
   "cell_type": "code",
   "execution_count": null,
   "id": "2dc21d83",
   "metadata": {},
   "outputs": [],
   "source": [
    "def format(ax):\n",
    "    ax.axis(\"off\")\n",
    "    return ax"
   ]
  },
  {
   "cell_type": "code",
   "execution_count": null,
   "id": "fa1e7648",
   "metadata": {},
   "outputs": [],
   "source": [
    "fig, ax = plt.subplots()\n",
    "\n",
    "ax.set_xlim(0,5)\n",
    "\n",
    "ax.vlines(.2, 0, 1, color='grey', alpha=1)\n",
    "\n",
    "format(ax)\n",
    "\n",
    "for _ in range(20):\n",
    "    ax.vlines(.4, 0, 1, color='grey', alpha=1)\n",
    "    \n",
    "    \n",
    "fig.savefig(\"output/vlinesOverEachOther.pdf\")\n"
   ]
  }
 ],
 "metadata": {
  "kernelspec": {
   "display_name": "Python 3 (ipykernel)",
   "language": "python",
   "name": "python3"
  },
  "language_info": {
   "codemirror_mode": {
    "name": "ipython",
    "version": 3
   },
   "file_extension": ".py",
   "mimetype": "text/x-python",
   "name": "python",
   "nbconvert_exporter": "python",
   "pygments_lexer": "ipython3",
   "version": "3.8.12"
  }
 },
 "nbformat": 4,
 "nbformat_minor": 5
}
