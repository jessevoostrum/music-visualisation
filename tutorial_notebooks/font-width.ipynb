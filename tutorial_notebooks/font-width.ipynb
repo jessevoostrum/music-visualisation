{
 "cells": [
  {
   "cell_type": "markdown",
   "id": "cf6ca776",
   "metadata": {},
   "source": [
    "In this notebook we find how many digits fit on a line of a a4 width page for different font types. The number of that digits that fits seems to scale approximately linearly with the fontsize. (between a factor .5 and 2)\n",
    "\n",
    "also using the width does is a good way of translating translating between different horizontal alignments. i.e.:\n",
    "```\n",
    "ax.text(0.5 + .5*width, 0.5, 4, fontsize=10, font='Helvetica', ha='right')\n",
    "ax.text(0.5 - .5*width, 0.5, 4, fontsize=10, font='Helvetica', ha='left')\n",
    "```\n",
    "are equivalent\n",
    "\n",
    "### widths\n",
    "\n",
    "DejaVu Sans: 93  \n",
    "Helvetica: 107\n",
    "Arial: 107\n",
    "Courier New: 99"
   ]
  },
  {
   "cell_type": "code",
   "execution_count": null,
   "id": "a49d22b4",
   "metadata": {},
   "outputs": [],
   "source": [
    "import matplotlib.pyplot as plt"
   ]
  },
  {
   "cell_type": "code",
   "execution_count": null,
   "id": "90012f2b",
   "metadata": {},
   "outputs": [],
   "source": [
    "num_numbers = 99\n",
    "\n",
    "widthA4 = 8.27\n",
    "heightA4 = 11.69\n",
    "\n",
    "fig, ax = plt.subplots(figsize=(widthA4,10))\n",
    "\n",
    "ax.set_xlim(0,1)\n",
    "ax.set_ylim(0,1)\n",
    "\n",
    "ax.set_position([0, 0, 1, 1]) # axes labels are printed outside the space of the axis\n",
    "\n",
    "for i in range(9):\n",
    "    text = str(i+1) * num_numbers\n",
    "    ax.text(0, i*.1, text, fontsize=10, font='Courier New')\n",
    "\n",
    "\n",
    "\n",
    "    \n",
    "    "
   ]
  },
  {
   "cell_type": "code",
   "execution_count": null,
   "id": "0b1378ab",
   "metadata": {},
   "outputs": [],
   "source": [
    "widthA4 = 8.27\n",
    "heightA4 = 11.69\n",
    "\n",
    "fig, ax = plt.subplots(figsize=(widthA4,10))\n",
    "\n",
    "ax.set_xlim(0,1)\n",
    "ax.set_ylim(0,1)\n",
    "\n",
    "ax.set_position([0, 0, 1, 1]) # axes labels are printed outside the space of the axis\n",
    "\n",
    "ax.text(.5, 0, 4, fontsize=500, font='Helvetica', ha='center')\n",
    "\n",
    "width = 1 / 107 * 500/10\n",
    "\n",
    "ax.text(.5, 0, 4, fontsize=500, font='Helvetica', ha='center')\n",
    "\n"
   ]
  },
  {
   "cell_type": "code",
   "execution_count": null,
   "id": "74ef9f73",
   "metadata": {},
   "outputs": [],
   "source": []
  },
  {
   "cell_type": "code",
   "execution_count": null,
   "id": "730f8868",
   "metadata": {},
   "outputs": [],
   "source": []
  }
 ],
 "metadata": {
  "kernelspec": {
   "display_name": "Python 3 (ipykernel)",
   "language": "python",
   "name": "python3"
  },
  "language_info": {
   "codemirror_mode": {
    "name": "ipython",
    "version": 3
   },
   "file_extension": ".py",
   "mimetype": "text/x-python",
   "name": "python",
   "nbconvert_exporter": "python",
   "pygments_lexer": "ipython3",
   "version": "3.9.15"
  }
 },
 "nbformat": 4,
 "nbformat_minor": 5
}
