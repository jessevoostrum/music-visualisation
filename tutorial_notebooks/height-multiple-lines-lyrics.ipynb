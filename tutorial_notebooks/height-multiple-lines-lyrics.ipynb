{
 "cells": [
  {
   "cell_type": "code",
   "execution_count": null,
   "id": "e86387ea",
   "metadata": {},
   "outputs": [],
   "source": [
    "import matplotlib.pyplot as plt\n",
    "import numpy as np"
   ]
  },
  {
   "cell_type": "code",
   "execution_count": null,
   "id": "35190c69",
   "metadata": {},
   "outputs": [],
   "source": [
    "widthA4 = 8.27\n",
    "heightA4 = 11.69\n",
    "\n",
    "fig, ax = plt.subplots(figsize=(10,10))\n",
    "\n",
    "lim = 1\n",
    "ax.set_xlim(0,lim)\n",
    "ax.set_ylim(0,lim)\n",
    "\n",
    "major_ticks = np.arange(0, 1, .05)\n",
    "minor_ticks = np.arange(0, 1, .01)\n",
    "\n",
    "ax.set_xticks(major_ticks)\n",
    "ax.set_xticks(minor_ticks, minor=True)\n",
    "ax.set_yticks(major_ticks)\n",
    "ax.set_yticks(minor_ticks, minor=True)\n",
    "\n",
    "# And a corresponding grid\n",
    "ax.grid(which='both')\n",
    "\n",
    "# Or if you want different settings for the grids:\n",
    "ax.grid(which='minor', alpha=0.2)\n",
    "ax.grid(which='major', alpha=0.5)\n",
    "\n",
    "\n",
    "ax.set_position([0, 0, 1, 1]) # axes labels are printed outside the space of the axis\n",
    "\n",
    "ax.text(0, 1, \" a\", fontsize=100, va='top', ha='left', )\n",
    "ax.text(0.3, 1, \" a \\n a\", fontsize=100, va='top', ha='left', )\n",
    "ax.text(0.6, 1, \" a \\n a \\n a\", fontsize=100, va='top', ha='left', )"
   ]
  },
  {
   "cell_type": "code",
   "execution_count": null,
   "id": "3bb69aef",
   "metadata": {},
   "outputs": [],
   "source": []
  }
 ],
 "metadata": {
  "kernelspec": {
   "display_name": "Python 3 (ipykernel)",
   "language": "python",
   "name": "python3"
  },
  "language_info": {
   "codemirror_mode": {
    "name": "ipython",
    "version": 3
   },
   "file_extension": ".py",
   "mimetype": "text/x-python",
   "name": "python",
   "nbconvert_exporter": "python",
   "pygments_lexer": "ipython3",
   "version": "3.9.12"
  }
 },
 "nbformat": 4,
 "nbformat_minor": 5
}
