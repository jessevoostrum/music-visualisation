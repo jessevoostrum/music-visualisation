{
 "cells": [
  {
   "cell_type": "markdown",
   "id": "9eb6d07f",
   "metadata": {},
   "source": [
    "## Errors \n",
    "\n",
    "- not every songs starts with keysignature, time indication\n",
    "- keysignature should be added (not necessarily in C when it is missing)\n"
   ]
  },
  {
   "cell_type": "code",
   "execution_count": null,
   "id": "fa7bb2c4",
   "metadata": {},
   "outputs": [],
   "source": [
    "from music21 import *\n",
    "import copy"
   ]
  },
  {
   "cell_type": "code",
   "execution_count": null,
   "id": "bcb8f270",
   "metadata": {},
   "outputs": [],
   "source": [
    "s = converter.parse(\"/Users/jvo/Downloads/Ultime_Jazz_Book_-_A.mxl\")\n",
    "# s = converter.parse(\"/Users/jvo/Downloads/Ultime_Jazz_Real_Book_-_A.musicxml\")\n",
    "s = converter.parse(\"/Users/jvo/Downloads/Ultime_Jazz_Real_Book_-_A(from mscz).mxl\")"
   ]
  },
  {
   "cell_type": "code",
   "execution_count": null,
   "id": "cd916467",
   "metadata": {},
   "outputs": [],
   "source": [
    "# offsetStarts = [keyStart.getOffsetInHierarchy(s) for keyStart in s[key.KeySignature]]\n",
    "offsetsStartPage = [0] + [el.getOffsetInHierarchy(s) for el in s[layout.PageLayout]]"
   ]
  },
  {
   "cell_type": "code",
   "execution_count": null,
   "id": "ee04816a",
   "metadata": {},
   "outputs": [],
   "source": [
    "len(offsetsStartPage)"
   ]
  },
  {
   "cell_type": "code",
   "execution_count": null,
   "id": "1312b98e",
   "metadata": {},
   "outputs": [],
   "source": [
    "metadataSongs = [[page,None,None] for page in range(1,len(offsetsStartPage) + 1)]\n",
    "\n",
    "for tb in s[text.TextBox]:\n",
    "    if tb.page > len(offsetsStartPage):\n",
    "        continue\n",
    "    \n",
    "    if tb.style.justify == 'right':\n",
    "        metadataSongs[tb.page-1][2] = tb.content\n",
    "        \n",
    "    if tb.style.justify == 'center' and not metadataSongs[tb.page-1][1]:\n",
    "        metadataSongs[tb.page-1][1] = tb.content\n",
    "\n",
    "metadataSongs"
   ]
  },
  {
   "cell_type": "code",
   "execution_count": null,
   "id": "1000dd85",
   "metadata": {},
   "outputs": [],
   "source": [
    "noStartPages = []\n",
    "\n",
    "for datum in metadataSongs:\n",
    "    if not datum[2]:\n",
    "        noStartPages.append(datum[0])\n",
    "\n",
    "offsetsStartSong = [offset for i, offset in enumerate(offsetsStartPage) if i not in noStartPages]\n",
    "offsetsStartSong"
   ]
  },
  {
   "cell_type": "code",
   "execution_count": null,
   "id": "bc412af8",
   "metadata": {},
   "outputs": [],
   "source": [
    "measureNumbersStartSong = []\n",
    "measures = s[stream.Measure]\n",
    "j = 1\n",
    "for i in range(len(measures)):\n",
    "    if measures[i].offset in offsetsStartSong:\n",
    "        measureNumbersStartSong.append(measures[i].number)\n",
    "\n",
    "#         indexPrevMeasure = max(0,i-1)\n",
    "#         barlinePrevMeasure = measures[indexPrevMeasure][bar.Barline].last()\n",
    "#         if barlinePrevMeasure and barlinePrevMeasure.type=='final' or True:\n",
    "#             measureNumbersStart.append(measures[i].number)\n",
    "\n",
    "lastMeasureNumber = s[stream.Measure][-1].number\n",
    "measureNumbersStartEndSong = []\n",
    "\n",
    "for measureNumberStart, measureNumberStartNext in zip(measureNumbersStartSong, measureNumbersStartSong[1:]):\n",
    "    measureNumbersStartEndSong.append((measureNumberStart, measureNumberStartNext))\n",
    "\n",
    "measureNumbersStartEndSong.append((measureNumbersStartSong[-1], lastMeasureNumber))\n",
    "\n",
    "len(measureNumbersStartEndSong)"
   ]
  },
  {
   "cell_type": "code",
   "execution_count": null,
   "id": "ba20dddd",
   "metadata": {},
   "outputs": [],
   "source": [
    "songs = []\n",
    "for measureNumberStart, measureNumberEnd in measureNumbersStartEndSong:\n",
    "    songs.append(s.measures(measureNumberStart, measureNumberEnd - 1))\n",
    "\n",
    "    "
   ]
  },
  {
   "cell_type": "code",
   "execution_count": null,
   "id": "fbe795db",
   "metadata": {},
   "outputs": [],
   "source": [
    "for i, song in enumerate(songs):\n",
    "    m = song[stream.Measure][0]\n",
    "    if m[layout.PageLayout]:\n",
    "        \n",
    "        pl = m[layout.PageLayout][0]\n",
    "        m.remove(pl)\n",
    "        m.informSites()\n",
    "        \n",
    "    song.insert(0, metadata.Metadata())\n",
    "    song.metadata.title = metadataSongs[i][1]\n",
    "    song.metadata.composer = metadataSongs[i][2]\n"
   ]
  },
  {
   "cell_type": "code",
   "execution_count": null,
   "id": "76dc0a3b",
   "metadata": {},
   "outputs": [],
   "source": [
    "a = songs[1][harmony.ChordSymbol][1]\n",
    "c = songs[1][harmony.ChordSymbol][2]\n",
    "a.style.absoluteY"
   ]
  },
  {
   "cell_type": "code",
   "execution_count": null,
   "id": "94e1b76d",
   "metadata": {},
   "outputs": [],
   "source": [
    "songs[1].show()\n"
   ]
  }
 ],
 "metadata": {
  "kernelspec": {
   "display_name": "Python 3 (ipykernel)",
   "language": "python",
   "name": "python3"
  },
  "language_info": {
   "codemirror_mode": {
    "name": "ipython",
    "version": 3
   },
   "file_extension": ".py",
   "mimetype": "text/x-python",
   "name": "python",
   "nbconvert_exporter": "python",
   "pygments_lexer": "ipython3",
   "version": "3.9.15"
  }
 },
 "nbformat": 4,
 "nbformat_minor": 5
}
