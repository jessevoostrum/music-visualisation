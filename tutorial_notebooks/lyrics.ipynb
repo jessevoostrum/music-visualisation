{
 "cells": [
  {
   "cell_type": "code",
   "execution_count": null,
   "id": "9a7100ca",
   "metadata": {},
   "outputs": [],
   "source": [
    "from music21 import *"
   ]
  },
  {
   "cell_type": "code",
   "execution_count": null,
   "id": "942ba4e4",
   "metadata": {},
   "outputs": [],
   "source": [
    "s = converter.parse(\"/Users/jvo/Library/Mobile Documents/com~apple~CloudDocs/bladmuziek/selection/Cant_Help_Falling_in_Love_-_Elvis_Presley.mxl\")"
   ]
  },
  {
   "cell_type": "code",
   "execution_count": null,
   "id": "46006a84",
   "metadata": {},
   "outputs": [],
   "source": [
    "s.show()"
   ]
  },
  {
   "cell_type": "code",
   "execution_count": null,
   "id": "bd001b51",
   "metadata": {},
   "outputs": [],
   "source": [
    "d = s[note.Note].first()"
   ]
  },
  {
   "cell_type": "code",
   "execution_count": null,
   "id": "0ac44573",
   "metadata": {},
   "outputs": [],
   "source": [
    "d.lyric"
   ]
  },
  {
   "cell_type": "code",
   "execution_count": null,
   "id": "2b248487",
   "metadata": {},
   "outputs": [],
   "source": [
    "d.lyrics"
   ]
  },
  {
   "cell_type": "code",
   "execution_count": null,
   "id": "de66808e",
   "metadata": {},
   "outputs": [],
   "source": [
    "dir(d)"
   ]
  },
  {
   "cell_type": "code",
   "execution_count": null,
   "id": "499efcbd",
   "metadata": {},
   "outputs": [],
   "source": [
    "e = s.measures(6,6)[note.Note][1]"
   ]
  },
  {
   "cell_type": "code",
   "execution_count": null,
   "id": "5b8dd925",
   "metadata": {},
   "outputs": [],
   "source": [
    "e.lyrics[0]"
   ]
  }
 ],
 "metadata": {
  "kernelspec": {
   "display_name": "Python 3 (ipykernel)",
   "language": "python",
   "name": "python3"
  },
  "language_info": {
   "codemirror_mode": {
    "name": "ipython",
    "version": 3
   },
   "file_extension": ".py",
   "mimetype": "text/x-python",
   "name": "python",
   "nbconvert_exporter": "python",
   "pygments_lexer": "ipython3",
   "version": "3.8.12"
  }
 },
 "nbformat": 4,
 "nbformat_minor": 5
}
