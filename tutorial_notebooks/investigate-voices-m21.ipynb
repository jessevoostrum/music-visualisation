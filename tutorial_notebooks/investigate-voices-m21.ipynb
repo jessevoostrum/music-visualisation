{
 "cells": [
  {
   "cell_type": "code",
   "execution_count": null,
   "id": "a74c65b6",
   "metadata": {},
   "outputs": [],
   "source": [
    "from music21 import *"
   ]
  },
  {
   "cell_type": "code",
   "execution_count": null,
   "id": "5db096e2",
   "metadata": {},
   "outputs": [],
   "source": [
    "s = stream.Part()\n",
    "m = stream.Measure()\n",
    "v1 = stream.Voice()\n",
    "v1.id = '1'\n",
    "v2 = stream.Voice()\n",
    "v2.id = '2'\n",
    "n1 = note.Note('C')\n",
    "n2 = note.Note('E')\n",
    "cs = harmony.ChordSymbol('C')\n",
    "cs2 = harmony.ChordSymbol('C')\n",
    "v1.repeatAppend(n1, 4)\n",
    "v2.repeatAppend(n2, 4)\n",
    "m.insert(0, v1)\n",
    "m.insert(0, v2)\n",
    "\n",
    "m.insert(0, cs)\n",
    "m.insert(2, cs2)\n",
    "\n",
    "s.append(m)"
   ]
  },
  {
   "cell_type": "code",
   "execution_count": null,
   "id": "0d8f800e",
   "metadata": {},
   "outputs": [],
   "source": [
    "s.show()"
   ]
  },
  {
   "cell_type": "code",
   "execution_count": null,
   "id": "5d64e2cf",
   "metadata": {},
   "outputs": [],
   "source": [
    "s.show('text')"
   ]
  },
  {
   "cell_type": "code",
   "execution_count": null,
   "id": "f0cea72f",
   "metadata": {},
   "outputs": [],
   "source": [
    "s.write('musicxml', 'output/investigate-voices.musicxml')"
   ]
  },
  {
   "cell_type": "code",
   "execution_count": null,
   "id": "db5909a3",
   "metadata": {},
   "outputs": [],
   "source": [
    "s2 = converter.parse('output/investigate-voices.musicxml')"
   ]
  },
  {
   "cell_type": "code",
   "execution_count": null,
   "id": "061c5d13",
   "metadata": {},
   "outputs": [],
   "source": [
    "s2.show('text')"
   ]
  },
  {
   "cell_type": "code",
   "execution_count": null,
   "id": "c685f63e",
   "metadata": {},
   "outputs": [],
   "source": [
    "s = stream.Part()\n",
    "m = stream.Measure()\n",
    "v1 = stream.Voice()\n",
    "v1.id = '1'\n",
    "v2 = stream.Voice()\n",
    "v2.id = '2'\n",
    "n1 = note.Note('C')\n",
    "n2 = note.Note('E')\n",
    "v1.repeatAppend(n1, 4)\n",
    "v2.repeatAppend(n2, 4)\n",
    "\n",
    "m.append(v1)\n",
    "m.append(v2)\n",
    "\n",
    "s.append(m)\n"
   ]
  },
  {
   "cell_type": "code",
   "execution_count": null,
   "id": "18bac2ff",
   "metadata": {},
   "outputs": [],
   "source": [
    "s.show('text')"
   ]
  },
  {
   "cell_type": "code",
   "execution_count": null,
   "id": "25256385",
   "metadata": {},
   "outputs": [],
   "source": [
    "s.show()"
   ]
  },
  {
   "cell_type": "code",
   "execution_count": null,
   "id": "ada43717",
   "metadata": {},
   "outputs": [],
   "source": []
  }
 ],
 "metadata": {
  "kernelspec": {
   "display_name": "Python 3 (ipykernel)",
   "language": "python",
   "name": "python3"
  },
  "language_info": {
   "codemirror_mode": {
    "name": "ipython",
    "version": 3
   },
   "file_extension": ".py",
   "mimetype": "text/x-python",
   "name": "python",
   "nbconvert_exporter": "python",
   "pygments_lexer": "ipython3",
   "version": "3.9.15"
  }
 },
 "nbformat": 4,
 "nbformat_minor": 5
}
