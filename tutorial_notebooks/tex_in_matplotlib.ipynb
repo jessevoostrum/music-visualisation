{
 "cells": [
  {
   "cell_type": "code",
   "execution_count": null,
   "metadata": {},
   "outputs": [],
   "source": [
    "import matplotlib.pyplot as plt\n",
    "# plt.rcParams.update({\n",
    "#         \"text.usetex\": False,\n",
    "#         \"font.family\": \"sans-serif\",\n",
    "#         \"font.sans-serif\": ['Computer Modern Sans serif']\n",
    "#         # \"font.sans-serif\": ['Helvetica']\n",
    "\n",
    "# })\n",
    "\n",
    "from matplotlib import rc\n",
    "# rc('text', usetex=True)\n",
    "rc('text.latex', preamble=r'\\usepackage{amssymb}')\n",
    "# plot(x, (x,-1,10), axes_labels=[r'$F(G\\,\\square\\,H)$',r'$F(G\\,\\times\\,H)$']).show()"
   ]
  },
  {
   "cell_type": "code",
   "execution_count": null,
   "metadata": {},
   "outputs": [],
   "source": [
    "fig, ax = plt.subplots(figsize=(10,10))\n",
    "\n",
    "ax.text(.5,.5, \"A${}^b$\", size=40)"
   ]
  },
  {
   "cell_type": "code",
   "execution_count": null,
   "metadata": {},
   "outputs": [],
   "source": [
    "fig, ax = plt.subplots(figsize=(10,10))\n",
    "\n",
    "# ax.text(.5,.5, \"$\\\\emptyset$\", fontsize=30)\n",
    "ax.text(.5,.5, \"$\\\\varnothing$\", fontsize=30)"
   ]
  },
  {
   "cell_type": "code",
   "execution_count": null,
   "metadata": {},
   "outputs": [],
   "source": []
  },
  {
   "cell_type": "code",
   "execution_count": null,
   "metadata": {},
   "outputs": [],
   "source": [
    "fig, ax = plt.subplots(figsize=(10,10))\n",
    "\n",
    "number = \"F\"\n",
    "\n",
    "ax.text(.5,.5, \"hallo\")\n",
    "ax.text(0.3, .3, \"$\\mathrm{F}$\")\n",
    "ax.text(.2,.5, f\"${{}}^\\\\#${number}\")\n",
    "\n",
    "ax.text(.2, .7, \"$\\mathrm{F}^b$\")\n",
    "ax.text(.2, .9, \"$\\mathrm{F}^\\\\#$\")\n",
    "ax.text(.2, .2, \"$\\oslash$\", fontsize=30)\n",
    "\n",
    "ax.text(.8, .7, \"$3^{7{{}}^\\\\#\\!5}$\", fontsize=30)\n",
    "ax.text(.8, .6, \"$3^{7\\,{{}}^\\\\#\\!5}$\", fontsize=30)\n",
    "ax.text(.8, .5, \"$3^{7\\,{{}}^\\\\#5}$\", fontsize=30)\n",
    "ax.text(.8, .4, \"$3^{7{{}}^b9}$\", fontsize=30)\n",
    "ax.text(.8, .3, \"$3^{7\\, {{}}^b9}$\", fontsize=30)\n",
    "ax.text(.8, .2, \"$3^{\\\\varnothing\\, {{}}^b\\!9}$\", fontsize=30)\n",
    "ax.text(.8, .1, \"$3^{7\\,{{}}^\\\\#5}$\", fontsize=30)\n",
    "ax.text(.8, 0 , \"$3^{7\\,{{}}^b5}$\", fontsize=30)\n",
    "\n",
    "ax.text(.6, 0.2 , \"${{}}^\\\\#\\!3^{7\\,{{}}^b5}$\", fontsize=30)\n",
    "ax.text(.6, 0.1 , \"${{}}^\\\\#3^{7\\,{{}}^b5}$\", fontsize=30)\n",
    "ax.text(.6, 0 , \"${{}}^b3^{7\\,{{}}^b5}$\", fontsize=30)\n",
    "\n",
    "ax.axis(\"off\")\n",
    "\n",
    "fig.savefig('output/chords.pdf')"
   ]
  },
  {
   "cell_type": "code",
   "execution_count": null,
   "metadata": {},
   "outputs": [],
   "source": [
    "'abc'[0]"
   ]
  },
  {
   "cell_type": "code",
   "execution_count": null,
   "metadata": {},
   "outputs": [],
   "source": []
  }
 ],
 "metadata": {
  "kernelspec": {
   "display_name": "Python 3 (ipykernel)",
   "language": "python",
   "name": "python3"
  },
  "language_info": {
   "codemirror_mode": {
    "name": "ipython",
    "version": 3
   },
   "file_extension": ".py",
   "mimetype": "text/x-python",
   "name": "python",
   "nbconvert_exporter": "python",
   "pygments_lexer": "ipython3",
   "version": "3.8.12"
  }
 },
 "nbformat": 4,
 "nbformat_minor": 4
}
