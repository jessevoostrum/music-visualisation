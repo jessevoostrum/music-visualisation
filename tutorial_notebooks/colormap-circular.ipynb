{
 "cells": [
  {
   "cell_type": "code",
   "execution_count": null,
   "id": "93f938d1",
   "metadata": {},
   "outputs": [],
   "source": [
    "import matplotlib.pyplot as plt\n",
    "from matplotlib.patches import Rectangle"
   ]
  },
  {
   "cell_type": "code",
   "execution_count": null,
   "id": "8e4ee644",
   "metadata": {},
   "outputs": [],
   "source": [
    "fig, ax = plt.subplots()\n",
    "\n",
    "patch = Rectangle((0,0), .5, 1, facecolor=(0,0,1), alpha=0.2)\n",
    "patch2 = Rectangle((0.5,0), .5, 1, facecolor=(0.8,0.8,1))\n",
    "\n",
    "ax.add_patch(patch)\n",
    "ax.add_patch(patch2)\n"
   ]
  },
  {
   "cell_type": "code",
   "execution_count": null,
   "id": "0c4ec9f4",
   "metadata": {},
   "outputs": [],
   "source": []
  }
 ],
 "metadata": {
  "kernelspec": {
   "display_name": "Python 3 (ipykernel)",
   "language": "python",
   "name": "python3"
  },
  "language_info": {
   "codemirror_mode": {
    "name": "ipython",
    "version": 3
   },
   "file_extension": ".py",
   "mimetype": "text/x-python",
   "name": "python",
   "nbconvert_exporter": "python",
   "pygments_lexer": "ipython3",
   "version": "3.9.15"
  }
 },
 "nbformat": 4,
 "nbformat_minor": 5
}
