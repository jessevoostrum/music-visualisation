{
 "cells": [
  {
   "cell_type": "code",
   "execution_count": null,
   "id": "196a0a0d",
   "metadata": {},
   "outputs": [],
   "source": [
    "import matplotlib.pyplot as plt\n",
    "from music21 import *"
   ]
  },
  {
   "cell_type": "code",
   "execution_count": null,
   "id": "200f8861",
   "metadata": {},
   "outputs": [],
   "source": [
    "song5 = \"/Users/jvo/Library/Mobile Documents/com~apple~CloudDocs/bladmuziek/standards_musescore/I_Dont_Want_To_Set_The_World_On_Fire.mxl\"\n",
    "s = converter.parse(song5)\n"
   ]
  },
  {
   "cell_type": "code",
   "execution_count": null,
   "id": "d8790f8e",
   "metadata": {},
   "outputs": [],
   "source": [
    "fig, ax = plt.subplots(figsize=(20,5))\n",
    "r = fig.canvas.get_renderer()\n",
    "\n",
    "\n",
    "pos = 0\n",
    "for n in s[note.Note]:\n",
    "\n",
    "    t = ax.text(pos, 0, n.lyric, size=20)\n",
    "    \n",
    "    bb = t.get_window_extent(renderer=r).transformed(ax.transData.inverted())\n",
    "    width = bb.width\n",
    "    pos += width\n",
    "    \n",
    "    if pos>1:\n",
    "        break"
   ]
  },
  {
   "cell_type": "code",
   "execution_count": null,
   "id": "4767b8a1",
   "metadata": {},
   "outputs": [],
   "source": []
  },
  {
   "cell_type": "code",
   "execution_count": null,
   "id": "37c6bf21",
   "metadata": {},
   "outputs": [],
   "source": []
  },
  {
   "cell_type": "code",
   "execution_count": null,
   "id": "44cb0675",
   "metadata": {},
   "outputs": [],
   "source": [
    "def get_height(r,t):\n",
    "    bb = t.get_window_extent(renderer=r).transformed(ax.transData.inverted())\n",
    "    width = bb.width\n",
    "    height = bb.height\n",
    "    return height\n",
    "\n",
    "fig, ax = plt.subplots()\n",
    "r = fig.canvas.get_renderer()\n",
    "ttt = ax.text(0.5, 0.5, 'test \\n test \\n test', size=100)\n",
    "tt = ax.text(0.5, 0.5, 'test \\n test', size=100)\n",
    "t = ax.text(0.5, 0.5, 'test', size=100)\n",
    "\n",
    "diff1 = get_height(r,tt) - 2 * get_height(r,t)\n",
    "diff2 = get_height(r,ttt) - 3 * get_height(r,t)\n",
    "\n",
    "print(get_height(r,ttt)/(3*get_height(r,t)), get_height(r,tt)/(2*get_height(r,t)))\n"
   ]
  },
  {
   "cell_type": "code",
   "execution_count": null,
   "id": "71e82a2c",
   "metadata": {},
   "outputs": [],
   "source": [
    "height"
   ]
  },
  {
   "cell_type": "code",
   "execution_count": null,
   "id": "3e179830",
   "metadata": {},
   "outputs": [],
   "source": [
    "dir(ax)"
   ]
  },
  {
   "cell_type": "code",
   "execution_count": null,
   "id": "d00844b7",
   "metadata": {},
   "outputs": [],
   "source": [
    "type(ax.figure)"
   ]
  },
  {
   "cell_type": "code",
   "execution_count": null,
   "id": "52751d09",
   "metadata": {},
   "outputs": [],
   "source": [
    "figg = ax.gcf()"
   ]
  }
 ],
 "metadata": {
  "kernelspec": {
   "display_name": "Python 3 (ipykernel)",
   "language": "python",
   "name": "python3"
  },
  "language_info": {
   "codemirror_mode": {
    "name": "ipython",
    "version": 3
   },
   "file_extension": ".py",
   "mimetype": "text/x-python",
   "name": "python",
   "nbconvert_exporter": "python",
   "pygments_lexer": "ipython3",
   "version": "3.9.12"
  }
 },
 "nbformat": 4,
 "nbformat_minor": 5
}
