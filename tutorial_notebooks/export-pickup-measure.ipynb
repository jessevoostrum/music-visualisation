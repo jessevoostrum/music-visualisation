{
 "cells": [
  {
   "cell_type": "markdown",
   "id": "b3dcb6ca",
   "metadata": {},
   "source": [
    "## conclusion\n",
    "\n",
    "when exporting using music21 the pickup measure loses its attribute ```implicit=\"yes\"```. By musescore it is then no longer recognised as a pickup measure. therefore first exporting using music21 and afterwards using musescore, you lose the pickup measure attribute. \n",
    "\n",
    "Maybe this can be fixed in music21 code. see function ```fromMeasure``` in ```music21/musicxml/m21ToXml.py ```\n"
   ]
  },
  {
   "cell_type": "code",
   "execution_count": null,
   "id": "add19682",
   "metadata": {},
   "outputs": [],
   "source": [
    "from music21 import *"
   ]
  },
  {
   "cell_type": "code",
   "execution_count": null,
   "id": "32f6c0d6",
   "metadata": {},
   "outputs": [],
   "source": [
    "s = converter.parse(\"/Users/jvo/Library/Mobile Documents/com~apple~CloudDocs/bladmuziek/test-files/pickup-measure.mxl\")\n",
    "st = converter.parse(\"/Users/jvo/Library/Mobile Documents/com~apple~CloudDocs/bladmuziek/test-files/no-pickup-measure.mxl\")\n",
    "stt = converter.parse(\"/Users/jvo/Documents/music-visualisation/tutorial_notebooks/output/pickup-measure.musicxml\")\n",
    "sttt = converter.parse(\"/Users/jvo/Library/Mobile Documents/com~apple~CloudDocs/bladmuziek/bass_lines_SBL/Papa Was a Rollin' Stone.mxl\")\n",
    "pwor = converter.parse(\"/Users/jvo/Downloads/Papa was a Rolling Stone.mxl\")\n",
    "pwconv2 = converter.parse(\"/Users/jvo/Documents/music-visualisation/tutorial_notebooks/output/papawas.musicxml\")"
   ]
  },
  {
   "cell_type": "code",
   "execution_count": null,
   "id": "7b7147ee",
   "metadata": {},
   "outputs": [],
   "source": [
    "stt.write(\"musicxml\", \"output/pickup-measure-v8.musicxml\")"
   ]
  },
  {
   "cell_type": "code",
   "execution_count": null,
   "id": "8bd0dfe9",
   "metadata": {},
   "outputs": [],
   "source": [
    "s.write(\"musicxml\", \"output/pickup-measure.musicxml\")"
   ]
  },
  {
   "cell_type": "code",
   "execution_count": null,
   "id": "e0534c0d",
   "metadata": {},
   "outputs": [],
   "source": [
    "pwconv.write(\"musicxml\", \"output/papawas.musicxml\")"
   ]
  },
  {
   "cell_type": "code",
   "execution_count": null,
   "id": "7d094602",
   "metadata": {},
   "outputs": [],
   "source": [
    "keySignature = pwconv[key.KeySignature].first()"
   ]
  },
  {
   "cell_type": "code",
   "execution_count": null,
   "id": "3887fc1c",
   "metadata": {},
   "outputs": [],
   "source": [
    "keySignature"
   ]
  },
  {
   "cell_type": "code",
   "execution_count": null,
   "id": "a1920d6a",
   "metadata": {},
   "outputs": [],
   "source": [
    "fm = pwconv[stream.Measure].first()"
   ]
  },
  {
   "cell_type": "code",
   "execution_count": null,
   "id": "58a207e2",
   "metadata": {},
   "outputs": [],
   "source": [
    "fm.keySignature = keySignature.asKey('minor')"
   ]
  },
  {
   "cell_type": "code",
   "execution_count": null,
   "id": "7a53b034",
   "metadata": {},
   "outputs": [],
   "source": [
    "pwconv2.show(\"text\")"
   ]
  },
  {
   "cell_type": "code",
   "execution_count": null,
   "id": "061f58e3",
   "metadata": {},
   "outputs": [],
   "source": [
    "pwconv.show(\"text\")"
   ]
  },
  {
   "cell_type": "code",
   "execution_count": null,
   "id": "5709837e",
   "metadata": {},
   "outputs": [],
   "source": [
    "pwor.show(\"text\")"
   ]
  },
  {
   "cell_type": "code",
   "execution_count": null,
   "id": "37204cb7",
   "metadata": {},
   "outputs": [],
   "source": [
    "sttt.show(\"text\")"
   ]
  },
  {
   "cell_type": "code",
   "execution_count": null,
   "id": "1e09c506",
   "metadata": {},
   "outputs": [],
   "source": [
    "stt.show(\"text\")"
   ]
  },
  {
   "cell_type": "code",
   "execution_count": null,
   "id": "bd3125ff",
   "metadata": {},
   "outputs": [],
   "source": [
    "s.show(\"text\")"
   ]
  },
  {
   "cell_type": "code",
   "execution_count": null,
   "id": "ac0093ab",
   "metadata": {},
   "outputs": [],
   "source": [
    "st.show(\"text\")"
   ]
  },
  {
   "cell_type": "code",
   "execution_count": null,
   "id": "7292bb52",
   "metadata": {},
   "outputs": [],
   "source": []
  }
 ],
 "metadata": {
  "kernelspec": {
   "display_name": "Python 3 (ipykernel)",
   "language": "python",
   "name": "python3"
  },
  "language_info": {
   "codemirror_mode": {
    "name": "ipython",
    "version": 3
   },
   "file_extension": ".py",
   "mimetype": "text/x-python",
   "name": "python",
   "nbconvert_exporter": "python",
   "pygments_lexer": "ipython3",
   "version": "3.9.15"
  }
 },
 "nbformat": 4,
 "nbformat_minor": 5
}
