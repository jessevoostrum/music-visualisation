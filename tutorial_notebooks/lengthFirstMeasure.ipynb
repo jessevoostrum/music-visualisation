{
 "cells": [
  {
   "cell_type": "code",
   "execution_count": null,
   "id": "d18e382b",
   "metadata": {},
   "outputs": [],
   "source": [
    "from music21 import *"
   ]
  },
  {
   "cell_type": "code",
   "execution_count": null,
   "id": "7d116258",
   "metadata": {},
   "outputs": [],
   "source": [
    "s = converter.parse(\"/Users/jvo/Library/Mobile Documents/com~apple~CloudDocs/bladmuziek/standards_musescore/Autumn_Leaves.mxl\")\n"
   ]
  },
  {
   "cell_type": "code",
   "execution_count": null,
   "id": "fe32bee4",
   "metadata": {},
   "outputs": [],
   "source": [
    "s.show(\"text\")"
   ]
  },
  {
   "cell_type": "code",
   "execution_count": null,
   "id": "eb0e198f",
   "metadata": {},
   "outputs": [],
   "source": [
    "s.measure(0)[stream.Measure][0].quarterLength"
   ]
  },
  {
   "cell_type": "code",
   "execution_count": null,
   "id": "8c28c69a",
   "metadata": {},
   "outputs": [],
   "source": [
    "s[stream.Measure][0]"
   ]
  }
 ],
 "metadata": {
  "kernelspec": {
   "display_name": "Python 3 (ipykernel)",
   "language": "python",
   "name": "python3"
  },
  "language_info": {
   "codemirror_mode": {
    "name": "ipython",
    "version": 3
   },
   "file_extension": ".py",
   "mimetype": "text/x-python",
   "name": "python",
   "nbconvert_exporter": "python",
   "pygments_lexer": "ipython3",
   "version": "3.9.12"
  }
 },
 "nbformat": 4,
 "nbformat_minor": 5
}
