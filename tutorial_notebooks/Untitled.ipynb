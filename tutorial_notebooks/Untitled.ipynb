{
 "cells": [
  {
   "cell_type": "code",
   "execution_count": null,
   "id": "c6f2d3da",
   "metadata": {},
   "outputs": [],
   "source": [
    "from music21 import *"
   ]
  },
  {
   "cell_type": "code",
   "execution_count": null,
   "id": "175acdb8",
   "metadata": {},
   "outputs": [],
   "source": [
    "s = converter.parse(\"/Users/jvo/Library/Mobile Documents/com~apple~CloudDocs/bladmuziek/standards_musescore/Bags_Groove.mxl\")"
   ]
  },
  {
   "cell_type": "code",
   "execution_count": null,
   "id": "ddd5d12c",
   "metadata": {},
   "outputs": [],
   "source": [
    "s.show(\"text\")"
   ]
  },
  {
   "cell_type": "code",
   "execution_count": null,
   "id": "24343cb4",
   "metadata": {},
   "outputs": [],
   "source": [
    "for el in s.measure(1).recurse():\n",
    "    if type(el) == chord.Chord:\n",
    "        print(el)"
   ]
  },
  {
   "cell_type": "code",
   "execution_count": null,
   "id": "04f862bf",
   "metadata": {},
   "outputs": [],
   "source": [
    "a = s.measure(1)[chord.Chord][2]\n",
    "a"
   ]
  },
  {
   "cell_type": "code",
   "execution_count": null,
   "id": "b195064a",
   "metadata": {},
   "outputs": [],
   "source": [
    "type(a) == chord.Chord"
   ]
  },
  {
   "cell_type": "code",
   "execution_count": null,
   "id": "8a4a1842",
   "metadata": {},
   "outputs": [],
   "source": [
    "b = a.notes[0]\n",
    "b"
   ]
  },
  {
   "cell_type": "code",
   "execution_count": null,
   "id": "c5978680",
   "metadata": {},
   "outputs": [],
   "source": [
    "b.getOffsetInHierarchy(s)"
   ]
  },
  {
   "cell_type": "code",
   "execution_count": null,
   "id": "13f5c0cf",
   "metadata": {},
   "outputs": [],
   "source": [
    "for el in a.notes:\n",
    "    print(el.offset)"
   ]
  },
  {
   "cell_type": "code",
   "execution_count": null,
   "id": "89ca0adc",
   "metadata": {},
   "outputs": [],
   "source": [
    "dir(a)"
   ]
  }
 ],
 "metadata": {
  "kernelspec": {
   "display_name": "Python 3 (ipykernel)",
   "language": "python",
   "name": "python3"
  },
  "language_info": {
   "codemirror_mode": {
    "name": "ipython",
    "version": 3
   },
   "file_extension": ".py",
   "mimetype": "text/x-python",
   "name": "python",
   "nbconvert_exporter": "python",
   "pygments_lexer": "ipython3",
   "version": "3.8.12"
  }
 },
 "nbformat": 4,
 "nbformat_minor": 5
}
