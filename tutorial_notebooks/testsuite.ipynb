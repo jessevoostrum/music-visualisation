{
 "cells": [
  {
   "cell_type": "code",
   "execution_count": null,
   "id": "657eefb9",
   "metadata": {},
   "outputs": [],
   "source": [
    "from music21 import *\n",
    "import os\n",
    "import re\n",
    "import pathlib\n"
   ]
  },
  {
   "cell_type": "code",
   "execution_count": null,
   "id": "24b8ac6a",
   "metadata": {},
   "outputs": [],
   "source": [
    "allF = musicxml.lilypondTestSuite.allFiles()\n",
    "\n",
    "errors = []\n",
    "\n",
    "for longFp in sorted(allF):\n",
    "    s = converter.parse(longFp, forceSource=True)\n",
    "    title = s.metadata.bestTitle.replace(\".xml\",\"\")\n",
    "    title = title.replace(\"/\", \" or \")\n",
    "    s.metadata.movementName = title\n",
    "    print(title)\n",
    "    try:\n",
    "        s.write('musicxml', '../testsuite/' + title + \".musicxml\")\n",
    "    except:\n",
    "        errors.append(title)\n"
   ]
  },
  {
   "cell_type": "code",
   "execution_count": null,
   "id": "0b213bb1",
   "metadata": {},
   "outputs": [],
   "source": [
    "allF = musicxml.lilypondTestSuite.allFiles()\n",
    "untested = [f.name for f in sorted(allF)]\n",
    "scores = {}\n",
    "musicxmlOut = {}\n",
    "\n",
    "def s(i):\n",
    "    if isinstance(i, int):\n",
    "        longFp = allF[i]\n",
    "    else:\n",
    "        for longFp in allF:\n",
    "            shortFp = longFp.name\n",
    "            if i in shortFp:\n",
    "                break\n",
    "        else:\n",
    "            raise Exception(\"Cannot find: \" + str(i))\n",
    "    shortFp = longFp.name\n",
    "    if shortFp in untested:\n",
    "        untested.remove(shortFp)\n",
    "\n",
    "    sc = converter.parse(longFp, forceSource=True)\n",
    "    scores[i] = sc\n",
    "\n",
    "    fp = pathlib.Path(sc.metadata.filePath).name\n",
    "    print(fp + '\\n')\n",
    "\n",
    "    desc = sc.metadata.description\n",
    "    desc = re.sub(r'\\s+', ' ', desc)\n",
    "    print(desc)\n",
    "\n",
    "    fpOut = sc.write('musicxml')\n",
    "    with open(fpOut, 'r') as musicxmlOutFile:\n",
    "        allOut = musicxmlOutFile.read()\n",
    "\n",
    "    musicxmlOut[i] = allOut\n",
    "    return sc"
   ]
  },
  {
   "cell_type": "code",
   "execution_count": null,
   "id": "f1e9cefd",
   "metadata": {},
   "outputs": [],
   "source": [
    "st = s('33h')"
   ]
  },
  {
   "cell_type": "code",
   "execution_count": null,
   "id": "aada77aa",
   "metadata": {},
   "outputs": [],
   "source": [
    "st.metadata.bestTitle"
   ]
  },
  {
   "cell_type": "code",
   "execution_count": null,
   "id": "3ed1053a",
   "metadata": {},
   "outputs": [],
   "source": [
    "st.write('musicxml', 'output/glissando.musicxml')"
   ]
  },
  {
   "cell_type": "code",
   "execution_count": null,
   "id": "7bb9e390",
   "metadata": {},
   "outputs": [],
   "source": []
  }
 ],
 "metadata": {
  "kernelspec": {
   "display_name": "Python 3 (ipykernel)",
   "language": "python",
   "name": "python3"
  },
  "language_info": {
   "codemirror_mode": {
    "name": "ipython",
    "version": 3
   },
   "file_extension": ".py",
   "mimetype": "text/x-python",
   "name": "python",
   "nbconvert_exporter": "python",
   "pygments_lexer": "ipython3",
   "version": "3.9.15"
  }
 },
 "nbformat": 4,
 "nbformat_minor": 5
}
