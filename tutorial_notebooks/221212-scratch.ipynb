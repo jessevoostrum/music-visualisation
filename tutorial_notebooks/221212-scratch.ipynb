{
 "cells": [
  {
   "cell_type": "code",
   "execution_count": null,
   "id": "dd63a8b7",
   "metadata": {},
   "outputs": [],
   "source": [
    "from music21 import *\n"
   ]
  },
  {
   "cell_type": "code",
   "execution_count": null,
   "id": "0d94bddb",
   "metadata": {},
   "outputs": [],
   "source": [
    "s = converter.parse(\"/Users/jvo/Library/Mobile Documents/com~apple~CloudDocs/bladmuziek/realbooks/Ultime_Jazz_Real_Book_-_B.mxl\")\n",
    "st = converter.parse(\"/Users/jvo/Downloads/baby its cold outside with first rest.mxl\")\n",
    "b = converter.parse(\"/Users/jvo/Library/Mobile Documents/com~apple~CloudDocs/bladmuziek/realbooks/Ultime_Jazz_Real_Book_-_B.mxl\")\n",
    "c = converter.parse(\"/Users/jvo/Downloads/bcoldFirstMeasure.musicxml\")\n"
   ]
  },
  {
   "cell_type": "code",
   "execution_count": null,
   "id": "9667acdc",
   "metadata": {},
   "outputs": [],
   "source": [
    "bb = converter.parse(\"/Users/jvo/Downloads/bcold-nopickup.musicxml\")\n",
    "bb.show('text')"
   ]
  },
  {
   "cell_type": "code",
   "execution_count": null,
   "id": "e12598f8",
   "metadata": {},
   "outputs": [],
   "source": [
    "bb.write('musicxml','output/bcold-nopickup-m21.musicxml')"
   ]
  },
  {
   "cell_type": "code",
   "execution_count": null,
   "id": "fff9c48f",
   "metadata": {},
   "outputs": [],
   "source": [
    "bb2 = converter.parse('output/bcold-nopickup-m21.musicxml')\n",
    "bb2.show('text')"
   ]
  },
  {
   "cell_type": "code",
   "execution_count": null,
   "id": "3884276b",
   "metadata": {},
   "outputs": [],
   "source": [
    "d = c[stream.Part][0]\n",
    "d.show('text')"
   ]
  },
  {
   "cell_type": "code",
   "execution_count": null,
   "id": "4485682f",
   "metadata": {},
   "outputs": [],
   "source": [
    "firstNote = d[note.Note][0]\n",
    "firstMeasure = d[stream.Measure][0]\n",
    "\n",
    "firstMeasure.remove(firstNote)\n",
    "v = stream.Voice()\n",
    "v.id = '1'\n",
    "v.append(firstNote)\n",
    "firstMeasure.append(v)\n",
    "firstMeasure.informSites()"
   ]
  },
  {
   "cell_type": "code",
   "execution_count": null,
   "id": "eacffe9c",
   "metadata": {},
   "outputs": [],
   "source": [
    "d.show('text')"
   ]
  },
  {
   "cell_type": "code",
   "execution_count": null,
   "id": "aedbefe3",
   "metadata": {},
   "outputs": [],
   "source": [
    "d.write('musicxml', 'output/bcold2.musicxml')"
   ]
  },
  {
   "cell_type": "code",
   "execution_count": null,
   "id": "d28f9130",
   "metadata": {},
   "outputs": [],
   "source": [
    "d2 = converter.parse(\"output/bcold.musicxml\")"
   ]
  },
  {
   "cell_type": "code",
   "execution_count": null,
   "id": "3872e9a3",
   "metadata": {},
   "outputs": [],
   "source": [
    "d2.show('text')"
   ]
  },
  {
   "cell_type": "code",
   "execution_count": null,
   "id": "0b98273f",
   "metadata": {},
   "outputs": [],
   "source": [
    "b.measures(1,33).show('text')"
   ]
  },
  {
   "cell_type": "code",
   "execution_count": null,
   "id": "82caab05",
   "metadata": {},
   "outputs": [],
   "source": [
    "s.show('text')"
   ]
  },
  {
   "cell_type": "code",
   "execution_count": null,
   "id": "e658c780",
   "metadata": {},
   "outputs": [],
   "source": [
    "st.show('text')"
   ]
  },
  {
   "cell_type": "code",
   "execution_count": null,
   "id": "12514f8a",
   "metadata": {},
   "outputs": [],
   "source": [
    "b = s.measures(1,32)\n",
    "b.show()"
   ]
  },
  {
   "cell_type": "code",
   "execution_count": null,
   "id": "4ba4f738",
   "metadata": {},
   "outputs": [],
   "source": [
    "b.show('text')"
   ]
  }
 ],
 "metadata": {
  "kernelspec": {
   "display_name": "Python 3 (ipykernel)",
   "language": "python",
   "name": "python3"
  },
  "language_info": {
   "codemirror_mode": {
    "name": "ipython",
    "version": 3
   },
   "file_extension": ".py",
   "mimetype": "text/x-python",
   "name": "python",
   "nbconvert_exporter": "python",
   "pygments_lexer": "ipython3",
   "version": "3.9.15"
  }
 },
 "nbformat": 4,
 "nbformat_minor": 5
}
