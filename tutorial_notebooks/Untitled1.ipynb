{
 "cells": [
  {
   "cell_type": "code",
   "execution_count": null,
   "id": "79dbd3a7",
   "metadata": {},
   "outputs": [],
   "source": [
    "from music21 import *"
   ]
  },
  {
   "cell_type": "code",
   "execution_count": null,
   "id": "d7e07a3b",
   "metadata": {},
   "outputs": [],
   "source": [
    "s = converter.parse(\"/Users/jvo/Library/Mobile Documents/com~apple~CloudDocs/bladmuziek/pop/Viva_la_Vida.mxl\")"
   ]
  },
  {
   "cell_type": "code",
   "execution_count": null,
   "id": "6ab6afe6",
   "metadata": {},
   "outputs": [],
   "source": [
    "notes = s[note.Note]\n",
    "notes[0]"
   ]
  },
  {
   "cell_type": "code",
   "execution_count": null,
   "id": "729ad7ae",
   "metadata": {},
   "outputs": [],
   "source": [
    "s.show()"
   ]
  }
 ],
 "metadata": {
  "kernelspec": {
   "display_name": "Python 3 (ipykernel)",
   "language": "python",
   "name": "python3"
  },
  "language_info": {
   "codemirror_mode": {
    "name": "ipython",
    "version": 3
   },
   "file_extension": ".py",
   "mimetype": "text/x-python",
   "name": "python",
   "nbconvert_exporter": "python",
   "pygments_lexer": "ipython3",
   "version": "3.9.12"
  }
 },
 "nbformat": 4,
 "nbformat_minor": 5
}
