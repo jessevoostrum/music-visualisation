{
 "cells": [
  {
   "cell_type": "markdown",
   "id": "b9f5cc81",
   "metadata": {},
   "source": [
    "\n",
    "\n",
    "heightA4 = 11.69\n",
    "\n",
    "font size repeat expressions: \n",
    "- vulf: 0.035 inch\n",
    "- segno: 0.025 inch\n",
    "- coda: 0.019 inch\n",
    "\n",
    "font dimensions:\n",
    "- Courier New:\n",
    "    - 0.0006843455945252353\n",
    "- Helvetica 500= 5 inch\n",
    "    - 0.01 inch/pt\n",
    "    - 0.0008554 a4height/pt\n",
    "- DejaVu Sans 500 = 5.1 inch\n",
    "    - 0.0102 inch/pt\n",
    "    - 0.0008725 a4height/pt\n",
    "- arial 500 = 5 inch\n",
    "    - 0.01 inch/pt\n",
    "    - 0.0008554 a4height/pt\n",
    "- vulf 800pt = 7.1 inch: \n",
    "    - 0.008875 inch/pt\n",
    "    - 0.000759 a4height/pt ( in current code we use 0.00075 )\n",
    "- segno 1200 = 7.6 inch\n",
    "    - 0.006333 inch/pt\n",
    "    - 0.000542 a4height/pt\n",
    "- coda 1500 = 7.13\n",
    "    - 0.004753 inch/pt\n",
    "    - 0.000407 a4height/pt"
   ]
  },
  {
   "cell_type": "code",
   "execution_count": null,
   "id": "52898e31",
   "metadata": {},
   "outputs": [],
   "source": [
    "def computeHeightPerPt(height):\n",
    "    a4Height = 11.69\n",
    "    fontSize = 500\n",
    "    heightPerPt = height / fontSize / a4Height \n",
    "    return heightPerPt\n",
    "\n",
    "computeHeightPerPt(4)"
   ]
  },
  {
   "cell_type": "code",
   "execution_count": null,
   "id": "8bd71a9e",
   "metadata": {},
   "outputs": [],
   "source": [
    "7.13 / 1500 #/ 11.69 "
   ]
  },
  {
   "cell_type": "code",
   "execution_count": null,
   "id": "9e2e515d",
   "metadata": {},
   "outputs": [],
   "source": [
    "0.035/0.019"
   ]
  },
  {
   "cell_type": "code",
   "execution_count": null,
   "id": "8676488c",
   "metadata": {},
   "outputs": [],
   "source": [
    "import matplotlib.font_manager as fm\n",
    "import matplotlib.pyplot as plt\n",
    "import numpy as np"
   ]
  },
  {
   "cell_type": "code",
   "execution_count": null,
   "id": "aab87af1",
   "metadata": {},
   "outputs": [],
   "source": [
    "fp1=fm.FontProperties(fname=\"/Users/jvo/Library/Mobile Documents/com~apple~CloudDocs/fonts/symbola/Symbola.ttf\")\n",
    "fp2=fm.FontProperties(fname=\"/Users/jvo/Library/Mobile Documents/com~apple~CloudDocs/OH no Type Company Order #e6cd109/Vulf Mono/Desktop/VulfMono-LightItalic.otf\")\n"
   ]
  },
  {
   "cell_type": "code",
   "execution_count": null,
   "id": "427c8717",
   "metadata": {},
   "outputs": [],
   "source": [
    "name = 'segno'\n",
    "fp = fp1\n",
    "fontsize = 16\n",
    "if name == 'segno':\n",
    "    text = \"𝄋\"\n",
    "elif name == 'coda':\n",
    "    text = '𝄌'\n",
    "    fontsize=24"
   ]
  },
  {
   "cell_type": "code",
   "execution_count": null,
   "id": "754769d6",
   "metadata": {},
   "outputs": [],
   "source": [
    "widthA4 = 8.27\n",
    "heightA4 = 11.69\n",
    "\n",
    "fig, ax = plt.subplots(figsize=(10,10))\n",
    "\n",
    "lim = 1\n",
    "ax.set_xlim(0,lim)\n",
    "ax.set_ylim(0,lim)\n",
    "\n",
    "major_ticks = np.arange(0, 1, .05)\n",
    "minor_ticks = np.arange(0, 1, .01)\n",
    "\n",
    "ax.set_xticks(major_ticks)\n",
    "ax.set_xticks(minor_ticks, minor=True)\n",
    "ax.set_yticks(major_ticks)\n",
    "ax.set_yticks(minor_ticks, minor=True)\n",
    "\n",
    "# And a corresponding grid\n",
    "ax.grid(which='both')\n",
    "\n",
    "# Or if you want different settings for the grids:\n",
    "ax.grid(which='minor', alpha=0.2)\n",
    "ax.grid(which='major', alpha=0.5)\n",
    "\n",
    "\n",
    "ax.set_position([0, 0, 1, 1]) # axes labels are printed outside the space of the axis\n",
    "\n",
    "ax.text(0.5, 0, \"𝄌\", fontsize=1500, va='bottom', ha='center', fontproperties=fp1, )\n",
    "# ax.text(1, 0, \"𝄌\", fontsize=1.84* 300, va='bottom', ha='right', fontproperties=fp1, )\n",
    "# ax.text(0, 0, \"1\", fontsize=800, va='baseline', fontproperties=fp2, )"
   ]
  },
  {
   "cell_type": "code",
   "execution_count": null,
   "id": "a4789c9e",
   "metadata": {},
   "outputs": [],
   "source": [
    "widthA4 = 8.27\n",
    "heightA4 = 11.69\n",
    "\n",
    "fig, ax = plt.subplots(figsize=(10,10))\n",
    "\n",
    "lim = 1\n",
    "ax.set_xlim(0,lim)\n",
    "ax.set_ylim(0,lim)\n",
    "\n",
    "major_ticks = np.arange(0, 1, .05)\n",
    "minor_ticks = np.arange(0, 1, .01)\n",
    "\n",
    "ax.set_xticks(major_ticks)\n",
    "ax.set_xticks(minor_ticks, minor=True)\n",
    "ax.set_yticks(major_ticks)\n",
    "ax.set_yticks(minor_ticks, minor=True)\n",
    "\n",
    "# And a corresponding grid\n",
    "ax.grid(which='both')\n",
    "\n",
    "# Or if you want different settings for the grids:\n",
    "ax.grid(which='minor', alpha=0.2)\n",
    "ax.grid(which='major', alpha=0.5)\n",
    "\n",
    "\n",
    "ax.set_position([0, 0, 1, 1]) # axes labels are printed outside the space of the axis\n",
    "\n",
    "ax.text(0.5, 0, \"ABC\", fontsize=500, va='baseline', ha='center', font='Courier New', fontstyle='normal')\n"
   ]
  },
  {
   "cell_type": "code",
   "execution_count": null,
   "id": "85284877",
   "metadata": {},
   "outputs": [],
   "source": []
  },
  {
   "cell_type": "code",
   "execution_count": null,
   "id": "0021188d",
   "metadata": {},
   "outputs": [],
   "source": []
  }
 ],
 "metadata": {
  "kernelspec": {
   "display_name": "Python 3 (ipykernel)",
   "language": "python",
   "name": "python3"
  },
  "language_info": {
   "codemirror_mode": {
    "name": "ipython",
    "version": 3
   },
   "file_extension": ".py",
   "mimetype": "text/x-python",
   "name": "python",
   "nbconvert_exporter": "python",
   "pygments_lexer": "ipython3",
   "version": "3.9.15"
  }
 },
 "nbformat": 4,
 "nbformat_minor": 5
}
