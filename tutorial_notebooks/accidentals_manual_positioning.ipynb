{
 "cells": [
  {
   "cell_type": "code",
   "execution_count": null,
   "id": "e52f004c",
   "metadata": {},
   "outputs": [],
   "source": [
    "import matplotlib.pyplot as plt\n",
    "from matplotlib.patches import FancyBboxPatch, Rectangle\n",
    "from music21 import *"
   ]
  },
  {
   "cell_type": "code",
   "execution_count": null,
   "id": "7bfb902e",
   "metadata": {},
   "outputs": [],
   "source": [
    "s = converter.parse('tinyNotation: 4/4 C4 D4 E-4 F4 G4 A4 B4 c4')\n",
    "s.show()"
   ]
  },
  {
   "cell_type": "code",
   "execution_count": null,
   "id": "e9bc657f",
   "metadata": {},
   "outputs": [],
   "source": [
    "s[note.Note][2].accidental"
   ]
  },
  {
   "cell_type": "code",
   "execution_count": null,
   "id": "e29d7460",
   "metadata": {},
   "outputs": [],
   "source": [
    "a = pitch.Accidental('flat')\n",
    "a.modifier"
   ]
  },
  {
   "cell_type": "code",
   "execution_count": null,
   "id": "9bac37ca",
   "metadata": {},
   "outputs": [],
   "source": [
    "if z:\n",
    "    print(3)"
   ]
  },
  {
   "cell_type": "code",
   "execution_count": null,
   "id": "bfd1abed",
   "metadata": {},
   "outputs": [],
   "source": [
    "widthA4 = 8.27\n",
    "heightA4 = 11.69\n",
    "\n",
    "fig, ax = plt.subplots(figsize=(widthA4,heightA4))\n",
    "\n",
    "x = 0.5\n",
    "y = 0.5\n",
    "ax.text(x, y, \"3\", fontsize=10, ha='left', va='baseline')\n",
    "\n",
    "width_number = 0.0084\n",
    "height_number = 0.01\n",
    "\n",
    "ax.text(x - width_number, y + height_number, \"#\", fontsize=7, ha='left')\n",
    "\n"
   ]
  }
 ],
 "metadata": {
  "kernelspec": {
   "display_name": "Python 3 (ipykernel)",
   "language": "python",
   "name": "python3"
  },
  "language_info": {
   "codemirror_mode": {
    "name": "ipython",
    "version": 3
   },
   "file_extension": ".py",
   "mimetype": "text/x-python",
   "name": "python",
   "nbconvert_exporter": "python",
   "pygments_lexer": "ipython3",
   "version": "3.8.12"
  }
 },
 "nbformat": 4,
 "nbformat_minor": 5
}
