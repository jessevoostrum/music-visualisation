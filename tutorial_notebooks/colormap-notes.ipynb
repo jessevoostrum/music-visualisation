{
 "cells": [
  {
   "cell_type": "markdown",
   "id": "7b216666",
   "metadata": {},
   "source": [
    "see https://colorcet.holoviz.org/user_guide/Continuous.html for more types of cyclic colormaps"
   ]
  },
  {
   "cell_type": "code",
   "execution_count": null,
   "id": "320ca640",
   "metadata": {},
   "outputs": [],
   "source": [
    "import numpy as np\n",
    "import colorcet as cc\n",
    "import matplotlib.pyplot as plt\n",
    "from matplotlib import cm"
   ]
  },
  {
   "cell_type": "code",
   "execution_count": null,
   "id": "8cb955ba",
   "metadata": {},
   "outputs": [],
   "source": [
    "import matplotlib.pyplot as plt\n",
    "\n",
    "labels = [0, 7, 2, 9, 4, 11, 6, 1, 8, 3, 10, 5]\n",
    "labels = [1, 5, 2, 6, 3, 7, '#4/b5', '#1/b2', '#5/b6', '#2/b3', '#6/b7', '4']\n",
    "\n",
    "sizes = [1] * 12\n",
    "\n",
    "cmap = cc.cm.colorwheel\n",
    "# cmap = cm.twilight\n",
    "\n",
    "colors = [cmap(i/12) for i in range(12)]\n",
    "\n",
    "fig1, ax1 = plt.subplots()\n",
    "ax1.pie(sizes, labels=labels, startangle=105, colors=colors, wedgeprops = {\"alpha\": 0.5}, counterclock=False,\n",
    "       labeldistance=0.75, \n",
    "    textprops = dict(ha='center')) #rotation_mode = 'anchor', va='center', \n",
    "\n",
    "ax1.axis('equal')  # Equal aspect ratio ensures that pie is drawn as a circle.\n",
    "\n",
    "plt.show()"
   ]
  }
 ],
 "metadata": {
  "kernelspec": {
   "display_name": "Python 3 (ipykernel)",
   "language": "python",
   "name": "python3"
  },
  "language_info": {
   "codemirror_mode": {
    "name": "ipython",
    "version": 3
   },
   "file_extension": ".py",
   "mimetype": "text/x-python",
   "name": "python",
   "nbconvert_exporter": "python",
   "pygments_lexer": "ipython3",
   "version": "3.9.15"
  }
 },
 "nbformat": 4,
 "nbformat_minor": 5
}
