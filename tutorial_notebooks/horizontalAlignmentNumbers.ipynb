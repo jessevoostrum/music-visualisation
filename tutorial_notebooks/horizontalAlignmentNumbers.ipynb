{
 "cells": [
  {
   "cell_type": "code",
   "execution_count": null,
   "id": "0f21696c",
   "metadata": {},
   "outputs": [],
   "source": [
    "import matplotlib.pyplot as plt\n"
   ]
  },
  {
   "cell_type": "code",
   "execution_count": null,
   "id": "25079783",
   "metadata": {},
   "outputs": [],
   "source": [
    "fig, ax = plt.subplots(figsize=(10,10))\n",
    "\n",
    "ax.plot(.5,.5, 'bo')\n",
    "ax.text(.5,.5, \"g\", fontsize = 30, ha='center')\n",
    "ax.plot(.5,.3, 'bo')\n",
    "ax.text(.5,.3, \"$3$\", fontsize = 30, ha='left')\n",
    "ax.plot(.5,.1, 'bo')\n",
    "ax.text(.5,.1, \"a\", fontsize = 30, ha='right')"
   ]
  },
  {
   "cell_type": "code",
   "execution_count": null,
   "id": "b547852b",
   "metadata": {},
   "outputs": [],
   "source": []
  }
 ],
 "metadata": {
  "kernelspec": {
   "display_name": "Python 3 (ipykernel)",
   "language": "python",
   "name": "python3"
  },
  "language_info": {
   "codemirror_mode": {
    "name": "ipython",
    "version": 3
   },
   "file_extension": ".py",
   "mimetype": "text/x-python",
   "name": "python",
   "nbconvert_exporter": "python",
   "pygments_lexer": "ipython3",
   "version": "3.8.12"
  }
 },
 "nbformat": 4,
 "nbformat_minor": 5
}
